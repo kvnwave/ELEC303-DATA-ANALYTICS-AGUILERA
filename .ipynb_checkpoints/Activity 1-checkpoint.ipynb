{
 "cells": [
  {
   "cell_type": "markdown",
   "id": "84a5acc0-3496-4152-beb7-3cf027d84177",
   "metadata": {},
   "source": [
    "<h1>Palmer Penguin Data Analytics</h1>\n",
    "<hr>\n",
    "<h3>Analyst: John Kevin Aguilera</h3>"
   ]
  },
  {
   "cell_type": "code",
   "execution_count": 1,
   "id": "a7bd4c23-a5d0-4b1c-b250-764ff7406513",
   "metadata": {},
   "outputs": [],
   "source": [
    "import numpy as np\n",
    "import pandas as pd\n",
    "import warnings\n",
    "warnings.filterwarnings('ignore')"
   ]
  },
  {
   "cell_type": "markdown",
   "id": "c493a655-1863-4c50-a953-c925114e95a3",
   "metadata": {},
   "source": [
    "<p> Importing datasets to Jupyter notebook</p>\n",
    "<p> Converting datasets to dataframe </p>\n",
    "<ul>Requirements\n",
    "    <li>Name of the dataframe</li>\n",
    "    <li>Source</li>"
   ]
  },
  {
   "cell_type": "code",
   "execution_count": 2,
   "id": "5b28d8c7-a7be-48bb-b38e-a584c57fca94",
   "metadata": {},
   "outputs": [],
   "source": [
    "penguins = pd.read_csv('datasets\\\\penguins.csv')"
   ]
  },
  {
   "cell_type": "code",
   "execution_count": 3,
   "id": "1b5fcd14-514b-4eec-9d60-0f1bbd34c150",
   "metadata": {},
   "outputs": [
    {
     "data": {
      "text/html": [
       "<div>\n",
       "<style scoped>\n",
       "    .dataframe tbody tr th:only-of-type {\n",
       "        vertical-align: middle;\n",
       "    }\n",
       "\n",
       "    .dataframe tbody tr th {\n",
       "        vertical-align: top;\n",
       "    }\n",
       "\n",
       "    .dataframe thead th {\n",
       "        text-align: right;\n",
       "    }\n",
       "</style>\n",
       "<table border=\"1\" class=\"dataframe\">\n",
       "  <thead>\n",
       "    <tr style=\"text-align: right;\">\n",
       "      <th></th>\n",
       "      <th>species</th>\n",
       "      <th>island</th>\n",
       "      <th>bill_length_mm</th>\n",
       "      <th>bill_depth_mm</th>\n",
       "      <th>flipper_length_mm</th>\n",
       "      <th>body_mass_g</th>\n",
       "      <th>sex</th>\n",
       "      <th>year</th>\n",
       "    </tr>\n",
       "  </thead>\n",
       "  <tbody>\n",
       "    <tr>\n",
       "      <th>0</th>\n",
       "      <td>Adelie</td>\n",
       "      <td>Torgersen</td>\n",
       "      <td>39.1</td>\n",
       "      <td>18.7</td>\n",
       "      <td>181.0</td>\n",
       "      <td>3750.0</td>\n",
       "      <td>male</td>\n",
       "      <td>2007</td>\n",
       "    </tr>\n",
       "    <tr>\n",
       "      <th>1</th>\n",
       "      <td>Adelie</td>\n",
       "      <td>Torgersen</td>\n",
       "      <td>39.5</td>\n",
       "      <td>17.4</td>\n",
       "      <td>186.0</td>\n",
       "      <td>3800.0</td>\n",
       "      <td>female</td>\n",
       "      <td>2007</td>\n",
       "    </tr>\n",
       "    <tr>\n",
       "      <th>2</th>\n",
       "      <td>Adelie</td>\n",
       "      <td>Torgersen</td>\n",
       "      <td>40.3</td>\n",
       "      <td>18.0</td>\n",
       "      <td>195.0</td>\n",
       "      <td>3250.0</td>\n",
       "      <td>female</td>\n",
       "      <td>2007</td>\n",
       "    </tr>\n",
       "    <tr>\n",
       "      <th>3</th>\n",
       "      <td>Adelie</td>\n",
       "      <td>Torgersen</td>\n",
       "      <td>NaN</td>\n",
       "      <td>NaN</td>\n",
       "      <td>NaN</td>\n",
       "      <td>NaN</td>\n",
       "      <td>NaN</td>\n",
       "      <td>2007</td>\n",
       "    </tr>\n",
       "    <tr>\n",
       "      <th>4</th>\n",
       "      <td>Adelie</td>\n",
       "      <td>Torgersen</td>\n",
       "      <td>36.7</td>\n",
       "      <td>19.3</td>\n",
       "      <td>193.0</td>\n",
       "      <td>3450.0</td>\n",
       "      <td>female</td>\n",
       "      <td>2007</td>\n",
       "    </tr>\n",
       "    <tr>\n",
       "      <th>...</th>\n",
       "      <td>...</td>\n",
       "      <td>...</td>\n",
       "      <td>...</td>\n",
       "      <td>...</td>\n",
       "      <td>...</td>\n",
       "      <td>...</td>\n",
       "      <td>...</td>\n",
       "      <td>...</td>\n",
       "    </tr>\n",
       "    <tr>\n",
       "      <th>339</th>\n",
       "      <td>Chinstrap</td>\n",
       "      <td>Dream</td>\n",
       "      <td>55.8</td>\n",
       "      <td>19.8</td>\n",
       "      <td>207.0</td>\n",
       "      <td>4000.0</td>\n",
       "      <td>male</td>\n",
       "      <td>2009</td>\n",
       "    </tr>\n",
       "    <tr>\n",
       "      <th>340</th>\n",
       "      <td>Chinstrap</td>\n",
       "      <td>Dream</td>\n",
       "      <td>43.5</td>\n",
       "      <td>18.1</td>\n",
       "      <td>202.0</td>\n",
       "      <td>3400.0</td>\n",
       "      <td>female</td>\n",
       "      <td>2009</td>\n",
       "    </tr>\n",
       "    <tr>\n",
       "      <th>341</th>\n",
       "      <td>Chinstrap</td>\n",
       "      <td>Dream</td>\n",
       "      <td>49.6</td>\n",
       "      <td>18.2</td>\n",
       "      <td>193.0</td>\n",
       "      <td>3775.0</td>\n",
       "      <td>male</td>\n",
       "      <td>2009</td>\n",
       "    </tr>\n",
       "    <tr>\n",
       "      <th>342</th>\n",
       "      <td>Chinstrap</td>\n",
       "      <td>Dream</td>\n",
       "      <td>50.8</td>\n",
       "      <td>19.0</td>\n",
       "      <td>210.0</td>\n",
       "      <td>4100.0</td>\n",
       "      <td>male</td>\n",
       "      <td>2009</td>\n",
       "    </tr>\n",
       "    <tr>\n",
       "      <th>343</th>\n",
       "      <td>Chinstrap</td>\n",
       "      <td>Dream</td>\n",
       "      <td>50.2</td>\n",
       "      <td>18.7</td>\n",
       "      <td>198.0</td>\n",
       "      <td>3775.0</td>\n",
       "      <td>female</td>\n",
       "      <td>2009</td>\n",
       "    </tr>\n",
       "  </tbody>\n",
       "</table>\n",
       "<p>344 rows × 8 columns</p>\n",
       "</div>"
      ],
      "text/plain": [
       "       species     island  bill_length_mm  bill_depth_mm  flipper_length_mm  \\\n",
       "0       Adelie  Torgersen            39.1           18.7              181.0   \n",
       "1       Adelie  Torgersen            39.5           17.4              186.0   \n",
       "2       Adelie  Torgersen            40.3           18.0              195.0   \n",
       "3       Adelie  Torgersen             NaN            NaN                NaN   \n",
       "4       Adelie  Torgersen            36.7           19.3              193.0   \n",
       "..         ...        ...             ...            ...                ...   \n",
       "339  Chinstrap      Dream            55.8           19.8              207.0   \n",
       "340  Chinstrap      Dream            43.5           18.1              202.0   \n",
       "341  Chinstrap      Dream            49.6           18.2              193.0   \n",
       "342  Chinstrap      Dream            50.8           19.0              210.0   \n",
       "343  Chinstrap      Dream            50.2           18.7              198.0   \n",
       "\n",
       "     body_mass_g     sex  year  \n",
       "0         3750.0    male  2007  \n",
       "1         3800.0  female  2007  \n",
       "2         3250.0  female  2007  \n",
       "3            NaN     NaN  2007  \n",
       "4         3450.0  female  2007  \n",
       "..           ...     ...   ...  \n",
       "339       4000.0    male  2009  \n",
       "340       3400.0  female  2009  \n",
       "341       3775.0    male  2009  \n",
       "342       4100.0    male  2009  \n",
       "343       3775.0  female  2009  \n",
       "\n",
       "[344 rows x 8 columns]"
      ]
     },
     "execution_count": 3,
     "metadata": {},
     "output_type": "execute_result"
    }
   ],
   "source": [
    "penguins"
   ]
  },
  {
   "cell_type": "markdown",
   "id": "ad4624b4-21bd-46fa-9d8a-7950cb2d633a",
   "metadata": {},
   "source": [
    "<h1>How to fillup Null values</h1>"
   ]
  },
  {
   "cell_type": "code",
   "execution_count": 4,
   "id": "307c0369-1120-4d3b-828b-13bbf89febfc",
   "metadata": {},
   "outputs": [],
   "source": [
    "chinstrap_weight = penguins[(penguins['species'] == \"Chinstrap\") & (penguins['body_mass_g'] >= 4000)]"
   ]
  },
  {
   "cell_type": "markdown",
   "id": "c2cab270-9676-4c92-9408-65fb25823697",
   "metadata": {},
   "source": [
    "<h5>Filling up bill_lenght_mm</h5>"
   ]
  },
  {
   "cell_type": "code",
   "execution_count": 5,
   "id": "d22bcfe4-a2db-42b1-a7c4-aadf70abf6f0",
   "metadata": {},
   "outputs": [
    {
     "data": {
      "text/plain": [
       "np.float64(43.9219298245614)"
      ]
     },
     "execution_count": 5,
     "metadata": {},
     "output_type": "execute_result"
    }
   ],
   "source": [
    "penguins['bill_length_mm'].mean()"
   ]
  },
  {
   "cell_type": "code",
   "execution_count": 6,
   "id": "54c24148-5bdd-4129-9b2c-b64470c79ae8",
   "metadata": {},
   "outputs": [
    {
     "data": {
      "text/plain": [
       "0      39.10000\n",
       "1      39.50000\n",
       "2      40.30000\n",
       "3      43.92193\n",
       "4      36.70000\n",
       "         ...   \n",
       "339    55.80000\n",
       "340    43.50000\n",
       "341    49.60000\n",
       "342    50.80000\n",
       "343    50.20000\n",
       "Name: bill_length_mm, Length: 344, dtype: float64"
      ]
     },
     "execution_count": 6,
     "metadata": {},
     "output_type": "execute_result"
    }
   ],
   "source": [
    "penguins['bill_length_mm'].fillna(penguins['bill_length_mm'].mean())"
   ]
  },
  {
   "cell_type": "code",
   "execution_count": 7,
   "id": "5ae6eb46-70f9-4069-8eca-f3587c986e37",
   "metadata": {},
   "outputs": [],
   "source": [
    "penguins['bill_length_mm'] = penguins['bill_length_mm'].fillna(penguins['bill_length_mm'].mean())"
   ]
  },
  {
   "cell_type": "code",
   "execution_count": 8,
   "id": "2b6d266e-71e0-4b5f-b648-dc92bbb42a71",
   "metadata": {},
   "outputs": [
    {
     "data": {
      "text/plain": [
       "species               0\n",
       "island                0\n",
       "bill_length_mm        0\n",
       "bill_depth_mm         2\n",
       "flipper_length_mm     2\n",
       "body_mass_g           2\n",
       "sex                  11\n",
       "year                  0\n",
       "dtype: int64"
      ]
     },
     "execution_count": 8,
     "metadata": {},
     "output_type": "execute_result"
    }
   ],
   "source": [
    "penguins.isnull().sum()"
   ]
  },
  {
   "cell_type": "markdown",
   "id": "7f39f9ed-dea6-4d32-82a9-9f5d53324417",
   "metadata": {},
   "source": [
    "<p>Filling up sex</p>"
   ]
  },
  {
   "cell_type": "code",
   "execution_count": 9,
   "id": "d9bdb3af-7223-4814-9941-dd0db69b4aa7",
   "metadata": {},
   "outputs": [
    {
     "data": {
      "text/plain": [
       "0    male\n",
       "Name: sex, dtype: object"
      ]
     },
     "execution_count": 9,
     "metadata": {},
     "output_type": "execute_result"
    }
   ],
   "source": [
    "penguins['sex'].mode()"
   ]
  },
  {
   "cell_type": "code",
   "execution_count": 10,
   "id": "cffba500-368f-4423-8ce5-0d98047e9a9d",
   "metadata": {},
   "outputs": [],
   "source": [
    "penguins['sex'] = penguins['sex'].fillna(penguins['sex'].mode()[0])"
   ]
  },
  {
   "cell_type": "code",
   "execution_count": 11,
   "id": "7ad13bbf-6bec-4992-a53b-13192530f6ba",
   "metadata": {},
   "outputs": [
    {
     "data": {
      "text/plain": [
       "np.float64(17.151169590643274)"
      ]
     },
     "execution_count": 11,
     "metadata": {},
     "output_type": "execute_result"
    }
   ],
   "source": [
    "penguins['bill_depth_mm'].mean()"
   ]
  },
  {
   "cell_type": "code",
   "execution_count": 12,
   "id": "ae56ff5a-c067-41a7-b379-a689aed39c99",
   "metadata": {},
   "outputs": [],
   "source": [
    "penguins['bill_depth_mm'] = penguins['bill_depth_mm'].fillna(penguins['bill_depth_mm'].mean())"
   ]
  },
  {
   "cell_type": "code",
   "execution_count": 13,
   "id": "6386e6c6-5870-4603-af39-b19e5e7cfb74",
   "metadata": {},
   "outputs": [
    {
     "data": {
      "text/plain": [
       "np.float64(200.91520467836258)"
      ]
     },
     "execution_count": 13,
     "metadata": {},
     "output_type": "execute_result"
    }
   ],
   "source": [
    "penguins['flipper_length_mm'].mean()"
   ]
  },
  {
   "cell_type": "code",
   "execution_count": 14,
   "id": "a3eccdd6-8228-4872-ac74-64360716cf75",
   "metadata": {},
   "outputs": [],
   "source": [
    "penguins['flipper_length_mm'] = penguins['flipper_length_mm'].fillna(penguins['flipper_length_mm'].mean())"
   ]
  },
  {
   "cell_type": "code",
   "execution_count": 15,
   "id": "01061040-7867-4bc5-9996-62b94302710c",
   "metadata": {},
   "outputs": [
    {
     "data": {
      "text/plain": [
       "np.float64(4201.754385964912)"
      ]
     },
     "execution_count": 15,
     "metadata": {},
     "output_type": "execute_result"
    }
   ],
   "source": [
    "penguins['body_mass_g'].mean()"
   ]
  },
  {
   "cell_type": "code",
   "execution_count": 16,
   "id": "f1c34d3f-bc44-41db-a2cc-ea878cdfda54",
   "metadata": {},
   "outputs": [],
   "source": [
    "penguins['body_mass_g'] = penguins['body_mass_g'].fillna(penguins['body_mass_g'].mean())"
   ]
  },
  {
   "cell_type": "code",
   "execution_count": 17,
   "id": "078ec5da-aa35-44c3-ab72-2ed083bd315b",
   "metadata": {},
   "outputs": [
    {
     "data": {
      "text/plain": [
       "species              0\n",
       "island               0\n",
       "bill_length_mm       0\n",
       "bill_depth_mm        0\n",
       "flipper_length_mm    0\n",
       "body_mass_g          0\n",
       "sex                  0\n",
       "year                 0\n",
       "dtype: int64"
      ]
     },
     "execution_count": 17,
     "metadata": {},
     "output_type": "execute_result"
    }
   ],
   "source": [
    "penguins.isnull().sum()"
   ]
  },
  {
   "cell_type": "markdown",
   "id": "6b4112aa-3e1a-48ed-9239-7a2e06b63b59",
   "metadata": {},
   "source": [
    "<h1>Descriptive Analysis</h1> "
   ]
  },
  {
   "cell_type": "code",
   "execution_count": 18,
   "id": "8d57a8e0-3716-4049-b815-87b5bb995b62",
   "metadata": {},
   "outputs": [
    {
     "data": {
      "text/html": [
       "<div>\n",
       "<style scoped>\n",
       "    .dataframe tbody tr th:only-of-type {\n",
       "        vertical-align: middle;\n",
       "    }\n",
       "\n",
       "    .dataframe tbody tr th {\n",
       "        vertical-align: top;\n",
       "    }\n",
       "\n",
       "    .dataframe thead th {\n",
       "        text-align: right;\n",
       "    }\n",
       "</style>\n",
       "<table border=\"1\" class=\"dataframe\">\n",
       "  <thead>\n",
       "    <tr style=\"text-align: right;\">\n",
       "      <th></th>\n",
       "      <th>bill_length_mm</th>\n",
       "      <th>bill_depth_mm</th>\n",
       "      <th>flipper_length_mm</th>\n",
       "      <th>body_mass_g</th>\n",
       "      <th>year</th>\n",
       "    </tr>\n",
       "  </thead>\n",
       "  <tbody>\n",
       "    <tr>\n",
       "      <th>count</th>\n",
       "      <td>344.000000</td>\n",
       "      <td>344.000000</td>\n",
       "      <td>344.000000</td>\n",
       "      <td>344.000000</td>\n",
       "      <td>344.000000</td>\n",
       "    </tr>\n",
       "    <tr>\n",
       "      <th>mean</th>\n",
       "      <td>43.921930</td>\n",
       "      <td>17.151170</td>\n",
       "      <td>200.915205</td>\n",
       "      <td>4201.754386</td>\n",
       "      <td>2008.029070</td>\n",
       "    </tr>\n",
       "    <tr>\n",
       "      <th>std</th>\n",
       "      <td>5.443643</td>\n",
       "      <td>1.969027</td>\n",
       "      <td>14.020657</td>\n",
       "      <td>799.613058</td>\n",
       "      <td>0.818356</td>\n",
       "    </tr>\n",
       "    <tr>\n",
       "      <th>min</th>\n",
       "      <td>32.100000</td>\n",
       "      <td>13.100000</td>\n",
       "      <td>172.000000</td>\n",
       "      <td>2700.000000</td>\n",
       "      <td>2007.000000</td>\n",
       "    </tr>\n",
       "    <tr>\n",
       "      <th>25%</th>\n",
       "      <td>39.275000</td>\n",
       "      <td>15.600000</td>\n",
       "      <td>190.000000</td>\n",
       "      <td>3550.000000</td>\n",
       "      <td>2007.000000</td>\n",
       "    </tr>\n",
       "    <tr>\n",
       "      <th>50%</th>\n",
       "      <td>44.250000</td>\n",
       "      <td>17.300000</td>\n",
       "      <td>197.000000</td>\n",
       "      <td>4050.000000</td>\n",
       "      <td>2008.000000</td>\n",
       "    </tr>\n",
       "    <tr>\n",
       "      <th>75%</th>\n",
       "      <td>48.500000</td>\n",
       "      <td>18.700000</td>\n",
       "      <td>213.000000</td>\n",
       "      <td>4750.000000</td>\n",
       "      <td>2009.000000</td>\n",
       "    </tr>\n",
       "    <tr>\n",
       "      <th>max</th>\n",
       "      <td>59.600000</td>\n",
       "      <td>21.500000</td>\n",
       "      <td>231.000000</td>\n",
       "      <td>6300.000000</td>\n",
       "      <td>2009.000000</td>\n",
       "    </tr>\n",
       "  </tbody>\n",
       "</table>\n",
       "</div>"
      ],
      "text/plain": [
       "       bill_length_mm  bill_depth_mm  flipper_length_mm  body_mass_g  \\\n",
       "count      344.000000     344.000000         344.000000   344.000000   \n",
       "mean        43.921930      17.151170         200.915205  4201.754386   \n",
       "std          5.443643       1.969027          14.020657   799.613058   \n",
       "min         32.100000      13.100000         172.000000  2700.000000   \n",
       "25%         39.275000      15.600000         190.000000  3550.000000   \n",
       "50%         44.250000      17.300000         197.000000  4050.000000   \n",
       "75%         48.500000      18.700000         213.000000  4750.000000   \n",
       "max         59.600000      21.500000         231.000000  6300.000000   \n",
       "\n",
       "              year  \n",
       "count   344.000000  \n",
       "mean   2008.029070  \n",
       "std       0.818356  \n",
       "min    2007.000000  \n",
       "25%    2007.000000  \n",
       "50%    2008.000000  \n",
       "75%    2009.000000  \n",
       "max    2009.000000  "
      ]
     },
     "execution_count": 18,
     "metadata": {},
     "output_type": "execute_result"
    }
   ],
   "source": [
    "penguins.describe()"
   ]
  },
  {
   "cell_type": "code",
   "execution_count": 19,
   "id": "2f335143-1e0c-4b8c-9d36-3646cd389e7b",
   "metadata": {},
   "outputs": [
    {
     "data": {
      "text/html": [
       "<div>\n",
       "<style scoped>\n",
       "    .dataframe tbody tr th:only-of-type {\n",
       "        vertical-align: middle;\n",
       "    }\n",
       "\n",
       "    .dataframe tbody tr th {\n",
       "        vertical-align: top;\n",
       "    }\n",
       "\n",
       "    .dataframe thead th {\n",
       "        text-align: right;\n",
       "    }\n",
       "</style>\n",
       "<table border=\"1\" class=\"dataframe\">\n",
       "  <thead>\n",
       "    <tr style=\"text-align: right;\">\n",
       "      <th></th>\n",
       "      <th>count</th>\n",
       "      <th>mean</th>\n",
       "      <th>std</th>\n",
       "      <th>min</th>\n",
       "      <th>25%</th>\n",
       "      <th>50%</th>\n",
       "      <th>75%</th>\n",
       "      <th>max</th>\n",
       "    </tr>\n",
       "  </thead>\n",
       "  <tbody>\n",
       "    <tr>\n",
       "      <th>bill_length_mm</th>\n",
       "      <td>344.0</td>\n",
       "      <td>43.921930</td>\n",
       "      <td>5.443643</td>\n",
       "      <td>32.1</td>\n",
       "      <td>39.275</td>\n",
       "      <td>44.25</td>\n",
       "      <td>48.5</td>\n",
       "      <td>59.6</td>\n",
       "    </tr>\n",
       "    <tr>\n",
       "      <th>bill_depth_mm</th>\n",
       "      <td>344.0</td>\n",
       "      <td>17.151170</td>\n",
       "      <td>1.969027</td>\n",
       "      <td>13.1</td>\n",
       "      <td>15.600</td>\n",
       "      <td>17.30</td>\n",
       "      <td>18.7</td>\n",
       "      <td>21.5</td>\n",
       "    </tr>\n",
       "    <tr>\n",
       "      <th>flipper_length_mm</th>\n",
       "      <td>344.0</td>\n",
       "      <td>200.915205</td>\n",
       "      <td>14.020657</td>\n",
       "      <td>172.0</td>\n",
       "      <td>190.000</td>\n",
       "      <td>197.00</td>\n",
       "      <td>213.0</td>\n",
       "      <td>231.0</td>\n",
       "    </tr>\n",
       "    <tr>\n",
       "      <th>body_mass_g</th>\n",
       "      <td>344.0</td>\n",
       "      <td>4201.754386</td>\n",
       "      <td>799.613058</td>\n",
       "      <td>2700.0</td>\n",
       "      <td>3550.000</td>\n",
       "      <td>4050.00</td>\n",
       "      <td>4750.0</td>\n",
       "      <td>6300.0</td>\n",
       "    </tr>\n",
       "    <tr>\n",
       "      <th>year</th>\n",
       "      <td>344.0</td>\n",
       "      <td>2008.029070</td>\n",
       "      <td>0.818356</td>\n",
       "      <td>2007.0</td>\n",
       "      <td>2007.000</td>\n",
       "      <td>2008.00</td>\n",
       "      <td>2009.0</td>\n",
       "      <td>2009.0</td>\n",
       "    </tr>\n",
       "  </tbody>\n",
       "</table>\n",
       "</div>"
      ],
      "text/plain": [
       "                   count         mean         std     min       25%      50%  \\\n",
       "bill_length_mm     344.0    43.921930    5.443643    32.1    39.275    44.25   \n",
       "bill_depth_mm      344.0    17.151170    1.969027    13.1    15.600    17.30   \n",
       "flipper_length_mm  344.0   200.915205   14.020657   172.0   190.000   197.00   \n",
       "body_mass_g        344.0  4201.754386  799.613058  2700.0  3550.000  4050.00   \n",
       "year               344.0  2008.029070    0.818356  2007.0  2007.000  2008.00   \n",
       "\n",
       "                      75%     max  \n",
       "bill_length_mm       48.5    59.6  \n",
       "bill_depth_mm        18.7    21.5  \n",
       "flipper_length_mm   213.0   231.0  \n",
       "body_mass_g        4750.0  6300.0  \n",
       "year               2009.0  2009.0  "
      ]
     },
     "execution_count": 19,
     "metadata": {},
     "output_type": "execute_result"
    }
   ],
   "source": [
    "penguins.describe().T"
   ]
  },
  {
   "cell_type": "markdown",
   "id": "2d491576-e197-4411-a83f-707e98b8a0a8",
   "metadata": {},
   "source": [
    "<h3>Cleaning the dataframe</h3>"
   ]
  },
  {
   "cell_type": "code",
   "execution_count": 20,
   "id": "bc6ea433-5971-404e-ac0b-92d54bf366c9",
   "metadata": {},
   "outputs": [
    {
     "data": {
      "text/plain": [
       "species              0\n",
       "island               0\n",
       "bill_length_mm       0\n",
       "bill_depth_mm        0\n",
       "flipper_length_mm    0\n",
       "body_mass_g          0\n",
       "sex                  0\n",
       "year                 0\n",
       "dtype: int64"
      ]
     },
     "execution_count": 20,
     "metadata": {},
     "output_type": "execute_result"
    }
   ],
   "source": [
    "penguins.isnull().sum()"
   ]
  },
  {
   "cell_type": "markdown",
   "id": "adae4e88-02fe-4975-8160-b3b9235b6d28",
   "metadata": {},
   "source": [
    "<h2>Selecting the column</h2>\n",
    "<h3>Syntax</h3><br>\n",
    "data_frame[\"column_name\"]"
   ]
  },
  {
   "cell_type": "markdown",
   "id": "754b851a-64e4-4afc-8295-33b07f84727f",
   "metadata": {},
   "source": [
    "<h1>Creating dataframes</h1>"
   ]
  },
  {
   "cell_type": "code",
   "execution_count": 21,
   "id": "60852adc-a837-4af1-8291-2ed1960c452d",
   "metadata": {},
   "outputs": [
    {
     "data": {
      "text/plain": [
       "array(['Adelie', 'Gentoo', 'Chinstrap'], dtype=object)"
      ]
     },
     "execution_count": 21,
     "metadata": {},
     "output_type": "execute_result"
    }
   ],
   "source": [
    "penguins['species'].unique()"
   ]
  },
  {
   "cell_type": "code",
   "execution_count": 22,
   "id": "50328cc1-1e92-4963-99ce-e0fca43b06fd",
   "metadata": {},
   "outputs": [],
   "source": [
    "adelie_df = penguins[penguins['species'] == 'Adelie']"
   ]
  },
  {
   "cell_type": "code",
   "execution_count": 23,
   "id": "fd1de42a-eea2-4b51-b60f-500c9a14f013",
   "metadata": {},
   "outputs": [
    {
     "data": {
      "text/html": [
       "<div>\n",
       "<style scoped>\n",
       "    .dataframe tbody tr th:only-of-type {\n",
       "        vertical-align: middle;\n",
       "    }\n",
       "\n",
       "    .dataframe tbody tr th {\n",
       "        vertical-align: top;\n",
       "    }\n",
       "\n",
       "    .dataframe thead th {\n",
       "        text-align: right;\n",
       "    }\n",
       "</style>\n",
       "<table border=\"1\" class=\"dataframe\">\n",
       "  <thead>\n",
       "    <tr style=\"text-align: right;\">\n",
       "      <th></th>\n",
       "      <th>species</th>\n",
       "      <th>island</th>\n",
       "      <th>bill_length_mm</th>\n",
       "      <th>bill_depth_mm</th>\n",
       "      <th>flipper_length_mm</th>\n",
       "      <th>body_mass_g</th>\n",
       "      <th>sex</th>\n",
       "      <th>year</th>\n",
       "    </tr>\n",
       "  </thead>\n",
       "  <tbody>\n",
       "    <tr>\n",
       "      <th>0</th>\n",
       "      <td>Adelie</td>\n",
       "      <td>Torgersen</td>\n",
       "      <td>39.10000</td>\n",
       "      <td>18.70000</td>\n",
       "      <td>181.000000</td>\n",
       "      <td>3750.000000</td>\n",
       "      <td>male</td>\n",
       "      <td>2007</td>\n",
       "    </tr>\n",
       "    <tr>\n",
       "      <th>1</th>\n",
       "      <td>Adelie</td>\n",
       "      <td>Torgersen</td>\n",
       "      <td>39.50000</td>\n",
       "      <td>17.40000</td>\n",
       "      <td>186.000000</td>\n",
       "      <td>3800.000000</td>\n",
       "      <td>female</td>\n",
       "      <td>2007</td>\n",
       "    </tr>\n",
       "    <tr>\n",
       "      <th>2</th>\n",
       "      <td>Adelie</td>\n",
       "      <td>Torgersen</td>\n",
       "      <td>40.30000</td>\n",
       "      <td>18.00000</td>\n",
       "      <td>195.000000</td>\n",
       "      <td>3250.000000</td>\n",
       "      <td>female</td>\n",
       "      <td>2007</td>\n",
       "    </tr>\n",
       "    <tr>\n",
       "      <th>3</th>\n",
       "      <td>Adelie</td>\n",
       "      <td>Torgersen</td>\n",
       "      <td>43.92193</td>\n",
       "      <td>17.15117</td>\n",
       "      <td>200.915205</td>\n",
       "      <td>4201.754386</td>\n",
       "      <td>male</td>\n",
       "      <td>2007</td>\n",
       "    </tr>\n",
       "    <tr>\n",
       "      <th>4</th>\n",
       "      <td>Adelie</td>\n",
       "      <td>Torgersen</td>\n",
       "      <td>36.70000</td>\n",
       "      <td>19.30000</td>\n",
       "      <td>193.000000</td>\n",
       "      <td>3450.000000</td>\n",
       "      <td>female</td>\n",
       "      <td>2007</td>\n",
       "    </tr>\n",
       "    <tr>\n",
       "      <th>...</th>\n",
       "      <td>...</td>\n",
       "      <td>...</td>\n",
       "      <td>...</td>\n",
       "      <td>...</td>\n",
       "      <td>...</td>\n",
       "      <td>...</td>\n",
       "      <td>...</td>\n",
       "      <td>...</td>\n",
       "    </tr>\n",
       "    <tr>\n",
       "      <th>147</th>\n",
       "      <td>Adelie</td>\n",
       "      <td>Dream</td>\n",
       "      <td>36.60000</td>\n",
       "      <td>18.40000</td>\n",
       "      <td>184.000000</td>\n",
       "      <td>3475.000000</td>\n",
       "      <td>female</td>\n",
       "      <td>2009</td>\n",
       "    </tr>\n",
       "    <tr>\n",
       "      <th>148</th>\n",
       "      <td>Adelie</td>\n",
       "      <td>Dream</td>\n",
       "      <td>36.00000</td>\n",
       "      <td>17.80000</td>\n",
       "      <td>195.000000</td>\n",
       "      <td>3450.000000</td>\n",
       "      <td>female</td>\n",
       "      <td>2009</td>\n",
       "    </tr>\n",
       "    <tr>\n",
       "      <th>149</th>\n",
       "      <td>Adelie</td>\n",
       "      <td>Dream</td>\n",
       "      <td>37.80000</td>\n",
       "      <td>18.10000</td>\n",
       "      <td>193.000000</td>\n",
       "      <td>3750.000000</td>\n",
       "      <td>male</td>\n",
       "      <td>2009</td>\n",
       "    </tr>\n",
       "    <tr>\n",
       "      <th>150</th>\n",
       "      <td>Adelie</td>\n",
       "      <td>Dream</td>\n",
       "      <td>36.00000</td>\n",
       "      <td>17.10000</td>\n",
       "      <td>187.000000</td>\n",
       "      <td>3700.000000</td>\n",
       "      <td>female</td>\n",
       "      <td>2009</td>\n",
       "    </tr>\n",
       "    <tr>\n",
       "      <th>151</th>\n",
       "      <td>Adelie</td>\n",
       "      <td>Dream</td>\n",
       "      <td>41.50000</td>\n",
       "      <td>18.50000</td>\n",
       "      <td>201.000000</td>\n",
       "      <td>4000.000000</td>\n",
       "      <td>male</td>\n",
       "      <td>2009</td>\n",
       "    </tr>\n",
       "  </tbody>\n",
       "</table>\n",
       "<p>152 rows × 8 columns</p>\n",
       "</div>"
      ],
      "text/plain": [
       "    species     island  bill_length_mm  bill_depth_mm  flipper_length_mm  \\\n",
       "0    Adelie  Torgersen        39.10000       18.70000         181.000000   \n",
       "1    Adelie  Torgersen        39.50000       17.40000         186.000000   \n",
       "2    Adelie  Torgersen        40.30000       18.00000         195.000000   \n",
       "3    Adelie  Torgersen        43.92193       17.15117         200.915205   \n",
       "4    Adelie  Torgersen        36.70000       19.30000         193.000000   \n",
       "..      ...        ...             ...            ...                ...   \n",
       "147  Adelie      Dream        36.60000       18.40000         184.000000   \n",
       "148  Adelie      Dream        36.00000       17.80000         195.000000   \n",
       "149  Adelie      Dream        37.80000       18.10000         193.000000   \n",
       "150  Adelie      Dream        36.00000       17.10000         187.000000   \n",
       "151  Adelie      Dream        41.50000       18.50000         201.000000   \n",
       "\n",
       "     body_mass_g     sex  year  \n",
       "0    3750.000000    male  2007  \n",
       "1    3800.000000  female  2007  \n",
       "2    3250.000000  female  2007  \n",
       "3    4201.754386    male  2007  \n",
       "4    3450.000000  female  2007  \n",
       "..           ...     ...   ...  \n",
       "147  3475.000000  female  2009  \n",
       "148  3450.000000  female  2009  \n",
       "149  3750.000000    male  2009  \n",
       "150  3700.000000  female  2009  \n",
       "151  4000.000000    male  2009  \n",
       "\n",
       "[152 rows x 8 columns]"
      ]
     },
     "execution_count": 23,
     "metadata": {},
     "output_type": "execute_result"
    }
   ],
   "source": [
    "adelie_df"
   ]
  },
  {
   "cell_type": "code",
   "execution_count": 24,
   "id": "9220bfeb-183c-46d0-bb17-5e5c3a4c45dc",
   "metadata": {},
   "outputs": [],
   "source": [
    "gentoo_df = penguins[penguins['species'] == \"Gentoo\"]"
   ]
  },
  {
   "cell_type": "code",
   "execution_count": 25,
   "id": "9b9e1153-10b3-476b-9fe3-0d14bb5a01fe",
   "metadata": {},
   "outputs": [
    {
     "data": {
      "text/html": [
       "<div>\n",
       "<style scoped>\n",
       "    .dataframe tbody tr th:only-of-type {\n",
       "        vertical-align: middle;\n",
       "    }\n",
       "\n",
       "    .dataframe tbody tr th {\n",
       "        vertical-align: top;\n",
       "    }\n",
       "\n",
       "    .dataframe thead th {\n",
       "        text-align: right;\n",
       "    }\n",
       "</style>\n",
       "<table border=\"1\" class=\"dataframe\">\n",
       "  <thead>\n",
       "    <tr style=\"text-align: right;\">\n",
       "      <th></th>\n",
       "      <th>species</th>\n",
       "      <th>island</th>\n",
       "      <th>bill_length_mm</th>\n",
       "      <th>bill_depth_mm</th>\n",
       "      <th>flipper_length_mm</th>\n",
       "      <th>body_mass_g</th>\n",
       "      <th>sex</th>\n",
       "      <th>year</th>\n",
       "    </tr>\n",
       "  </thead>\n",
       "  <tbody>\n",
       "    <tr>\n",
       "      <th>152</th>\n",
       "      <td>Gentoo</td>\n",
       "      <td>Biscoe</td>\n",
       "      <td>46.10000</td>\n",
       "      <td>13.20000</td>\n",
       "      <td>211.000000</td>\n",
       "      <td>4500.000000</td>\n",
       "      <td>female</td>\n",
       "      <td>2007</td>\n",
       "    </tr>\n",
       "    <tr>\n",
       "      <th>153</th>\n",
       "      <td>Gentoo</td>\n",
       "      <td>Biscoe</td>\n",
       "      <td>50.00000</td>\n",
       "      <td>16.30000</td>\n",
       "      <td>230.000000</td>\n",
       "      <td>5700.000000</td>\n",
       "      <td>male</td>\n",
       "      <td>2007</td>\n",
       "    </tr>\n",
       "    <tr>\n",
       "      <th>154</th>\n",
       "      <td>Gentoo</td>\n",
       "      <td>Biscoe</td>\n",
       "      <td>48.70000</td>\n",
       "      <td>14.10000</td>\n",
       "      <td>210.000000</td>\n",
       "      <td>4450.000000</td>\n",
       "      <td>female</td>\n",
       "      <td>2007</td>\n",
       "    </tr>\n",
       "    <tr>\n",
       "      <th>155</th>\n",
       "      <td>Gentoo</td>\n",
       "      <td>Biscoe</td>\n",
       "      <td>50.00000</td>\n",
       "      <td>15.20000</td>\n",
       "      <td>218.000000</td>\n",
       "      <td>5700.000000</td>\n",
       "      <td>male</td>\n",
       "      <td>2007</td>\n",
       "    </tr>\n",
       "    <tr>\n",
       "      <th>156</th>\n",
       "      <td>Gentoo</td>\n",
       "      <td>Biscoe</td>\n",
       "      <td>47.60000</td>\n",
       "      <td>14.50000</td>\n",
       "      <td>215.000000</td>\n",
       "      <td>5400.000000</td>\n",
       "      <td>male</td>\n",
       "      <td>2007</td>\n",
       "    </tr>\n",
       "    <tr>\n",
       "      <th>...</th>\n",
       "      <td>...</td>\n",
       "      <td>...</td>\n",
       "      <td>...</td>\n",
       "      <td>...</td>\n",
       "      <td>...</td>\n",
       "      <td>...</td>\n",
       "      <td>...</td>\n",
       "      <td>...</td>\n",
       "    </tr>\n",
       "    <tr>\n",
       "      <th>271</th>\n",
       "      <td>Gentoo</td>\n",
       "      <td>Biscoe</td>\n",
       "      <td>43.92193</td>\n",
       "      <td>17.15117</td>\n",
       "      <td>200.915205</td>\n",
       "      <td>4201.754386</td>\n",
       "      <td>male</td>\n",
       "      <td>2009</td>\n",
       "    </tr>\n",
       "    <tr>\n",
       "      <th>272</th>\n",
       "      <td>Gentoo</td>\n",
       "      <td>Biscoe</td>\n",
       "      <td>46.80000</td>\n",
       "      <td>14.30000</td>\n",
       "      <td>215.000000</td>\n",
       "      <td>4850.000000</td>\n",
       "      <td>female</td>\n",
       "      <td>2009</td>\n",
       "    </tr>\n",
       "    <tr>\n",
       "      <th>273</th>\n",
       "      <td>Gentoo</td>\n",
       "      <td>Biscoe</td>\n",
       "      <td>50.40000</td>\n",
       "      <td>15.70000</td>\n",
       "      <td>222.000000</td>\n",
       "      <td>5750.000000</td>\n",
       "      <td>male</td>\n",
       "      <td>2009</td>\n",
       "    </tr>\n",
       "    <tr>\n",
       "      <th>274</th>\n",
       "      <td>Gentoo</td>\n",
       "      <td>Biscoe</td>\n",
       "      <td>45.20000</td>\n",
       "      <td>14.80000</td>\n",
       "      <td>212.000000</td>\n",
       "      <td>5200.000000</td>\n",
       "      <td>female</td>\n",
       "      <td>2009</td>\n",
       "    </tr>\n",
       "    <tr>\n",
       "      <th>275</th>\n",
       "      <td>Gentoo</td>\n",
       "      <td>Biscoe</td>\n",
       "      <td>49.90000</td>\n",
       "      <td>16.10000</td>\n",
       "      <td>213.000000</td>\n",
       "      <td>5400.000000</td>\n",
       "      <td>male</td>\n",
       "      <td>2009</td>\n",
       "    </tr>\n",
       "  </tbody>\n",
       "</table>\n",
       "<p>124 rows × 8 columns</p>\n",
       "</div>"
      ],
      "text/plain": [
       "    species  island  bill_length_mm  bill_depth_mm  flipper_length_mm  \\\n",
       "152  Gentoo  Biscoe        46.10000       13.20000         211.000000   \n",
       "153  Gentoo  Biscoe        50.00000       16.30000         230.000000   \n",
       "154  Gentoo  Biscoe        48.70000       14.10000         210.000000   \n",
       "155  Gentoo  Biscoe        50.00000       15.20000         218.000000   \n",
       "156  Gentoo  Biscoe        47.60000       14.50000         215.000000   \n",
       "..      ...     ...             ...            ...                ...   \n",
       "271  Gentoo  Biscoe        43.92193       17.15117         200.915205   \n",
       "272  Gentoo  Biscoe        46.80000       14.30000         215.000000   \n",
       "273  Gentoo  Biscoe        50.40000       15.70000         222.000000   \n",
       "274  Gentoo  Biscoe        45.20000       14.80000         212.000000   \n",
       "275  Gentoo  Biscoe        49.90000       16.10000         213.000000   \n",
       "\n",
       "     body_mass_g     sex  year  \n",
       "152  4500.000000  female  2007  \n",
       "153  5700.000000    male  2007  \n",
       "154  4450.000000  female  2007  \n",
       "155  5700.000000    male  2007  \n",
       "156  5400.000000    male  2007  \n",
       "..           ...     ...   ...  \n",
       "271  4201.754386    male  2009  \n",
       "272  4850.000000  female  2009  \n",
       "273  5750.000000    male  2009  \n",
       "274  5200.000000  female  2009  \n",
       "275  5400.000000    male  2009  \n",
       "\n",
       "[124 rows x 8 columns]"
      ]
     },
     "execution_count": 25,
     "metadata": {},
     "output_type": "execute_result"
    }
   ],
   "source": [
    "gentoo_df"
   ]
  },
  {
   "cell_type": "code",
   "execution_count": 26,
   "id": "9b62666e-b377-49c6-8435-5676370cc7d0",
   "metadata": {},
   "outputs": [],
   "source": [
    "chinstrap_df = penguins[penguins['species'] == \"Chinstrap\"]"
   ]
  },
  {
   "cell_type": "code",
   "execution_count": 27,
   "id": "7c3f5557-66ba-42a9-898a-f094e1a09b2c",
   "metadata": {},
   "outputs": [
    {
     "data": {
      "text/html": [
       "<div>\n",
       "<style scoped>\n",
       "    .dataframe tbody tr th:only-of-type {\n",
       "        vertical-align: middle;\n",
       "    }\n",
       "\n",
       "    .dataframe tbody tr th {\n",
       "        vertical-align: top;\n",
       "    }\n",
       "\n",
       "    .dataframe thead th {\n",
       "        text-align: right;\n",
       "    }\n",
       "</style>\n",
       "<table border=\"1\" class=\"dataframe\">\n",
       "  <thead>\n",
       "    <tr style=\"text-align: right;\">\n",
       "      <th></th>\n",
       "      <th>species</th>\n",
       "      <th>island</th>\n",
       "      <th>bill_length_mm</th>\n",
       "      <th>bill_depth_mm</th>\n",
       "      <th>flipper_length_mm</th>\n",
       "      <th>body_mass_g</th>\n",
       "      <th>sex</th>\n",
       "      <th>year</th>\n",
       "    </tr>\n",
       "  </thead>\n",
       "  <tbody>\n",
       "    <tr>\n",
       "      <th>276</th>\n",
       "      <td>Chinstrap</td>\n",
       "      <td>Dream</td>\n",
       "      <td>46.5</td>\n",
       "      <td>17.9</td>\n",
       "      <td>192.0</td>\n",
       "      <td>3500.0</td>\n",
       "      <td>female</td>\n",
       "      <td>2007</td>\n",
       "    </tr>\n",
       "    <tr>\n",
       "      <th>277</th>\n",
       "      <td>Chinstrap</td>\n",
       "      <td>Dream</td>\n",
       "      <td>50.0</td>\n",
       "      <td>19.5</td>\n",
       "      <td>196.0</td>\n",
       "      <td>3900.0</td>\n",
       "      <td>male</td>\n",
       "      <td>2007</td>\n",
       "    </tr>\n",
       "    <tr>\n",
       "      <th>278</th>\n",
       "      <td>Chinstrap</td>\n",
       "      <td>Dream</td>\n",
       "      <td>51.3</td>\n",
       "      <td>19.2</td>\n",
       "      <td>193.0</td>\n",
       "      <td>3650.0</td>\n",
       "      <td>male</td>\n",
       "      <td>2007</td>\n",
       "    </tr>\n",
       "    <tr>\n",
       "      <th>279</th>\n",
       "      <td>Chinstrap</td>\n",
       "      <td>Dream</td>\n",
       "      <td>45.4</td>\n",
       "      <td>18.7</td>\n",
       "      <td>188.0</td>\n",
       "      <td>3525.0</td>\n",
       "      <td>female</td>\n",
       "      <td>2007</td>\n",
       "    </tr>\n",
       "    <tr>\n",
       "      <th>280</th>\n",
       "      <td>Chinstrap</td>\n",
       "      <td>Dream</td>\n",
       "      <td>52.7</td>\n",
       "      <td>19.8</td>\n",
       "      <td>197.0</td>\n",
       "      <td>3725.0</td>\n",
       "      <td>male</td>\n",
       "      <td>2007</td>\n",
       "    </tr>\n",
       "    <tr>\n",
       "      <th>...</th>\n",
       "      <td>...</td>\n",
       "      <td>...</td>\n",
       "      <td>...</td>\n",
       "      <td>...</td>\n",
       "      <td>...</td>\n",
       "      <td>...</td>\n",
       "      <td>...</td>\n",
       "      <td>...</td>\n",
       "    </tr>\n",
       "    <tr>\n",
       "      <th>339</th>\n",
       "      <td>Chinstrap</td>\n",
       "      <td>Dream</td>\n",
       "      <td>55.8</td>\n",
       "      <td>19.8</td>\n",
       "      <td>207.0</td>\n",
       "      <td>4000.0</td>\n",
       "      <td>male</td>\n",
       "      <td>2009</td>\n",
       "    </tr>\n",
       "    <tr>\n",
       "      <th>340</th>\n",
       "      <td>Chinstrap</td>\n",
       "      <td>Dream</td>\n",
       "      <td>43.5</td>\n",
       "      <td>18.1</td>\n",
       "      <td>202.0</td>\n",
       "      <td>3400.0</td>\n",
       "      <td>female</td>\n",
       "      <td>2009</td>\n",
       "    </tr>\n",
       "    <tr>\n",
       "      <th>341</th>\n",
       "      <td>Chinstrap</td>\n",
       "      <td>Dream</td>\n",
       "      <td>49.6</td>\n",
       "      <td>18.2</td>\n",
       "      <td>193.0</td>\n",
       "      <td>3775.0</td>\n",
       "      <td>male</td>\n",
       "      <td>2009</td>\n",
       "    </tr>\n",
       "    <tr>\n",
       "      <th>342</th>\n",
       "      <td>Chinstrap</td>\n",
       "      <td>Dream</td>\n",
       "      <td>50.8</td>\n",
       "      <td>19.0</td>\n",
       "      <td>210.0</td>\n",
       "      <td>4100.0</td>\n",
       "      <td>male</td>\n",
       "      <td>2009</td>\n",
       "    </tr>\n",
       "    <tr>\n",
       "      <th>343</th>\n",
       "      <td>Chinstrap</td>\n",
       "      <td>Dream</td>\n",
       "      <td>50.2</td>\n",
       "      <td>18.7</td>\n",
       "      <td>198.0</td>\n",
       "      <td>3775.0</td>\n",
       "      <td>female</td>\n",
       "      <td>2009</td>\n",
       "    </tr>\n",
       "  </tbody>\n",
       "</table>\n",
       "<p>68 rows × 8 columns</p>\n",
       "</div>"
      ],
      "text/plain": [
       "       species island  bill_length_mm  bill_depth_mm  flipper_length_mm  \\\n",
       "276  Chinstrap  Dream            46.5           17.9              192.0   \n",
       "277  Chinstrap  Dream            50.0           19.5              196.0   \n",
       "278  Chinstrap  Dream            51.3           19.2              193.0   \n",
       "279  Chinstrap  Dream            45.4           18.7              188.0   \n",
       "280  Chinstrap  Dream            52.7           19.8              197.0   \n",
       "..         ...    ...             ...            ...                ...   \n",
       "339  Chinstrap  Dream            55.8           19.8              207.0   \n",
       "340  Chinstrap  Dream            43.5           18.1              202.0   \n",
       "341  Chinstrap  Dream            49.6           18.2              193.0   \n",
       "342  Chinstrap  Dream            50.8           19.0              210.0   \n",
       "343  Chinstrap  Dream            50.2           18.7              198.0   \n",
       "\n",
       "     body_mass_g     sex  year  \n",
       "276       3500.0  female  2007  \n",
       "277       3900.0    male  2007  \n",
       "278       3650.0    male  2007  \n",
       "279       3525.0  female  2007  \n",
       "280       3725.0    male  2007  \n",
       "..           ...     ...   ...  \n",
       "339       4000.0    male  2009  \n",
       "340       3400.0  female  2009  \n",
       "341       3775.0    male  2009  \n",
       "342       4100.0    male  2009  \n",
       "343       3775.0  female  2009  \n",
       "\n",
       "[68 rows x 8 columns]"
      ]
     },
     "execution_count": 27,
     "metadata": {},
     "output_type": "execute_result"
    }
   ],
   "source": [
    "chinstrap_df"
   ]
  },
  {
   "cell_type": "code",
   "execution_count": 28,
   "id": "a3925904-98b4-4fe3-babe-99f6f29d927f",
   "metadata": {},
   "outputs": [
    {
     "data": {
      "text/plain": [
       "0      False\n",
       "1      False\n",
       "2      False\n",
       "3       True\n",
       "4      False\n",
       "       ...  \n",
       "339     True\n",
       "340    False\n",
       "341    False\n",
       "342     True\n",
       "343    False\n",
       "Name: body_mass_g, Length: 344, dtype: bool"
      ]
     },
     "execution_count": 28,
     "metadata": {},
     "output_type": "execute_result"
    }
   ],
   "source": [
    "penguins['body_mass_g'] >= 4000"
   ]
  },
  {
   "cell_type": "code",
   "execution_count": 29,
   "id": "da71b8e9-ea25-454f-a74b-3dfde4120e70",
   "metadata": {},
   "outputs": [
    {
     "name": "stdout",
     "output_type": "stream",
     "text": [
      "<class 'pandas.core.frame.DataFrame'>\n",
      "Index: 16 entries, 284 to 342\n",
      "Data columns (total 8 columns):\n",
      " #   Column             Non-Null Count  Dtype  \n",
      "---  ------             --------------  -----  \n",
      " 0   species            16 non-null     object \n",
      " 1   island             16 non-null     object \n",
      " 2   bill_length_mm     16 non-null     float64\n",
      " 3   bill_depth_mm      16 non-null     float64\n",
      " 4   flipper_length_mm  16 non-null     float64\n",
      " 5   body_mass_g        16 non-null     float64\n",
      " 6   sex                16 non-null     object \n",
      " 7   year               16 non-null     int64  \n",
      "dtypes: float64(4), int64(1), object(3)\n",
      "memory usage: 1.1+ KB\n"
     ]
    }
   ],
   "source": [
    "chinstrap_weight.info()"
   ]
  },
  {
   "cell_type": "markdown",
   "id": "c02aba65-c1e8-43d2-9e92-c7870e5ff096",
   "metadata": {},
   "source": [
    "<h1>How to change data type of a column</h1>"
   ]
  },
  {
   "cell_type": "code",
   "execution_count": 30,
   "id": "dfab6d60-c5cc-43b4-b269-da22ddfc3a8c",
   "metadata": {},
   "outputs": [],
   "source": [
    "penguins['species'] = penguins['species'].astype('category')\n",
    "penguins['year'] = penguins['year'].astype('category')\n",
    "penguins['island'] = penguins['island'].astype('category')\n",
    "penguins['sex'] = penguins['sex'].astype('category')"
   ]
  },
  {
   "cell_type": "code",
   "execution_count": 31,
   "id": "4b1ec9a7-4d6a-49d4-b1a3-85d682ca9971",
   "metadata": {},
   "outputs": [
    {
     "name": "stdout",
     "output_type": "stream",
     "text": [
      "<class 'pandas.core.frame.DataFrame'>\n",
      "RangeIndex: 344 entries, 0 to 343\n",
      "Data columns (total 8 columns):\n",
      " #   Column             Non-Null Count  Dtype   \n",
      "---  ------             --------------  -----   \n",
      " 0   species            344 non-null    category\n",
      " 1   island             344 non-null    category\n",
      " 2   bill_length_mm     344 non-null    float64 \n",
      " 3   bill_depth_mm      344 non-null    float64 \n",
      " 4   flipper_length_mm  344 non-null    float64 \n",
      " 5   body_mass_g        344 non-null    float64 \n",
      " 6   sex                344 non-null    category\n",
      " 7   year               344 non-null    category\n",
      "dtypes: category(4), float64(4)\n",
      "memory usage: 12.7 KB\n"
     ]
    }
   ],
   "source": [
    "penguins.info()"
   ]
  },
  {
   "cell_type": "code",
   "execution_count": 32,
   "id": "46271e8a-f8e6-4161-b771-98742ac48c8c",
   "metadata": {},
   "outputs": [
    {
     "data": {
      "text/html": [
       "<div>\n",
       "<style scoped>\n",
       "    .dataframe tbody tr th:only-of-type {\n",
       "        vertical-align: middle;\n",
       "    }\n",
       "\n",
       "    .dataframe tbody tr th {\n",
       "        vertical-align: top;\n",
       "    }\n",
       "\n",
       "    .dataframe thead th {\n",
       "        text-align: right;\n",
       "    }\n",
       "</style>\n",
       "<table border=\"1\" class=\"dataframe\">\n",
       "  <thead>\n",
       "    <tr style=\"text-align: right;\">\n",
       "      <th></th>\n",
       "      <th>bill_length_mm</th>\n",
       "      <th>bill_depth_mm</th>\n",
       "      <th>flipper_length_mm</th>\n",
       "      <th>body_mass_g</th>\n",
       "    </tr>\n",
       "  </thead>\n",
       "  <tbody>\n",
       "    <tr>\n",
       "      <th>count</th>\n",
       "      <td>344.000000</td>\n",
       "      <td>344.000000</td>\n",
       "      <td>344.000000</td>\n",
       "      <td>344.000000</td>\n",
       "    </tr>\n",
       "    <tr>\n",
       "      <th>mean</th>\n",
       "      <td>43.921930</td>\n",
       "      <td>17.151170</td>\n",
       "      <td>200.915205</td>\n",
       "      <td>4201.754386</td>\n",
       "    </tr>\n",
       "    <tr>\n",
       "      <th>std</th>\n",
       "      <td>5.443643</td>\n",
       "      <td>1.969027</td>\n",
       "      <td>14.020657</td>\n",
       "      <td>799.613058</td>\n",
       "    </tr>\n",
       "    <tr>\n",
       "      <th>min</th>\n",
       "      <td>32.100000</td>\n",
       "      <td>13.100000</td>\n",
       "      <td>172.000000</td>\n",
       "      <td>2700.000000</td>\n",
       "    </tr>\n",
       "    <tr>\n",
       "      <th>25%</th>\n",
       "      <td>39.275000</td>\n",
       "      <td>15.600000</td>\n",
       "      <td>190.000000</td>\n",
       "      <td>3550.000000</td>\n",
       "    </tr>\n",
       "    <tr>\n",
       "      <th>50%</th>\n",
       "      <td>44.250000</td>\n",
       "      <td>17.300000</td>\n",
       "      <td>197.000000</td>\n",
       "      <td>4050.000000</td>\n",
       "    </tr>\n",
       "    <tr>\n",
       "      <th>75%</th>\n",
       "      <td>48.500000</td>\n",
       "      <td>18.700000</td>\n",
       "      <td>213.000000</td>\n",
       "      <td>4750.000000</td>\n",
       "    </tr>\n",
       "    <tr>\n",
       "      <th>max</th>\n",
       "      <td>59.600000</td>\n",
       "      <td>21.500000</td>\n",
       "      <td>231.000000</td>\n",
       "      <td>6300.000000</td>\n",
       "    </tr>\n",
       "  </tbody>\n",
       "</table>\n",
       "</div>"
      ],
      "text/plain": [
       "       bill_length_mm  bill_depth_mm  flipper_length_mm  body_mass_g\n",
       "count      344.000000     344.000000         344.000000   344.000000\n",
       "mean        43.921930      17.151170         200.915205  4201.754386\n",
       "std          5.443643       1.969027          14.020657   799.613058\n",
       "min         32.100000      13.100000         172.000000  2700.000000\n",
       "25%         39.275000      15.600000         190.000000  3550.000000\n",
       "50%         44.250000      17.300000         197.000000  4050.000000\n",
       "75%         48.500000      18.700000         213.000000  4750.000000\n",
       "max         59.600000      21.500000         231.000000  6300.000000"
      ]
     },
     "execution_count": 32,
     "metadata": {},
     "output_type": "execute_result"
    }
   ],
   "source": [
    "penguins.describe()"
   ]
  },
  {
   "cell_type": "code",
   "execution_count": 33,
   "id": "2cd4ee34-3232-466a-a019-8641492e5af7",
   "metadata": {},
   "outputs": [],
   "source": [
    "penguins['mass_kg'] = np.round(penguins['body_mass_g'] / 1000,1)"
   ]
  },
  {
   "cell_type": "code",
   "execution_count": 34,
   "id": "6e00e0c9-b808-463b-ae44-dc177c0683c8",
   "metadata": {},
   "outputs": [
    {
     "data": {
      "text/html": [
       "<div>\n",
       "<style scoped>\n",
       "    .dataframe tbody tr th:only-of-type {\n",
       "        vertical-align: middle;\n",
       "    }\n",
       "\n",
       "    .dataframe tbody tr th {\n",
       "        vertical-align: top;\n",
       "    }\n",
       "\n",
       "    .dataframe thead th {\n",
       "        text-align: right;\n",
       "    }\n",
       "</style>\n",
       "<table border=\"1\" class=\"dataframe\">\n",
       "  <thead>\n",
       "    <tr style=\"text-align: right;\">\n",
       "      <th></th>\n",
       "      <th>species</th>\n",
       "      <th>island</th>\n",
       "      <th>bill_length_mm</th>\n",
       "      <th>bill_depth_mm</th>\n",
       "      <th>flipper_length_mm</th>\n",
       "      <th>body_mass_g</th>\n",
       "      <th>sex</th>\n",
       "      <th>year</th>\n",
       "      <th>mass_kg</th>\n",
       "    </tr>\n",
       "  </thead>\n",
       "  <tbody>\n",
       "    <tr>\n",
       "      <th>0</th>\n",
       "      <td>Adelie</td>\n",
       "      <td>Torgersen</td>\n",
       "      <td>39.10000</td>\n",
       "      <td>18.70000</td>\n",
       "      <td>181.000000</td>\n",
       "      <td>3750.000000</td>\n",
       "      <td>male</td>\n",
       "      <td>2007</td>\n",
       "      <td>3.8</td>\n",
       "    </tr>\n",
       "    <tr>\n",
       "      <th>1</th>\n",
       "      <td>Adelie</td>\n",
       "      <td>Torgersen</td>\n",
       "      <td>39.50000</td>\n",
       "      <td>17.40000</td>\n",
       "      <td>186.000000</td>\n",
       "      <td>3800.000000</td>\n",
       "      <td>female</td>\n",
       "      <td>2007</td>\n",
       "      <td>3.8</td>\n",
       "    </tr>\n",
       "    <tr>\n",
       "      <th>2</th>\n",
       "      <td>Adelie</td>\n",
       "      <td>Torgersen</td>\n",
       "      <td>40.30000</td>\n",
       "      <td>18.00000</td>\n",
       "      <td>195.000000</td>\n",
       "      <td>3250.000000</td>\n",
       "      <td>female</td>\n",
       "      <td>2007</td>\n",
       "      <td>3.2</td>\n",
       "    </tr>\n",
       "    <tr>\n",
       "      <th>3</th>\n",
       "      <td>Adelie</td>\n",
       "      <td>Torgersen</td>\n",
       "      <td>43.92193</td>\n",
       "      <td>17.15117</td>\n",
       "      <td>200.915205</td>\n",
       "      <td>4201.754386</td>\n",
       "      <td>male</td>\n",
       "      <td>2007</td>\n",
       "      <td>4.2</td>\n",
       "    </tr>\n",
       "    <tr>\n",
       "      <th>4</th>\n",
       "      <td>Adelie</td>\n",
       "      <td>Torgersen</td>\n",
       "      <td>36.70000</td>\n",
       "      <td>19.30000</td>\n",
       "      <td>193.000000</td>\n",
       "      <td>3450.000000</td>\n",
       "      <td>female</td>\n",
       "      <td>2007</td>\n",
       "      <td>3.4</td>\n",
       "    </tr>\n",
       "    <tr>\n",
       "      <th>...</th>\n",
       "      <td>...</td>\n",
       "      <td>...</td>\n",
       "      <td>...</td>\n",
       "      <td>...</td>\n",
       "      <td>...</td>\n",
       "      <td>...</td>\n",
       "      <td>...</td>\n",
       "      <td>...</td>\n",
       "      <td>...</td>\n",
       "    </tr>\n",
       "    <tr>\n",
       "      <th>339</th>\n",
       "      <td>Chinstrap</td>\n",
       "      <td>Dream</td>\n",
       "      <td>55.80000</td>\n",
       "      <td>19.80000</td>\n",
       "      <td>207.000000</td>\n",
       "      <td>4000.000000</td>\n",
       "      <td>male</td>\n",
       "      <td>2009</td>\n",
       "      <td>4.0</td>\n",
       "    </tr>\n",
       "    <tr>\n",
       "      <th>340</th>\n",
       "      <td>Chinstrap</td>\n",
       "      <td>Dream</td>\n",
       "      <td>43.50000</td>\n",
       "      <td>18.10000</td>\n",
       "      <td>202.000000</td>\n",
       "      <td>3400.000000</td>\n",
       "      <td>female</td>\n",
       "      <td>2009</td>\n",
       "      <td>3.4</td>\n",
       "    </tr>\n",
       "    <tr>\n",
       "      <th>341</th>\n",
       "      <td>Chinstrap</td>\n",
       "      <td>Dream</td>\n",
       "      <td>49.60000</td>\n",
       "      <td>18.20000</td>\n",
       "      <td>193.000000</td>\n",
       "      <td>3775.000000</td>\n",
       "      <td>male</td>\n",
       "      <td>2009</td>\n",
       "      <td>3.8</td>\n",
       "    </tr>\n",
       "    <tr>\n",
       "      <th>342</th>\n",
       "      <td>Chinstrap</td>\n",
       "      <td>Dream</td>\n",
       "      <td>50.80000</td>\n",
       "      <td>19.00000</td>\n",
       "      <td>210.000000</td>\n",
       "      <td>4100.000000</td>\n",
       "      <td>male</td>\n",
       "      <td>2009</td>\n",
       "      <td>4.1</td>\n",
       "    </tr>\n",
       "    <tr>\n",
       "      <th>343</th>\n",
       "      <td>Chinstrap</td>\n",
       "      <td>Dream</td>\n",
       "      <td>50.20000</td>\n",
       "      <td>18.70000</td>\n",
       "      <td>198.000000</td>\n",
       "      <td>3775.000000</td>\n",
       "      <td>female</td>\n",
       "      <td>2009</td>\n",
       "      <td>3.8</td>\n",
       "    </tr>\n",
       "  </tbody>\n",
       "</table>\n",
       "<p>344 rows × 9 columns</p>\n",
       "</div>"
      ],
      "text/plain": [
       "       species     island  bill_length_mm  bill_depth_mm  flipper_length_mm  \\\n",
       "0       Adelie  Torgersen        39.10000       18.70000         181.000000   \n",
       "1       Adelie  Torgersen        39.50000       17.40000         186.000000   \n",
       "2       Adelie  Torgersen        40.30000       18.00000         195.000000   \n",
       "3       Adelie  Torgersen        43.92193       17.15117         200.915205   \n",
       "4       Adelie  Torgersen        36.70000       19.30000         193.000000   \n",
       "..         ...        ...             ...            ...                ...   \n",
       "339  Chinstrap      Dream        55.80000       19.80000         207.000000   \n",
       "340  Chinstrap      Dream        43.50000       18.10000         202.000000   \n",
       "341  Chinstrap      Dream        49.60000       18.20000         193.000000   \n",
       "342  Chinstrap      Dream        50.80000       19.00000         210.000000   \n",
       "343  Chinstrap      Dream        50.20000       18.70000         198.000000   \n",
       "\n",
       "     body_mass_g     sex  year  mass_kg  \n",
       "0    3750.000000    male  2007      3.8  \n",
       "1    3800.000000  female  2007      3.8  \n",
       "2    3250.000000  female  2007      3.2  \n",
       "3    4201.754386    male  2007      4.2  \n",
       "4    3450.000000  female  2007      3.4  \n",
       "..           ...     ...   ...      ...  \n",
       "339  4000.000000    male  2009      4.0  \n",
       "340  3400.000000  female  2009      3.4  \n",
       "341  3775.000000    male  2009      3.8  \n",
       "342  4100.000000    male  2009      4.1  \n",
       "343  3775.000000  female  2009      3.8  \n",
       "\n",
       "[344 rows x 9 columns]"
      ]
     },
     "execution_count": 34,
     "metadata": {},
     "output_type": "execute_result"
    }
   ],
   "source": [
    "penguins"
   ]
  },
  {
   "cell_type": "markdown",
   "id": "30a8f916-6fda-424c-9aa2-cac06d5b1d30",
   "metadata": {},
   "source": [
    "<h1>Exploratory Data Analytics (EDA)</h1>"
   ]
  },
  {
   "cell_type": "markdown",
   "id": "28ddb24e-0bfc-4608-97fe-a727dc91a0f9",
   "metadata": {},
   "source": [
    "<h1>1. Which island has the most penguins?</h1>"
   ]
  },
  {
   "cell_type": "code",
   "execution_count": 35,
   "id": "ee03b0b4-95bf-45fd-842c-d2b3c38f03f4",
   "metadata": {},
   "outputs": [
    {
     "data": {
      "text/plain": [
       "['Torgersen', 'Biscoe', 'Dream']\n",
       "Categories (3, object): ['Biscoe', 'Dream', 'Torgersen']"
      ]
     },
     "execution_count": 35,
     "metadata": {},
     "output_type": "execute_result"
    }
   ],
   "source": [
    "penguins['island'].unique()"
   ]
  },
  {
   "cell_type": "code",
   "execution_count": 141,
   "id": "3f5c87e0-c43b-4758-9fb8-c27df5d319d3",
   "metadata": {},
   "outputs": [
    {
     "data": {
      "text/plain": [
       "island\n",
       "Biscoe       168\n",
       "Dream        124\n",
       "Torgersen     52\n",
       "dtype: int64"
      ]
     },
     "execution_count": 141,
     "metadata": {},
     "output_type": "execute_result"
    }
   ],
   "source": [
    "penguins.groupby(['island']).size()"
   ]
  },
  {
   "cell_type": "markdown",
   "id": "4bb8c4a9-e480-4317-b07f-316422c3c9f4",
   "metadata": {},
   "source": [
    "<h3>Insight #1: The island that has the most penguins recorded is <strong>Biscoe.</h3>"
   ]
  },
  {
   "cell_type": "markdown",
   "id": "624bf282-0c51-43e5-866b-bbba490b9fea",
   "metadata": {},
   "source": [
    "<h1>2. Which year and species recorded the highest number of penguins with over 3500 body mass.</h1>"
   ]
  },
  {
   "cell_type": "code",
   "execution_count": 42,
   "id": "4ddb6ff1-86a8-421c-aac3-92e13ce3162c",
   "metadata": {},
   "outputs": [
    {
     "data": {
      "text/plain": [
       "[2007, 2008, 2009]\n",
       "Categories (3, int64): [2007, 2008, 2009]"
      ]
     },
     "execution_count": 42,
     "metadata": {},
     "output_type": "execute_result"
    }
   ],
   "source": [
    "penguins['year'].unique()"
   ]
  },
  {
   "cell_type": "code",
   "execution_count": 128,
   "id": "fc772a8c-16a1-4520-b251-97f7a8c72e0b",
   "metadata": {},
   "outputs": [],
   "source": [
    "Over3500 = penguins[penguins['body_mass_g'] >= 3500]"
   ]
  },
  {
   "cell_type": "code",
   "execution_count": 139,
   "id": "48804eb2-28a7-4110-85d5-8c972c13b89c",
   "metadata": {},
   "outputs": [],
   "source": [
    "bmass_peryear = Over3500.groupby(['species','year']).size()"
   ]
  },
  {
   "cell_type": "code",
   "execution_count": 140,
   "id": "46de9fe8-0354-4a0e-be3b-cc328dfbc984",
   "metadata": {},
   "outputs": [
    {
     "data": {
      "text/plain": [
       "species    year\n",
       "Adelie     2007    30\n",
       "           2008    38\n",
       "           2009    30\n",
       "Chinstrap  2007    20\n",
       "           2008    14\n",
       "           2009    17\n",
       "Gentoo     2007    34\n",
       "           2008    46\n",
       "           2009    44\n",
       "dtype: int64"
      ]
     },
     "execution_count": 140,
     "metadata": {},
     "output_type": "execute_result"
    }
   ],
   "source": [
    "bmass_peryear"
   ]
  },
  {
   "cell_type": "markdown",
   "id": "e4dd581b-71d1-4833-8089-02deb464451a",
   "metadata": {},
   "source": [
    "<h3>Insight #2: <b>Gentoo</b>  has the highest number of penguins with over 3500 body mass on <b>2008</n>.</h3>"
   ]
  },
  {
   "cell_type": "markdown",
   "id": "f8c8c52a-b693-4d48-bae6-c949a15bd7b0",
   "metadata": {},
   "source": [
    "<h1>3. Which species has the longest bill length, deepest bill depth, and heaviest body mass?</h1>"
   ]
  },
  {
   "cell_type": "code",
   "execution_count": 52,
   "id": "074a3344-4096-413d-8247-bb2451841db4",
   "metadata": {},
   "outputs": [
    {
     "data": {
      "text/plain": [
       "['Adelie', 'Gentoo', 'Chinstrap']\n",
       "Categories (3, object): ['Adelie', 'Chinstrap', 'Gentoo']"
      ]
     },
     "execution_count": 52,
     "metadata": {},
     "output_type": "execute_result"
    }
   ],
   "source": [
    "penguins['species'].unique()"
   ]
  },
  {
   "cell_type": "code",
   "execution_count": 53,
   "id": "7d2106b1-1970-4c85-b68a-6140ba2918a9",
   "metadata": {},
   "outputs": [],
   "source": [
    "BLength_PerSpecies = penguins.groupby(['species',])['bill_length_mm'].mean()"
   ]
  },
  {
   "cell_type": "code",
   "execution_count": 54,
   "id": "5cf02e81-c4d3-47a1-bad6-fadbb7e69409",
   "metadata": {},
   "outputs": [
    {
     "data": {
      "text/plain": [
       "species\n",
       "Adelie       38.825144\n",
       "Chinstrap    48.833824\n",
       "Gentoo       47.475983\n",
       "Name: bill_length_mm, dtype: float64"
      ]
     },
     "execution_count": 54,
     "metadata": {},
     "output_type": "execute_result"
    }
   ],
   "source": [
    "BLength_PerSpecies"
   ]
  },
  {
   "cell_type": "code",
   "execution_count": 55,
   "id": "22d2286a-c67e-4e63-9584-448dc0d5f0c5",
   "metadata": {},
   "outputs": [],
   "source": [
    "Bdepth_PerSpecies = penguins.groupby(['species'])['bill_depth_mm'].mean()"
   ]
  },
  {
   "cell_type": "code",
   "execution_count": 56,
   "id": "5cffb41c-653f-456e-8b03-b4dfd4de001d",
   "metadata": {},
   "outputs": [
    {
     "data": {
      "text/plain": [
       "species\n",
       "Adelie       18.338495\n",
       "Chinstrap    18.420588\n",
       "Gentoo       14.999606\n",
       "Name: bill_depth_mm, dtype: float64"
      ]
     },
     "execution_count": 56,
     "metadata": {},
     "output_type": "execute_result"
    }
   ],
   "source": [
    "Bdepth_PerSpecies"
   ]
  },
  {
   "cell_type": "code",
   "execution_count": 57,
   "id": "fee9581e-24e3-458b-91f6-563564518df8",
   "metadata": {},
   "outputs": [],
   "source": [
    "Bmass_PerSpecies = penguins.groupby(['species'])['body_mass_g'].mean()"
   ]
  },
  {
   "cell_type": "code",
   "execution_count": 58,
   "id": "50ee2990-1d61-4fdb-8670-de82789fb3c3",
   "metadata": {},
   "outputs": [
    {
     "data": {
      "text/plain": [
       "species\n",
       "Adelie       3703.958910\n",
       "Chinstrap    3733.088235\n",
       "Gentoo       5068.965761\n",
       "Name: body_mass_g, dtype: float64"
      ]
     },
     "execution_count": 58,
     "metadata": {},
     "output_type": "execute_result"
    }
   ],
   "source": [
    "Bmass_PerSpecies"
   ]
  },
  {
   "cell_type": "markdown",
   "id": "3e700d55-2ea9-4108-84fa-6df09868e0dc",
   "metadata": {},
   "source": [
    "<h3>Insight #3: <b>Chinstrap</b> had the longest bill length and deepest bill depth, while <b>Gentoo</b> had the heaviest body mass.</h3>"
   ]
  },
  {
   "cell_type": "markdown",
   "id": "18e43f42-ec3a-4dfb-b33a-59d15ee02607",
   "metadata": {},
   "source": [
    "<h1>Question #4: What is the demographic of Torgersen Island, and which year had the highest number of Adelie, Gentoo, and Chinstrap species recorded? </h1>"
   ]
  },
  {
   "cell_type": "code",
   "execution_count": 59,
   "id": "563af979-cfae-4d6f-ac4a-8ca65e9ccdd9",
   "metadata": {},
   "outputs": [
    {
     "data": {
      "text/plain": [
       "['Torgersen', 'Biscoe', 'Dream']\n",
       "Categories (3, object): ['Biscoe', 'Dream', 'Torgersen']"
      ]
     },
     "execution_count": 59,
     "metadata": {},
     "output_type": "execute_result"
    }
   ],
   "source": [
    "penguins['island'].unique()"
   ]
  },
  {
   "cell_type": "code",
   "execution_count": 60,
   "id": "850fdd79-406f-412b-8568-9e473ad0a0e6",
   "metadata": {},
   "outputs": [],
   "source": [
    "torgersen_df = penguins[penguins['island'] == 'Torgersen']"
   ]
  },
  {
   "cell_type": "code",
   "execution_count": 61,
   "id": "535725f2-1f55-44f3-a83a-855185d970d0",
   "metadata": {},
   "outputs": [
    {
     "data": {
      "text/plain": [
       "species\n",
       "Adelie       52\n",
       "Chinstrap     0\n",
       "Gentoo        0\n",
       "dtype: int64"
      ]
     },
     "execution_count": 61,
     "metadata": {},
     "output_type": "execute_result"
    }
   ],
   "source": [
    "torgersen_df.groupby(['species']).size()"
   ]
  },
  {
   "cell_type": "code",
   "execution_count": 62,
   "id": "62872364-5cdb-496e-951d-850730a2dbd9",
   "metadata": {},
   "outputs": [
    {
     "data": {
      "text/plain": [
       "species    year\n",
       "Adelie     2007    20\n",
       "           2008    16\n",
       "           2009    16\n",
       "Chinstrap  2007     0\n",
       "           2008     0\n",
       "           2009     0\n",
       "Gentoo     2007     0\n",
       "           2008     0\n",
       "           2009     0\n",
       "dtype: int64"
      ]
     },
     "execution_count": 62,
     "metadata": {},
     "output_type": "execute_result"
    }
   ],
   "source": [
    "torgersen_df.groupby(['species','year']).size()"
   ]
  },
  {
   "cell_type": "markdown",
   "id": "373ad838-e57b-4c1d-b661-2d3ca4f062cc",
   "metadata": {},
   "source": [
    "<h3>Insight #4: The island <b>Torgersen</b> only had <b>Adelie</b> as its inhabitant, with <b>2007</b> being the highest number of Adelies recorded.</h3>"
   ]
  },
  {
   "cell_type": "markdown",
   "id": "6afbb211-0e3b-4ff2-a158-bb067e398861",
   "metadata": {},
   "source": [
    "<h1>Question #5: What is the demography of Island Biscoe, and which year had the highest number of Adelie, Gentoo, and Chinstrap species recorded? </h1>"
   ]
  },
  {
   "cell_type": "code",
   "execution_count": 63,
   "id": "792f22d6-8d7f-453a-91ee-e1d9bb761d41",
   "metadata": {},
   "outputs": [
    {
     "data": {
      "text/plain": [
       "['Torgersen', 'Biscoe', 'Dream']\n",
       "Categories (3, object): ['Biscoe', 'Dream', 'Torgersen']"
      ]
     },
     "execution_count": 63,
     "metadata": {},
     "output_type": "execute_result"
    }
   ],
   "source": [
    "penguins['island'].unique()"
   ]
  },
  {
   "cell_type": "code",
   "execution_count": 64,
   "id": "279c60e7-a707-439b-86f6-4e60c3d6911c",
   "metadata": {},
   "outputs": [],
   "source": [
    "biscoe_df = penguins[penguins['island'] == 'Biscoe']"
   ]
  },
  {
   "cell_type": "code",
   "execution_count": 96,
   "id": "f715cf2c-1882-4d57-8153-9b266f71c108",
   "metadata": {},
   "outputs": [
    {
     "data": {
      "text/plain": [
       "species\n",
       "Adelie        44\n",
       "Chinstrap      0\n",
       "Gentoo       124\n",
       "dtype: int64"
      ]
     },
     "execution_count": 96,
     "metadata": {},
     "output_type": "execute_result"
    }
   ],
   "source": [
    "biscoe_df.groupby(['species']).size() # the number of species inhabiting the island."
   ]
  },
  {
   "cell_type": "code",
   "execution_count": 97,
   "id": "dbe2311d-fdfd-4980-b093-87d41e4779d3",
   "metadata": {},
   "outputs": [
    {
     "data": {
      "text/plain": [
       "species    year\n",
       "Adelie     2007    10\n",
       "           2008    18\n",
       "           2009    16\n",
       "Chinstrap  2007     0\n",
       "           2008     0\n",
       "           2009     0\n",
       "Gentoo     2007    34\n",
       "           2008    46\n",
       "           2009    44\n",
       "dtype: int64"
      ]
     },
     "execution_count": 97,
     "metadata": {},
     "output_type": "execute_result"
    }
   ],
   "source": [
    "biscoe_df.groupby(['species','year']).size()"
   ]
  },
  {
   "cell_type": "markdown",
   "id": "b02f5bab-fc8d-48bb-92c9-f79f9c2f2588",
   "metadata": {},
   "source": [
    "<h3>Insight #5: The island <b>Biscoe</b> had <i>44 Adelie</i> and <i>124 Gentoo</i> as its inhabitants, with the year <b>2008</b> recording <i>18 Adelies</i> and <b>2009</b> recording <i>44 Gentoos</i>.</h3>"
   ]
  },
  {
   "cell_type": "markdown",
   "id": "b3d78120-a38b-4ed2-b4ed-f29c9e8796fc",
   "metadata": {},
   "source": [
    "<h1>Question #6: What is the demography of Island Dream, and which year had the highest number of Adelie, Gentoo, and Chinstrap species recorded? </h1>"
   ]
  },
  {
   "cell_type": "code",
   "execution_count": 66,
   "id": "bbf34fbd-c2f9-4e0b-9171-f88905996fcf",
   "metadata": {},
   "outputs": [
    {
     "data": {
      "text/plain": [
       "['Torgersen', 'Biscoe', 'Dream']\n",
       "Categories (3, object): ['Biscoe', 'Dream', 'Torgersen']"
      ]
     },
     "execution_count": 66,
     "metadata": {},
     "output_type": "execute_result"
    }
   ],
   "source": [
    "penguins['island'].unique()"
   ]
  },
  {
   "cell_type": "code",
   "execution_count": 99,
   "id": "9ec6211d-62fb-4d22-90e9-74b3c93718c6",
   "metadata": {},
   "outputs": [],
   "source": [
    "dream_df = penguins[penguins['island'] == 'Dream']"
   ]
  },
  {
   "cell_type": "code",
   "execution_count": 100,
   "id": "b7d16f10-870c-4dfc-b536-fa9a76236e6b",
   "metadata": {},
   "outputs": [
    {
     "data": {
      "text/plain": [
       "species\n",
       "Adelie       56\n",
       "Chinstrap    68\n",
       "Gentoo        0\n",
       "dtype: int64"
      ]
     },
     "execution_count": 100,
     "metadata": {},
     "output_type": "execute_result"
    }
   ],
   "source": [
    "dream_df.groupby(['species']).size()"
   ]
  },
  {
   "cell_type": "code",
   "execution_count": 102,
   "id": "528cba5c-cff7-4347-8340-4c3499e826cb",
   "metadata": {},
   "outputs": [
    {
     "data": {
      "text/plain": [
       "species    year\n",
       "Adelie     2007    20\n",
       "           2008    16\n",
       "           2009    20\n",
       "Chinstrap  2007    26\n",
       "           2008    18\n",
       "           2009    24\n",
       "Gentoo     2007     0\n",
       "           2008     0\n",
       "           2009     0\n",
       "dtype: int64"
      ]
     },
     "execution_count": 102,
     "metadata": {},
     "output_type": "execute_result"
    }
   ],
   "source": [
    "dream_df.groupby(['species','year']).size()"
   ]
  },
  {
   "cell_type": "markdown",
   "id": "27742bf1-0ef3-47d1-a747-58e11e48a33b",
   "metadata": {},
   "source": [
    "<h3>Insight #6: The island <b>Dream</b> has <i>56 Adelie</i> and <i>68 Chinstrap</i> penguins as its inhabitants, with the year <b>2007</b> recording the highest number of Adelie and Chinstrap penguins.</h3>"
   ]
  },
  {
   "cell_type": "markdown",
   "id": "74a3f22b-e3a9-4cc8-9448-d89d4221eef9",
   "metadata": {},
   "source": [
    "<h1>Question #7: Which species has the highest number of male and female?</h1>"
   ]
  },
  {
   "cell_type": "code",
   "execution_count": 79,
   "id": "471cc882-a90b-40f8-858b-cbaad98abcca",
   "metadata": {},
   "outputs": [
    {
     "data": {
      "text/plain": [
       "sex\n",
       "male      79\n",
       "female    73\n",
       "Name: count, dtype: int64"
      ]
     },
     "execution_count": 79,
     "metadata": {},
     "output_type": "execute_result"
    }
   ],
   "source": [
    "adelie_df['sex'].value_counts()"
   ]
  },
  {
   "cell_type": "code",
   "execution_count": 80,
   "id": "37f95aa6-c50d-4797-9ec3-9ea838093c92",
   "metadata": {},
   "outputs": [
    {
     "data": {
      "text/plain": [
       "sex\n",
       "male      66\n",
       "female    58\n",
       "Name: count, dtype: int64"
      ]
     },
     "execution_count": 80,
     "metadata": {},
     "output_type": "execute_result"
    }
   ],
   "source": [
    "gentoo_df['sex'].value_counts()"
   ]
  },
  {
   "cell_type": "code",
   "execution_count": 81,
   "id": "73ccbf30-cf8b-4ba9-b187-5353ac39fb95",
   "metadata": {},
   "outputs": [
    {
     "data": {
      "text/plain": [
       "sex\n",
       "female    34\n",
       "male      34\n",
       "Name: count, dtype: int64"
      ]
     },
     "execution_count": 81,
     "metadata": {},
     "output_type": "execute_result"
    }
   ],
   "source": [
    "chinstrap_df['sex'].value_counts()"
   ]
  },
  {
   "cell_type": "markdown",
   "id": "82bc54e5-c4ae-47ca-8b60-3fc974652627",
   "metadata": {},
   "source": [
    "<h3>Insight #7: The species <b>Adelie</b> recorded the highest number of male and female with 79 and 73 respectively.</h3>"
   ]
  },
  {
   "cell_type": "markdown",
   "id": "7027dec4-4074-4dbe-a667-3e8a910a3507",
   "metadata": {},
   "source": [
    "<h1>8. What is the average body mass of each penguins the lives on each island?</h1>"
   ]
  },
  {
   "cell_type": "code",
   "execution_count": 142,
   "id": "03c3b67b-b418-4750-96bb-f1afe64f4f2d",
   "metadata": {},
   "outputs": [
    {
     "data": {
      "text/plain": [
       "['Torgersen', 'Biscoe', 'Dream']\n",
       "Categories (3, object): ['Biscoe', 'Dream', 'Torgersen']"
      ]
     },
     "execution_count": 142,
     "metadata": {},
     "output_type": "execute_result"
    }
   ],
   "source": [
    "penguins['island'].unique()"
   ]
  },
  {
   "cell_type": "code",
   "execution_count": 143,
   "id": "eef23b46-b356-4660-8eba-9a5b54442808",
   "metadata": {},
   "outputs": [],
   "source": [
    "Bmass_PerIsland = penguins.groupby(['island','species'])['body_mass_g'].mean()"
   ]
  },
  {
   "cell_type": "code",
   "execution_count": 144,
   "id": "92c88595-829b-45af-9bc4-27c4104278f8",
   "metadata": {},
   "outputs": [
    {
     "data": {
      "text/plain": [
       "island     species  \n",
       "Biscoe     Adelie       3709.659091\n",
       "           Chinstrap            NaN\n",
       "           Gentoo       5068.965761\n",
       "Dream      Adelie       3688.392857\n",
       "           Chinstrap    3733.088235\n",
       "           Gentoo               NaN\n",
       "Torgersen  Adelie       3715.899123\n",
       "           Chinstrap            NaN\n",
       "           Gentoo               NaN\n",
       "Name: body_mass_g, dtype: float64"
      ]
     },
     "execution_count": 144,
     "metadata": {},
     "output_type": "execute_result"
    }
   ],
   "source": [
    "Bmass_PerIsland"
   ]
  },
  {
   "cell_type": "markdown",
   "id": "d75b6a49-848a-4ee7-9442-dfcfd17ca424",
   "metadata": {},
   "source": [
    "<h3>Insigth #8: The average body mass of each penguins that live on each island are as follows:</h3>\n",
    "<p>Biscoe: Adelie has an average body mass of <b> 3709.659091</b> while Gentoo has an average body mass of 5068.965761</p>\n",
    "<p>Dream: Adelie has an average body mass of <b>3688.392857</b> while Chinstrap has an average body mass of <b>3733.088235\n",
    "</b></p>\n",
    "<p>Torgersen: Adelie has an average body mass of <b> 3715.899123</p>"
   ]
  },
  {
   "cell_type": "markdown",
   "id": "7e61b58d-5c81-4370-9e7f-cdadeebdc795",
   "metadata": {},
   "source": [
    "<h1>Question #9: We found out earlier that Chinstrap is the species that has the highest average bill length and depth while Gentoo has the highest average body mass. Does the bill length and depth of Chinstrap affects it's body mass? Does Gentoo having heaviest average body mass affect the growth of it's limbs?</h1>"
   ]
  },
  {
   "cell_type": "markdown",
   "id": "948c8069-14e0-4488-a3c3-38c8615f4bc1",
   "metadata": {},
   "source": [
    "<h5>Finding correlation on Chinstrap</h5>"
   ]
  },
  {
   "cell_type": "code",
   "execution_count": 158,
   "id": "eba78044-1518-4178-b1e9-4d49468693bf",
   "metadata": {},
   "outputs": [],
   "source": [
    "ch_blength_bmass_corr = chinstrap_df['bill_length_mm'].corr(chinstrap_df['body_mass_g'])"
   ]
  },
  {
   "cell_type": "code",
   "execution_count": 159,
   "id": "f1d6bfc2-c981-4a85-b21a-aa1bcc389a1f",
   "metadata": {},
   "outputs": [
    {
     "data": {
      "text/plain": [
       "np.float64(0.5136383479489105)"
      ]
     },
     "execution_count": 159,
     "metadata": {},
     "output_type": "execute_result"
    }
   ],
   "source": [
    "ch_blength_bmass_corr"
   ]
  },
  {
   "cell_type": "code",
   "execution_count": 162,
   "id": "5834f278-f103-4f78-8832-36cb1f26c9cb",
   "metadata": {},
   "outputs": [],
   "source": [
    "ch_bdepth_bmass_corr =  chinstrap_df['bill_depth_mm'].corr(chinstrap_df['body_mass_g'])"
   ]
  },
  {
   "cell_type": "code",
   "execution_count": 163,
   "id": "2466fc37-95bd-4a2f-baad-193b43e0fd37",
   "metadata": {},
   "outputs": [
    {
     "data": {
      "text/plain": [
       "np.float64(0.6044982582238205)"
      ]
     },
     "execution_count": 163,
     "metadata": {},
     "output_type": "execute_result"
    }
   ],
   "source": [
    "ch_bdepth_bmass_corr "
   ]
  },
  {
   "cell_type": "markdown",
   "id": "9de650a0-874f-4313-8185-506c9edee874",
   "metadata": {},
   "source": [
    "<h5>Finding correlation on Gentoo</h5>"
   ]
  },
  {
   "cell_type": "code",
   "execution_count": 175,
   "id": "d8b755c3-dae9-4cd1-90ba-16cdc14135af",
   "metadata": {},
   "outputs": [],
   "source": [
    "ge_blength_bmass_corr = gentoo_df['bill_length_mm'].corr(gentoo_df['body_mass_g'])"
   ]
  },
  {
   "cell_type": "code",
   "execution_count": 176,
   "id": "453ee42a-8524-4d35-965f-8b881761e6bd",
   "metadata": {},
   "outputs": [
    {
     "data": {
      "text/plain": [
       "np.float64(0.6736363731181065)"
      ]
     },
     "execution_count": 176,
     "metadata": {},
     "output_type": "execute_result"
    }
   ],
   "source": [
    "ge_blength_bmass_corr"
   ]
  },
  {
   "cell_type": "code",
   "execution_count": 178,
   "id": "221e4ee2-0134-4207-8423-ad862523c975",
   "metadata": {},
   "outputs": [],
   "source": [
    "ge_bdepth_bmass_corr = gentoo_df['bill_depth_mm'].corr(gentoo_df['body_mass_g'])"
   ]
  },
  {
   "cell_type": "code",
   "execution_count": 179,
   "id": "7bab0361-957e-47ec-a4af-356313841cae",
   "metadata": {},
   "outputs": [
    {
     "data": {
      "text/plain": [
       "np.float64(0.6665426960319999)"
      ]
     },
     "execution_count": 179,
     "metadata": {},
     "output_type": "execute_result"
    }
   ],
   "source": [
    "ge_bdepth_bmass_corr"
   ]
  },
  {
   "cell_type": "markdown",
   "id": "b9067a00-9a39-49da-aff4-3aed8fd61754",
   "metadata": {},
   "source": [
    "<h3>Insigth #9: According to the data above, there is a correlation between the body mass and bill length and depth of both <b> Gentoo</b> and <b>Chinstrap</b></h3>"
   ]
  },
  {
   "cell_type": "markdown",
   "id": "536e2089-8c92-4495-aabc-194b6a705f97",
   "metadata": {},
   "source": [
    "<h1>Data Aggregation</h1>"
   ]
  },
  {
   "cell_type": "markdown",
   "id": "8b86ad99-e6da-466e-ac85-8a4896471843",
   "metadata": {},
   "source": [
    "<h5>What is the number species that inhabitates each island</h5>"
   ]
  },
  {
   "cell_type": "code",
   "execution_count": 82,
   "id": "cbba9ea5-8ead-414a-8a26-671088fe5fbf",
   "metadata": {},
   "outputs": [],
   "source": [
    "PerIsland = penguins.groupby(['species','island']).size()"
   ]
  },
  {
   "cell_type": "code",
   "execution_count": 83,
   "id": "97448878-706b-4aed-aaf8-7595663cc616",
   "metadata": {},
   "outputs": [
    {
     "data": {
      "text/plain": [
       "species    island   \n",
       "Adelie     Biscoe        44\n",
       "           Dream         56\n",
       "           Torgersen     52\n",
       "Chinstrap  Biscoe         0\n",
       "           Dream         68\n",
       "           Torgersen      0\n",
       "Gentoo     Biscoe       124\n",
       "           Dream          0\n",
       "           Torgersen      0\n",
       "dtype: int64"
      ]
     },
     "execution_count": 83,
     "metadata": {},
     "output_type": "execute_result"
    }
   ],
   "source": [
    "PerIsland"
   ]
  },
  {
   "cell_type": "markdown",
   "id": "2f733c95-41a6-4206-ab50-009faa69a2dc",
   "metadata": {},
   "source": [
    "<h5>What is the number of male Adelie on each island?</h5\\>"
   ]
  },
  {
   "cell_type": "code",
   "execution_count": 84,
   "id": "c342315d-70c6-4763-811d-b6a618b6b83a",
   "metadata": {},
   "outputs": [],
   "source": [
    "AdelieMalePerIsland = adelie_df.groupby(['species','sex','island']).size()"
   ]
  },
  {
   "cell_type": "code",
   "execution_count": 85,
   "id": "52d23887-bec0-4cac-9c28-b1791aa7b141",
   "metadata": {},
   "outputs": [
    {
     "data": {
      "text/plain": [
       "species  sex     island   \n",
       "Adelie   female  Biscoe       22\n",
       "                 Dream        27\n",
       "                 Torgersen    24\n",
       "         male    Biscoe       22\n",
       "                 Dream        29\n",
       "                 Torgersen    28\n",
       "dtype: int64"
      ]
     },
     "execution_count": 85,
     "metadata": {},
     "output_type": "execute_result"
    }
   ],
   "source": [
    "AdelieMalePerIsland"
   ]
  },
  {
   "cell_type": "markdown",
   "id": "803b56a8-2dbe-4b35-a5bf-487fc42cf04e",
   "metadata": {},
   "source": [
    "<h5>Which species has the longest bill lenght?</h5>"
   ]
  },
  {
   "cell_type": "code",
   "execution_count": 86,
   "id": "eace3bdc-9c46-4ddd-ab9f-21de0d35d03f",
   "metadata": {},
   "outputs": [],
   "source": [
    "per_bill_length = penguins.groupby(['species'])['bill_length_mm'].mean()"
   ]
  },
  {
   "cell_type": "code",
   "execution_count": 87,
   "id": "72e0b613-4714-4c2a-b199-c51692e29889",
   "metadata": {},
   "outputs": [
    {
     "data": {
      "text/plain": [
       "species\n",
       "Adelie       38.825144\n",
       "Chinstrap    48.833824\n",
       "Gentoo       47.475983\n",
       "Name: bill_length_mm, dtype: float64"
      ]
     },
     "execution_count": 87,
     "metadata": {},
     "output_type": "execute_result"
    }
   ],
   "source": [
    "per_bill_length"
   ]
  },
  {
   "cell_type": "markdown",
   "id": "7b59dd02-313e-4c8a-9fee-19707e6a44e8",
   "metadata": {},
   "source": [
    "<h5>What is the average of each species per island?</h5>"
   ]
  },
  {
   "cell_type": "code",
   "execution_count": 88,
   "id": "45bf93f6-8b23-42a1-bc38-bd66d9acf653",
   "metadata": {},
   "outputs": [],
   "source": [
    "avg_species_island = penguins.groupby(['species','island'])['body_mass_g'].mean()"
   ]
  },
  {
   "cell_type": "code",
   "execution_count": 89,
   "id": "ea4d18b8-d69f-4d28-914c-c7715401ab37",
   "metadata": {},
   "outputs": [
    {
     "data": {
      "text/plain": [
       "species    island   \n",
       "Adelie     Biscoe       3709.659091\n",
       "           Dream        3688.392857\n",
       "           Torgersen    3715.899123\n",
       "Chinstrap  Biscoe               NaN\n",
       "           Dream        3733.088235\n",
       "           Torgersen            NaN\n",
       "Gentoo     Biscoe       5068.965761\n",
       "           Dream                NaN\n",
       "           Torgersen            NaN\n",
       "Name: body_mass_g, dtype: float64"
      ]
     },
     "execution_count": 89,
     "metadata": {},
     "output_type": "execute_result"
    }
   ],
   "source": [
    "avg_species_island"
   ]
  },
  {
   "cell_type": "markdown",
   "id": "bfd80776-b74a-4080-b08b-adb7113668d9",
   "metadata": {},
   "source": [
    "<h5>Which sex is the heaviest?</h5>"
   ]
  },
  {
   "cell_type": "code",
   "execution_count": 90,
   "id": "5fac6c16-16eb-491e-9bfd-46d4255c9941",
   "metadata": {},
   "outputs": [],
   "source": [
    "weight_per_sex = penguins.groupby(['sex'])['body_mass_g'].mean()"
   ]
  },
  {
   "cell_type": "code",
   "execution_count": 91,
   "id": "f560b3cc-ad3c-47af-8f4a-7a672ca6960c",
   "metadata": {},
   "outputs": [
    {
     "data": {
      "text/plain": [
       "sex\n",
       "female    3862.272727\n",
       "male      4514.684407\n",
       "Name: body_mass_g, dtype: float64"
      ]
     },
     "execution_count": 91,
     "metadata": {},
     "output_type": "execute_result"
    }
   ],
   "source": [
    "weight_per_sex"
   ]
  },
  {
   "cell_type": "markdown",
   "id": "06b1e7ff-3cfb-4846-814e-075cf013a6a5",
   "metadata": {},
   "source": [
    "<h1>Testing Correlation</h1>"
   ]
  },
  {
   "cell_type": "markdown",
   "id": "63a4b8b7-471e-4250-9107-9d4f0b4d7d06",
   "metadata": {},
   "source": [
    "<h3>Pearson R Correlation</h3>\n",
    "<hr>\n",
    "<p>Used for testing correlation between two <strong>Numerical Values</strong></p>"
   ]
  },
  {
   "cell_type": "code",
   "execution_count": 92,
   "id": "b5392ea7-d4ad-4d0e-9a94-a785c8ebd2ff",
   "metadata": {},
   "outputs": [],
   "source": [
    "weight_flipper_cor = penguins['body_mass_g'].corr(penguins['flipper_length_mm'])"
   ]
  },
  {
   "cell_type": "code",
   "execution_count": 93,
   "id": "c98a71f0-44eb-49e7-aa0a-4573860d2c3e",
   "metadata": {},
   "outputs": [
    {
     "data": {
      "text/plain": [
       "np.float64(0.8712017673060114)"
      ]
     },
     "execution_count": 93,
     "metadata": {},
     "output_type": "execute_result"
    }
   ],
   "source": [
    "weight_flipper_cor"
   ]
  },
  {
   "cell_type": "code",
   "execution_count": 94,
   "id": "52bb06da-7f14-4f80-9d78-798f539801cb",
   "metadata": {},
   "outputs": [
    {
     "data": {
      "text/plain": [
       "species              category\n",
       "island               category\n",
       "bill_length_mm        float64\n",
       "bill_depth_mm         float64\n",
       "flipper_length_mm     float64\n",
       "body_mass_g           float64\n",
       "sex                  category\n",
       "year                 category\n",
       "mass_kg               float64\n",
       "dtype: object"
      ]
     },
     "execution_count": 94,
     "metadata": {},
     "output_type": "execute_result"
    }
   ],
   "source": [
    "penguins.dtypes"
   ]
  }
 ],
 "metadata": {
  "kernelspec": {
   "display_name": "Python 3 (ipykernel)",
   "language": "python",
   "name": "python3"
  },
  "language_info": {
   "codemirror_mode": {
    "name": "ipython",
    "version": 3
   },
   "file_extension": ".py",
   "mimetype": "text/x-python",
   "name": "python",
   "nbconvert_exporter": "python",
   "pygments_lexer": "ipython3",
   "version": "3.12.10"
  }
 },
 "nbformat": 4,
 "nbformat_minor": 5
}
