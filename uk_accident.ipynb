{
  "cells": [
    {
      "cell_type": "markdown",
      "metadata": {
        "id": "P5y-1C4nyxcJ"
      },
      "source": [
        "<h5>Importing libraries</h5>"
      ]
    },
    {
      "cell_type": "code",
      "execution_count": null,
      "metadata": {
        "id": "Ph5G1IeorrQA"
      },
      "outputs": [],
      "source": [
        "import pandas as pd\n",
        "import numpy as np\n",
        "from scipy.stats import f_oneway\n",
        "import warnings\n",
        "warnings.filterwarnings('ignore')"
      ]
    },
    {
      "cell_type": "markdown",
      "metadata": {
        "id": "1sEtlCHftcwk"
      },
      "source": [
        "<h3>Importing dataset and converting it into column</h3>"
      ]
    },
    {
      "cell_type": "code",
      "execution_count": null,
      "metadata": {
        "id": "RNAw7M8ytna1"
      },
      "outputs": [],
      "source": [
        "uk = pd.read_csv('/content/drive/MyDrive/Colab Notebooks/datasets/uk_road_accident.csv')"
      ]
    },
    {
      "cell_type": "code",
      "execution_count": null,
      "metadata": {
        "id": "WchSdvMwuBB8"
      },
      "outputs": [],
      "source": [
        "uk"
      ]
    },
    {
      "cell_type": "code",
      "execution_count": null,
      "metadata": {
        "id": "XzEpcvXKuQEB"
      },
      "outputs": [],
      "source": [
        "uk.info()"
      ]
    },
    {
      "cell_type": "markdown",
      "metadata": {
        "id": "G7RLvFkfuk-K"
      },
      "source": [
        "<h3>Changing the data types of the columns</h3>"
      ]
    },
    {
      "cell_type": "code",
      "execution_count": null,
      "metadata": {
        "id": "5lM2-jY1uq35"
      },
      "outputs": [],
      "source": [
        "uk.dtypes"
      ]
    },
    {
      "cell_type": "code",
      "execution_count": null,
      "metadata": {
        "id": "kBTSJaQFus7m"
      },
      "outputs": [],
      "source": [
        "uk['Index'] = uk['Index'].astype('category')\n",
        "uk['Accident_Severity'] = uk['Accident_Severity'].astype('category')\n",
        "uk['Accident Date'] = uk['Accident Date'].astype('category')\n",
        "uk['Light_Conditions'] = uk['Light_Conditions'].astype('category')\n",
        "uk['District Area'] = uk['District Area'].astype('category')\n",
        "uk['Road_Surface_Conditions'] = uk['Road_Surface_Conditions'].astype('category')\n",
        "uk['Road_Type'] = uk['Road_Type'].astype('category')\n",
        "uk['Urban_or_Rural_Area'] = uk['Urban_or_Rural_Area'].astype('category')\n",
        "uk['Weather_Conditions'] = uk['Weather_Conditions'].astype('category')\n",
        "uk['Vehicle_Type'] = uk['Vehicle_Type'].astype('category')"
      ]
    },
    {
      "cell_type": "code",
      "execution_count": null,
      "metadata": {
        "id": "Dj41s9Z9u976"
      },
      "outputs": [],
      "source": [
        "uk.dtypes"
      ]
    },
    {
      "cell_type": "markdown",
      "metadata": {
        "id": "Xlbofgf8w5PA"
      },
      "source": [
        "<h3>Cleaning empty datas</h3>"
      ]
    },
    {
      "cell_type": "code",
      "execution_count": null,
      "metadata": {
        "id": "ExdMjw0ow9MW"
      },
      "outputs": [],
      "source": [
        "uk.isna().sum()"
      ]
    },
    {
      "cell_type": "markdown",
      "metadata": {
        "id": "E3Rb4FxnxYOp"
      },
      "source": [
        "<h5>Cleaning empty numerical datas</h5>"
      ]
    },
    {
      "cell_type": "code",
      "execution_count": null,
      "metadata": {
        "id": "UexrGfWiw-38"
      },
      "outputs": [],
      "source": [
        "uk['Latitude'] = uk['Latitude'].fillna(uk['Latitude'].mean())\n",
        "uk['Longitude'] = uk['Longitude'].fillna(uk['Longitude'].mean())"
      ]
    },
    {
      "cell_type": "code",
      "execution_count": null,
      "metadata": {
        "id": "r3j_ItONxqli"
      },
      "outputs": [],
      "source": [
        "uk.isna().sum()"
      ]
    },
    {
      "cell_type": "markdown",
      "metadata": {
        "id": "rt_fWZZGxvap"
      },
      "source": [
        "<h5>Cleaning non-numerical empty datas </h5>"
      ]
    },
    {
      "cell_type": "code",
      "execution_count": null,
      "metadata": {
        "id": "yVl6qUFqxsN2"
      },
      "outputs": [],
      "source": [
        "uk['Road_Surface_Conditions'] = uk['Road_Surface_Conditions'].fillna(uk['Road_Surface_Conditions'].mode()[0])\n",
        "uk['Road_Type'] = uk['Road_Type'].fillna(uk['Road_Type'].mode()[0])\n",
        "uk['Urban_or_Rural_Area'] = uk['Urban_or_Rural_Area'].fillna(uk['Urban_or_Rural_Area'].mode()[0])\n",
        "uk['Weather_Conditions'] = uk['Weather_Conditions'].fillna(uk['Weather_Conditions'].mode()[0])"
      ]
    },
    {
      "cell_type": "code",
      "execution_count": null,
      "metadata": {
        "id": "mHJRfVtOx8Vj"
      },
      "outputs": [],
      "source": [
        "uk.isna().sum()"
      ]
    },
    {
      "cell_type": "markdown",
      "metadata": {
        "id": "Z-TPEYPty8SX"
      },
      "source": [
        "<h1>Exploratory Data Analytics</h5>"
      ]
    },
    {
      "cell_type": "markdown",
      "metadata": {
        "id": "oHJWFa210scq"
      },
      "source": [
        "<h1>1. What percentages do each accident severity represent on the accident report? and which severity had the highest percentage on the report."
      ]
    },
    {
      "cell_type": "code",
      "execution_count": null,
      "metadata": {
        "id": "hvXlbe1jzA8y"
      },
      "outputs": [],
      "source": [
        "uk['Accident_Severity'].unique()"
      ]
    },
    {
      "cell_type": "code",
      "execution_count": null,
      "metadata": {
        "id": "V56FAAZ1006R"
      },
      "outputs": [],
      "source": [
        "severity = uk['Accident_Severity']"
      ]
    },
    {
      "cell_type": "code",
      "execution_count": null,
      "metadata": {
        "id": "u-1PWzbc1lKE"
      },
      "outputs": [],
      "source": [
        "Slight, Serious, Fatal = severity.value_counts()"
      ]
    },
    {
      "cell_type": "markdown",
      "metadata": {
        "id": "dLSJQdTn2VWO"
      },
      "source": [
        "<p>Percentage of Slight category</p>"
      ]
    },
    {
      "cell_type": "code",
      "execution_count": null,
      "metadata": {
        "id": "4sbPTqKu1wIc"
      },
      "outputs": [],
      "source": [
        "(Slight / len(uk)) * 100"
      ]
    },
    {
      "cell_type": "markdown",
      "metadata": {
        "id": "wqaxOvO_2j0w"
      },
      "source": [
        "<p>Slight severity consumes <strong>85%</strong> of overall reports</p>"
      ]
    },
    {
      "cell_type": "markdown",
      "metadata": {
        "id": "bnBBJEiD3WQE"
      },
      "source": [
        "<p>Percentage of serious category</p>"
      ]
    },
    {
      "cell_type": "code",
      "execution_count": null,
      "metadata": {
        "id": "lE12EHxB2fii"
      },
      "outputs": [],
      "source": [
        "(Serious / len(uk)) * 100"
      ]
    },
    {
      "cell_type": "markdown",
      "metadata": {
        "id": "lGx5hZ-F3lGg"
      },
      "source": [
        "<p>Serious severity consumes <strong>13%</strong> of overall reports</p>"
      ]
    },
    {
      "cell_type": "code",
      "execution_count": null,
      "metadata": {
        "id": "5euT6aRy3qF2"
      },
      "outputs": [],
      "source": [
        "(Fatal / len(uk)) * 100"
      ]
    },
    {
      "cell_type": "markdown",
      "metadata": {
        "id": "qp0zFxP-4njk"
      },
      "source": [
        "<p>Fatal severity consumes <strong>1%</strong> of overall reports</p>"
      ]
    },
    {
      "cell_type": "markdown",
      "metadata": {
        "id": "esCsxv-h4smd"
      },
      "source": [
        "<h1>Insight # 1: With the calculation above, we found out that Serious accident severity consumes 85.33% of the overall reportts while Serious and Fatal have 13.35% and 1.31% respectively</h1>"
      ]
    },
    {
      "cell_type": "markdown",
      "source": [
        "<h1>2. Does the weather condition and vehicle type affect the number of casualties? If so, which weather condition and vehicle type recorded the highest number of casualties?"
      ],
      "metadata": {
        "id": "jiMMQKpP_WS8"
      }
    },
    {
      "cell_type": "code",
      "source": [
        " pd.set_option('display.max_colwidth', 500)"
      ],
      "metadata": {
        "id": "o0UgAqU-A-sV"
      },
      "execution_count": null,
      "outputs": []
    },
    {
      "cell_type": "code",
      "source": [
        "weatherandvehicle = uk.groupby(['Weather_Conditions', \"Vehicle_Type\"])['Number_of_Casualties'].size()"
      ],
      "metadata": {
        "id": "ytDQoxwS_oTf"
      },
      "execution_count": null,
      "outputs": []
    },
    {
      "cell_type": "code",
      "source": [
        "uk['Weather_Conditions'].value_counts()"
      ],
      "metadata": {
        "id": "936kCPiGAFRf"
      },
      "execution_count": null,
      "outputs": []
    },
    {
      "cell_type": "markdown",
      "source": [
        "<h3>Breakdown</h3>"
      ],
      "metadata": {
        "id": "kd2VarPFBvgw"
      }
    },
    {
      "cell_type": "code",
      "source": [
        "# Fine and no high winds\n",
        "weatherandvehicle['Fine no high winds'].sort_values(ascending = False)"
      ],
      "metadata": {
        "id": "TJRFzwjDAWaP"
      },
      "execution_count": null,
      "outputs": []
    },
    {
      "cell_type": "code",
      "source": [
        "# raining no high winds\n",
        "weatherandvehicle['Raining no high winds'].sort_values(ascending = False)"
      ],
      "metadata": {
        "id": "tmS2PWwlB6M1"
      },
      "execution_count": null,
      "outputs": []
    },
    {
      "cell_type": "code",
      "source": [
        "# raining+ high winds\n",
        "weatherandvehicle['Raining + high winds'].sort_values(ascending = False)"
      ],
      "metadata": {
        "id": "zhzxNU2vDTcq"
      },
      "execution_count": null,
      "outputs": []
    },
    {
      "cell_type": "code",
      "source": [
        "# Fine + high winds\n",
        "weatherandvehicle['Fine + high winds'].sort_values(ascending = False)"
      ],
      "metadata": {
        "id": "R839CjOgDm0g"
      },
      "execution_count": null,
      "outputs": []
    },
    {
      "cell_type": "code",
      "source": [
        "# snowing no high winds\n",
        "weatherandvehicle['Snowing no high winds'].sort_values(ascending = False)"
      ],
      "metadata": {
        "id": "caIYls5_D0GS"
      },
      "execution_count": null,
      "outputs": []
    },
    {
      "cell_type": "code",
      "source": [
        "# Fog or mist\n",
        "weatherandvehicle['Fog or mist'].sort_values(ascending = False)"
      ],
      "metadata": {
        "id": "fRPUKosFD_4E"
      },
      "execution_count": null,
      "outputs": []
    },
    {
      "cell_type": "code",
      "source": [
        "# Snowing + high winds\n",
        "weatherandvehicle['Snowing + high winds'].sort_values(ascending = False)"
      ],
      "metadata": {
        "id": "jFL76GOUEOZx"
      },
      "execution_count": null,
      "outputs": []
    },
    {
      "cell_type": "markdown",
      "source": [
        "<h1>Insight #2:</h1>\n",
        "<h5>Car consistently dominated the vehucle type per casualties. It remained as the number one cause of accident regardlessof the weather condition. Surprisingly, contrary to the popular belief that wet roads causes more accidents, the data shows that 500000 of the overall report occured on a dry weather."
      ],
      "metadata": {
        "id": "i3onz-hFEdj3"
      }
    },
    {
      "cell_type": "markdown",
      "source": [
        "<h1>Question #3: Which is the safest? Urban or Rural area. Determine if the Light condition and Road type of an area determine the number of casualties it  will record. </h1>"
      ],
      "metadata": {
        "id": "_3fvGZx0FniS"
      }
    },
    {
      "cell_type": "code",
      "source": [
        "uk.info()"
      ],
      "metadata": {
        "id": "w4835CwzEXj8"
      },
      "execution_count": null,
      "outputs": []
    },
    {
      "cell_type": "code",
      "source": [
        "urbanorrural = uk.groupby(['Urban_or_Rural_Area','Light_Conditions','Road_Type'])['Number_of_Casualties'].count()"
      ],
      "metadata": {
        "id": "Mup-gFk4FL_V"
      },
      "execution_count": null,
      "outputs": []
    },
    {
      "cell_type": "markdown",
      "source": [
        "<h3>Breakdown</h3>"
      ],
      "metadata": {
        "id": "IoR6vfXnHSH5"
      }
    },
    {
      "cell_type": "code",
      "source": [
        "# Rural\n",
        "urbanorrural['Rural']"
      ],
      "metadata": {
        "id": "l2ouirb7HJC7"
      },
      "execution_count": null,
      "outputs": []
    },
    {
      "cell_type": "code",
      "source": [
        "urbanorrural['Urban']"
      ],
      "metadata": {
        "id": "wFiHwOsFHdMk"
      },
      "execution_count": null,
      "outputs": []
    },
    {
      "cell_type": "code",
      "source": [
        "# Checking if Rural recorded more number of casualties than Urban\n",
        "(urbanorrural['Rural'] > urbanorrural['Urban']).value_counts()"
      ],
      "metadata": {
        "id": "FTOmv-hrIASo"
      },
      "execution_count": null,
      "outputs": []
    },
    {
      "cell_type": "markdown",
      "source": [
        "<p>We could say here that rural is safer than Urban, but we still need to compare the number of casualties each have</p>"
      ],
      "metadata": {
        "id": "SvIPj3abIz37"
      }
    },
    {
      "cell_type": "code",
      "source": [
        "urbanorrural['Rural'].sum()"
      ],
      "metadata": {
        "id": "4DHQydzkIHdZ"
      },
      "execution_count": null,
      "outputs": []
    },
    {
      "cell_type": "code",
      "source": [
        "urbanorrural['Urban'].sum()"
      ],
      "metadata": {
        "id": "GAbifu2mJOSM"
      },
      "execution_count": null,
      "outputs": []
    },
    {
      "cell_type": "markdown",
      "source": [
        "<p>Now, let's determine which Road Type and Light condition from each area recorded the highest number of casualties"
      ],
      "metadata": {
        "id": "RcZpIPhMJUUf"
      }
    },
    {
      "cell_type": "code",
      "source": [
        "urbanorrural['Rural'].sort_values(ascending=False).head(n=5)"
      ],
      "metadata": {
        "id": "MrSZ4mFWJReN"
      },
      "execution_count": null,
      "outputs": []
    },
    {
      "cell_type": "code",
      "source": [
        "urbanorrural['Urban'].sort_values(ascending=False).head(n=5)"
      ],
      "metadata": {
        "id": "6Tu9lnsRKD98"
      },
      "execution_count": null,
      "outputs": []
    },
    {
      "cell_type": "markdown",
      "source": [
        "<h1>Insight #3:</h1>\n",
        "<p>Daylight recorded the highest number of casualties, this would mean that drivers were more careful at night that they don't take extra car during daytime. Also, single carriageway road types recorded the highest number of casualties"
      ],
      "metadata": {
        "id": "DKtYfwfHKW3d"
      }
    },
    {
      "cell_type": "markdown",
      "source": [
        "<h1>Question #4: Traffic is one of the main source of accidents, determine which district areas recorded an accident involving more than 5 cars</h1>"
      ],
      "metadata": {
        "id": "6A8M8A1MLU1O"
      }
    },
    {
      "cell_type": "code",
      "source": [
        "more_than_5 = uk[uk['Number_of_Casualties'] > 5]\n",
        "uk.groupby(more_than_5['District Area'])['Number_of_Casualties'].count().sort_values(ascending=False)"
      ],
      "metadata": {
        "id": "R1tZ0Q44MR_X"
      },
      "execution_count": null,
      "outputs": []
    },
    {
      "cell_type": "markdown",
      "source": [
        "<h1>Insight #4:</h1>\n",
        "<p>Birmingham District recorded 70 casualties involving more than 5 cars</p>"
      ],
      "metadata": {
        "id": "QJboqSCBOPRM"
      }
    },
    {
      "cell_type": "markdown",
      "source": [
        "<h1>Question #5: Since Birminham District has the highest number of casualties involving more than 5 cars, determine what type of road surface condition they have.</h1>"
      ],
      "metadata": {
        "id": "pAdP_d4oOro6"
      }
    },
    {
      "cell_type": "code",
      "source": [
        "birmingham = uk[uk['District Area'] == 'Birmingham']\n",
        "birmingham_road_surface = birmingham[birmingham['Number_of_Casualties'] > 5]['Road_Surface_Conditions']\n",
        "birmingham_road_surface.value_counts()"
      ],
      "metadata": {
        "id": "zPAMItcvMXq5"
      },
      "execution_count": null,
      "outputs": []
    },
    {
      "cell_type": "markdown",
      "source": [
        "<h1>Insight #5:</h1>\n",
        "<p>Strengthening the conclusion that we had earlier wet surface is not the main source of accident</p>"
      ],
      "metadata": {
        "id": "9RiM_FFvPQKt"
      }
    },
    {
      "cell_type": "markdown",
      "source": [
        "<h1>Question #6: Which district are have the highest number of fatal accidents</h1>"
      ],
      "metadata": {
        "id": "YJ7MUjh3VJ19"
      }
    },
    {
      "cell_type": "code",
      "source": [
        "Fatal_per_district = uk[uk['Accident_Severity'] == 'Fatal']['District Area'].value_counts()"
      ],
      "metadata": {
        "id": "YfjomHT3WVQy"
      },
      "execution_count": null,
      "outputs": []
    },
    {
      "cell_type": "code",
      "source": [
        "Fatal_per_district.sort_values(ascending=False).head(n=10)"
      ],
      "metadata": {
        "id": "iQ4ZDTWXWwg2"
      },
      "execution_count": null,
      "outputs": []
    },
    {
      "cell_type": "markdown",
      "source": [
        "<h1>Insight #6:</h1>\n",
        "<p>Birmingham district have the highest number of Fatal accidents</p>"
      ],
      "metadata": {
        "id": "_AdEGS2AW9_Z"
      }
    },
    {
      "cell_type": "markdown",
      "source": [
        "<h1>Question #7: What is the common vehicle types involved in Fatal Accidents?</h1>"
      ],
      "metadata": {
        "id": "qudx-Wz8XNn1"
      }
    },
    {
      "cell_type": "code",
      "source": [
        "Vehicle_fatal = uk[uk['Accident_Severity'] == 'Fatal']['Vehicle_Type'].value_counts()"
      ],
      "metadata": {
        "id": "hrSMB0tuWz3N"
      },
      "execution_count": null,
      "outputs": []
    },
    {
      "cell_type": "code",
      "source": [
        "Vehicle_fatal.sort_values(ascending=False).head(n=10)"
      ],
      "metadata": {
        "id": "3J3D6q4zXirq"
      },
      "execution_count": null,
      "outputs": []
    },
    {
      "cell_type": "markdown",
      "source": [
        "<h1>Insight #7:</h1>\n",
        "<p>Car remains the number one vehicle involved on fatal accidents</p>"
      ],
      "metadata": {
        "id": "EuK6Iwq5XoMu"
      }
    },
    {
      "cell_type": "markdown",
      "source": [
        "<h1>Question #8: Is there a relationship between latitude and longitude and the number of casualties?</h1>"
      ],
      "metadata": {
        "id": "e-dVuSmFX5JQ"
      }
    },
    {
      "cell_type": "code",
      "source": [
        "uk['Number_of_Casualties'].corr(uk['Latitude'])"
      ],
      "metadata": {
        "id": "olAesOceYQH0"
      },
      "execution_count": null,
      "outputs": []
    },
    {
      "cell_type": "code",
      "source": [
        "uk['Number_of_Casualties'].corr(uk['Longitude'])"
      ],
      "metadata": {
        "id": "_oMo5JwhY31y"
      },
      "execution_count": null,
      "outputs": []
    },
    {
      "cell_type": "markdown",
      "source": [
        "<h1>Insight #8:</h1>\n",
        "<p>There's no relation between longitude, latitude, and number of casualties</p>"
      ],
      "metadata": {
        "id": "h6OSqviBZDHt"
      }
    },
    {
      "cell_type": "markdown",
      "source": [
        "<h1>Question #9: Is there a correlation between the number of vehicles involved and the number of casualties</h1>"
      ],
      "metadata": {
        "id": "IbzoRu5HZ3Uw"
      }
    },
    {
      "cell_type": "code",
      "source": [
        "uk['Number_of_Casualties'].corr(uk['Number_of_Vehicles'])"
      ],
      "metadata": {
        "id": "_IBfFoj6ZA6A"
      },
      "execution_count": null,
      "outputs": []
    },
    {
      "cell_type": "markdown",
      "source": [
        "<h1>Insight #9: No, there is no correlation between Number of vehicles involved and the number of casualties</h1>"
      ],
      "metadata": {
        "id": "hwQqgpF8aWNJ"
      }
    },
    {
      "cell_type": "markdown",
      "source": [
        "<h1>Question #10: Which road surface conditions are prevalent during serious accidents?</h1>"
      ],
      "metadata": {
        "id": "SWD9wZwQajJ-"
      }
    },
    {
      "cell_type": "code",
      "source": [
        "serious_accident = uk[uk['Accident_Severity'] == 'Serious']\n",
        "surface_condition_serious = serious_accident['Road_Surface_Conditions'].value_counts()\n",
        "surface_condition_serious.sort_values(ascending=False)"
      ],
      "metadata": {
        "id": "mNJa_Y13asjx"
      },
      "execution_count": null,
      "outputs": []
    },
    {
      "cell_type": "markdown",
      "source": [
        "<h1>Insight #10:</h1>\n",
        "<p>Dry surface are prevalent during serious accidents</h1>"
      ],
      "metadata": {
        "id": "upwk8w4FbQHE"
      }
    },
    {
      "cell_type": "markdown",
      "source": [
        "<h1>Insight #11: What are the most common combinations of weather conditions and light conditions during accidents?</h1>"
      ],
      "metadata": {
        "id": "D04fccncbkI_"
      }
    },
    {
      "cell_type": "code",
      "source": [
        "weather_and_light = uk.groupby(['Weather_Conditions','Light_Conditions'])['Number_of_Casualties'].count()\n",
        "weather_and_light.sort_values(ascending=False).head(n=10)"
      ],
      "metadata": {
        "id": "ufIDuNDgbnYQ"
      },
      "execution_count": null,
      "outputs": []
    },
    {
      "cell_type": "markdown",
      "source": [
        "<h1>Insight #11:</h1>\n",
        "<p>Fine no high winds and daylight are most common combination if weather and light conditions during accidents</p>"
      ],
      "metadata": {
        "id": "yKHZg7rwcIg5"
      }
    },
    {
      "cell_type": "markdown",
      "source": [
        "<h1>Question #12: What are the most frequent 'Vehicle_Type' involved in accidents under 'Darkness - lights lit' conditions?</h1>"
      ],
      "metadata": {
        "id": "eC1A26gydckx"
      }
    },
    {
      "cell_type": "code",
      "source": [
        "darkness_lights_lit = uk[uk['Light_Conditions'] == 'Darkness - lights lit']\n",
        "darkness_lights_lit['Vehicle_Type'].value_counts()"
      ],
      "metadata": {
        "id": "q4XaWEGRdvwB"
      },
      "execution_count": null,
      "outputs": []
    },
    {
      "cell_type": "markdown",
      "source": [
        "<h1>Insight #12: </h1>\n",
        "<p>Car is the most common vehicle under Darkness - Lights lit condition</p>"
      ],
      "metadata": {
        "id": "58SvsfTKd5Bu"
      }
    },
    {
      "cell_type": "markdown",
      "source": [
        "<h1>Question #13: What is the distribution of Road types within Urban Areas compared to Rural Areas?</h1>"
      ],
      "metadata": {
        "id": "_qCnCd-4Qnwg"
      }
    },
    {
      "cell_type": "code",
      "source": [
        "urban_road_types = uk[uk['Urban_or_Rural_Area']== \"Urban\"]['Road_Type']"
      ],
      "metadata": {
        "id": "LjCG7TE3RCC1"
      },
      "execution_count": null,
      "outputs": []
    },
    {
      "cell_type": "code",
      "source": [
        "urban_road_types.value_counts()"
      ],
      "metadata": {
        "id": "g9aMzk3KRvwJ"
      },
      "execution_count": null,
      "outputs": []
    },
    {
      "cell_type": "code",
      "source": [
        "rural_road_types = uk[uk['Urban_or_Rural_Area'] == 'Rural']['Road_Type']"
      ],
      "metadata": {
        "id": "MmVgZDyaSbSZ"
      },
      "execution_count": null,
      "outputs": []
    },
    {
      "cell_type": "code",
      "source": [
        "rural_road_types.value_counts()"
      ],
      "metadata": {
        "id": "Zl3y4-qASu9s"
      },
      "execution_count": null,
      "outputs": []
    },
    {
      "cell_type": "markdown",
      "source": [
        "<h1>Insight #13:</h1>\n",
        "<p>According to the data, Urban areas have twice the amount of Single carriageway roads that Rural areas have. While there is no big difference between Dual carriageway, The gap between the nummber of roundabout, slip road, and one way street between Urban and Rural are prevalent.</p>"
      ],
      "metadata": {
        "id": "mjY5HLa5S0SB"
      }
    },
    {
      "cell_type": "markdown",
      "source": [
        "<h1>Question #14: Is there a significant difference in the number of vehicles involved in accidents between Urban and Rural areas considering the road type?</h1>"
      ],
      "metadata": {
        "id": "0y139JmuTskr"
      }
    },
    {
      "cell_type": "code",
      "source": [
        "urban_vehicles_involved = uk[uk['Urban_or_Rural_Area'] == 'Urban']['Number_of_Vehicles']"
      ],
      "metadata": {
        "id": "nl9y-H4ESwWn"
      },
      "execution_count": null,
      "outputs": []
    },
    {
      "cell_type": "code",
      "source": [
        "rural_vehicles_involved = uk[uk['Urban_or_Rural_Area'] == 'Rural']['Number_of_Vehicles']"
      ],
      "metadata": {
        "id": "VRt_qG9iUGDW"
      },
      "execution_count": null,
      "outputs": []
    },
    {
      "cell_type": "markdown",
      "source": [
        "<p>Combining and creating a new column for percentage difference</p>"
      ],
      "metadata": {
        "id": "VVAefb3XW5Qv"
      }
    },
    {
      "cell_type": "code",
      "metadata": {
        "id": "2d81904b"
      },
      "source": [
        "vehicle_counts = pd.DataFrame({'Urban': urban_vehicles_involved.value_counts(), 'Rural': rural_vehicles_involved.value_counts()})\n",
        "vehicle_counts['Percentage_Difference'] = ((vehicle_counts['Urban'] - vehicle_counts['Rural']) / vehicle_counts['Rural']) * 100"
      ],
      "execution_count": null,
      "outputs": []
    },
    {
      "cell_type": "code",
      "source": [
        "vehicle_counts"
      ],
      "metadata": {
        "id": "4OqmBLG6XWU1"
      },
      "execution_count": null,
      "outputs": []
    },
    {
      "cell_type": "markdown",
      "source": [
        "<h1>Insight #14: According to the data above:</h1>\n",
        "<p>According to the data above, we can see that there is a significant differece for the number of cars below 3, but it started to decline when the number of vehicles reaches above 4</p>\n"
      ],
      "metadata": {
        "id": "LCONT4_lUxae"
      }
    },
    {
      "cell_type": "markdown",
      "source": [
        "<h1>Question #15: Which district are have the highest number of accidents under \"Wet or damp\" surface conditions?</h1>"
      ],
      "metadata": {
        "id": "cmlVeN7AYV8C"
      }
    },
    {
      "cell_type": "code",
      "source": [
        "Accident_per_district_area = uk[uk['Road_Surface_Conditions'] == 'Wet or damp']['District Area'].value_counts()"
      ],
      "metadata": {
        "id": "cf57CMOrYjOW"
      },
      "execution_count": null,
      "outputs": []
    },
    {
      "cell_type": "code",
      "source": [
        "Accident_per_district_area.sort_values(ascending=False).head(n=10)"
      ],
      "metadata": {
        "id": "bFUCzakpY2A6"
      },
      "execution_count": null,
      "outputs": []
    },
    {
      "cell_type": "markdown",
      "source": [
        "<h1>Insight #15:</h1>\n",
        "<p>Birmingham district holds the record for the most number of accidents under the Wet or damp surface conditions</p>"
      ],
      "metadata": {
        "id": "WUs0auDjZH6F"
      }
    },
    {
      "cell_type": "markdown",
      "source": [
        "<h1>Question #16: What are the weather conditions in the top 10 district areas with the highest number of fatal accidents?</h1>"
      ],
      "metadata": {
        "id": "S2KXoMUmZcdP"
      }
    },
    {
      "cell_type": "code",
      "source": [
        "top_ten_district_area_fatal = uk[uk['Accident_Severity'] == 'Fatal']"
      ],
      "metadata": {
        "id": "aMinWh-7Y-4b"
      },
      "execution_count": null,
      "outputs": []
    },
    {
      "cell_type": "code",
      "source": [
        "top_ten_district_area_fatal.groupby(['District Area','Weather_Conditions'])['Number_of_Casualties'].count().sort_values(ascending=False).head(n=10)"
      ],
      "metadata": {
        "id": "1bbs2i3lZyn-"
      },
      "execution_count": null,
      "outputs": []
    },
    {
      "cell_type": "markdown",
      "source": [
        "<h1>Insight #16:</h1>\n",
        "<p>Fine no high winds is the weather condition on the top ten district area with the most fatal accidents</h1>"
      ],
      "metadata": {
        "id": "cDMKp10lat2s"
      }
    },
    {
      "cell_type": "markdown",
      "source": [
        "<h1>Question #17: Is there a relation between Road surface condition and weather condition when it comes to the number of casualties?</h1>"
      ],
      "metadata": {
        "id": "XVSp7w6WbACd"
      }
    },
    {
      "cell_type": "code",
      "source": [
        "from scipy.stats import f_oneway"
      ],
      "metadata": {
        "id": "1bRxOZcoZziv"
      },
      "execution_count": null,
      "outputs": []
    }
  ],
  "metadata": {
    "colab": {
      "provenance": [],
      "mount_file_id": "1KJoAbGPQ0psI_GEvUTQzvZrI7d134hvi",
      "authorship_tag": "ABX9TyOOAq/8KQrRZ8O/g50Gwfxz"
    },
    "kernelspec": {
      "display_name": "Python 3",
      "name": "python3"
    },
    "language_info": {
      "name": "python"
    }
  },
  "nbformat": 4,
  "nbformat_minor": 0
}