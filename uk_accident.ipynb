{
  "cells": [
    {
      "cell_type": "markdown",
      "metadata": {
        "id": "P5y-1C4nyxcJ"
      },
      "source": [
        "<h5>Importing libraries</h5>"
      ]
    },
    {
      "cell_type": "code",
      "execution_count": 2,
      "metadata": {
        "id": "Ph5G1IeorrQA"
      },
      "outputs": [],
      "source": [
        "import pandas as pd\n",
        "import numpy as np\n",
        "from scipy.stats import f_oneway\n",
        "import warnings\n",
        "warnings.filterwarnings('ignore')"
      ]
    },
    {
      "cell_type": "markdown",
      "metadata": {
        "id": "1sEtlCHftcwk"
      },
      "source": [
        "<h3>Importing dataset and converting it into column</h3>"
      ]
    },
    {
      "cell_type": "code",
      "execution_count": 3,
      "metadata": {
        "id": "RNAw7M8ytna1"
      },
      "outputs": [],
      "source": [
        "uk = pd.read_csv('/content/drive/MyDrive/Colab Notebooks/datasets/uk_road_accident.csv')"
      ]
    },
    {
      "cell_type": "code",
      "execution_count": 4,
      "metadata": {
        "colab": {
          "base_uri": "https://localhost:8080/",
          "height": 752
        },
        "id": "WchSdvMwuBB8",
        "outputId": "3eb91574-76dc-4baa-fe2d-a3f9958856ee"
      },
      "outputs": [
        {
          "output_type": "execute_result",
          "data": {
            "text/plain": [
              "                Index Accident_Severity Accident Date   Latitude  \\\n",
              "0       200701BS64157           Serious      5/6/2019  51.506187   \n",
              "1       200701BS65737           Serious      2/7/2019  51.495029   \n",
              "2       200701BS66127           Serious    26-08-2019  51.517715   \n",
              "3       200701BS66128           Serious    16-08-2019  51.495478   \n",
              "4       200701BS66837            Slight      3/9/2019  51.488576   \n",
              "...               ...               ...           ...        ...   \n",
              "660674  201091NM01760            Slight    18-02-2022  57.374005   \n",
              "660675  201091NM01881            Slight    21-02-2022  57.232273   \n",
              "660676  201091NM01935            Slight    23-02-2022  57.585044   \n",
              "660677  201091NM01964           Serious    23-02-2022  57.214898   \n",
              "660678  201091NM02142           Serious    28-02-2022  57.575210   \n",
              "\n",
              "                   Light_Conditions           District Area  Longitude  \\\n",
              "0             Darkness - lights lit  Kensington and Chelsea  -0.209082   \n",
              "1                          Daylight  Kensington and Chelsea  -0.173647   \n",
              "2       Darkness - lighting unknown  Kensington and Chelsea  -0.210215   \n",
              "3                          Daylight  Kensington and Chelsea  -0.202731   \n",
              "4             Darkness - lights lit  Kensington and Chelsea  -0.192487   \n",
              "...                             ...                     ...        ...   \n",
              "660674                     Daylight                Highland  -3.467828   \n",
              "660675       Darkness - no lighting                Highland  -3.809281   \n",
              "660676                     Daylight                Highland  -3.862727   \n",
              "660677       Darkness - no lighting                Highland  -3.823997   \n",
              "660678                     Daylight                Highland  -3.895673   \n",
              "\n",
              "        Number_of_Casualties  Number_of_Vehicles Road_Surface_Conditions  \\\n",
              "0                          1                   2                     Dry   \n",
              "1                          1                   2             Wet or damp   \n",
              "2                          1                   3                     Dry   \n",
              "3                          1                   4                     Dry   \n",
              "4                          1                   2                     Dry   \n",
              "...                      ...                 ...                     ...   \n",
              "660674                     2                   1                     Dry   \n",
              "660675                     1                   1            Frost or ice   \n",
              "660676                     1                   3            Frost or ice   \n",
              "660677                     1                   2             Wet or damp   \n",
              "660678                     1                   1             Wet or damp   \n",
              "\n",
              "                 Road_Type Urban_or_Rural_Area     Weather_Conditions  \\\n",
              "0       Single carriageway               Urban     Fine no high winds   \n",
              "1       Single carriageway               Urban  Raining no high winds   \n",
              "2                      NaN               Urban                    NaN   \n",
              "3       Single carriageway               Urban     Fine no high winds   \n",
              "4                      NaN               Urban                    NaN   \n",
              "...                    ...                 ...                    ...   \n",
              "660674  Single carriageway               Rural     Fine no high winds   \n",
              "660675  Single carriageway               Rural     Fine no high winds   \n",
              "660676  Single carriageway               Rural     Fine no high winds   \n",
              "660677  Single carriageway               Rural     Fine no high winds   \n",
              "660678    Dual carriageway               Rural  Snowing no high winds   \n",
              "\n",
              "                                Vehicle_Type  \n",
              "0                                        Car  \n",
              "1                                        Car  \n",
              "2                      Taxi/Private hire car  \n",
              "3       Bus or coach (17 or more pass seats)  \n",
              "4                              Other vehicle  \n",
              "...                                      ...  \n",
              "660674                                   Car  \n",
              "660675                                   Car  \n",
              "660676                                   Car  \n",
              "660677                 Motorcycle over 500cc  \n",
              "660678                                   Car  \n",
              "\n",
              "[660679 rows x 14 columns]"
            ],
            "text/html": [
              "\n",
              "  <div id=\"df-444fef98-bdc3-42f2-931f-6ac04891a9ea\" class=\"colab-df-container\">\n",
              "    <div>\n",
              "<style scoped>\n",
              "    .dataframe tbody tr th:only-of-type {\n",
              "        vertical-align: middle;\n",
              "    }\n",
              "\n",
              "    .dataframe tbody tr th {\n",
              "        vertical-align: top;\n",
              "    }\n",
              "\n",
              "    .dataframe thead th {\n",
              "        text-align: right;\n",
              "    }\n",
              "</style>\n",
              "<table border=\"1\" class=\"dataframe\">\n",
              "  <thead>\n",
              "    <tr style=\"text-align: right;\">\n",
              "      <th></th>\n",
              "      <th>Index</th>\n",
              "      <th>Accident_Severity</th>\n",
              "      <th>Accident Date</th>\n",
              "      <th>Latitude</th>\n",
              "      <th>Light_Conditions</th>\n",
              "      <th>District Area</th>\n",
              "      <th>Longitude</th>\n",
              "      <th>Number_of_Casualties</th>\n",
              "      <th>Number_of_Vehicles</th>\n",
              "      <th>Road_Surface_Conditions</th>\n",
              "      <th>Road_Type</th>\n",
              "      <th>Urban_or_Rural_Area</th>\n",
              "      <th>Weather_Conditions</th>\n",
              "      <th>Vehicle_Type</th>\n",
              "    </tr>\n",
              "  </thead>\n",
              "  <tbody>\n",
              "    <tr>\n",
              "      <th>0</th>\n",
              "      <td>200701BS64157</td>\n",
              "      <td>Serious</td>\n",
              "      <td>5/6/2019</td>\n",
              "      <td>51.506187</td>\n",
              "      <td>Darkness - lights lit</td>\n",
              "      <td>Kensington and Chelsea</td>\n",
              "      <td>-0.209082</td>\n",
              "      <td>1</td>\n",
              "      <td>2</td>\n",
              "      <td>Dry</td>\n",
              "      <td>Single carriageway</td>\n",
              "      <td>Urban</td>\n",
              "      <td>Fine no high winds</td>\n",
              "      <td>Car</td>\n",
              "    </tr>\n",
              "    <tr>\n",
              "      <th>1</th>\n",
              "      <td>200701BS65737</td>\n",
              "      <td>Serious</td>\n",
              "      <td>2/7/2019</td>\n",
              "      <td>51.495029</td>\n",
              "      <td>Daylight</td>\n",
              "      <td>Kensington and Chelsea</td>\n",
              "      <td>-0.173647</td>\n",
              "      <td>1</td>\n",
              "      <td>2</td>\n",
              "      <td>Wet or damp</td>\n",
              "      <td>Single carriageway</td>\n",
              "      <td>Urban</td>\n",
              "      <td>Raining no high winds</td>\n",
              "      <td>Car</td>\n",
              "    </tr>\n",
              "    <tr>\n",
              "      <th>2</th>\n",
              "      <td>200701BS66127</td>\n",
              "      <td>Serious</td>\n",
              "      <td>26-08-2019</td>\n",
              "      <td>51.517715</td>\n",
              "      <td>Darkness - lighting unknown</td>\n",
              "      <td>Kensington and Chelsea</td>\n",
              "      <td>-0.210215</td>\n",
              "      <td>1</td>\n",
              "      <td>3</td>\n",
              "      <td>Dry</td>\n",
              "      <td>NaN</td>\n",
              "      <td>Urban</td>\n",
              "      <td>NaN</td>\n",
              "      <td>Taxi/Private hire car</td>\n",
              "    </tr>\n",
              "    <tr>\n",
              "      <th>3</th>\n",
              "      <td>200701BS66128</td>\n",
              "      <td>Serious</td>\n",
              "      <td>16-08-2019</td>\n",
              "      <td>51.495478</td>\n",
              "      <td>Daylight</td>\n",
              "      <td>Kensington and Chelsea</td>\n",
              "      <td>-0.202731</td>\n",
              "      <td>1</td>\n",
              "      <td>4</td>\n",
              "      <td>Dry</td>\n",
              "      <td>Single carriageway</td>\n",
              "      <td>Urban</td>\n",
              "      <td>Fine no high winds</td>\n",
              "      <td>Bus or coach (17 or more pass seats)</td>\n",
              "    </tr>\n",
              "    <tr>\n",
              "      <th>4</th>\n",
              "      <td>200701BS66837</td>\n",
              "      <td>Slight</td>\n",
              "      <td>3/9/2019</td>\n",
              "      <td>51.488576</td>\n",
              "      <td>Darkness - lights lit</td>\n",
              "      <td>Kensington and Chelsea</td>\n",
              "      <td>-0.192487</td>\n",
              "      <td>1</td>\n",
              "      <td>2</td>\n",
              "      <td>Dry</td>\n",
              "      <td>NaN</td>\n",
              "      <td>Urban</td>\n",
              "      <td>NaN</td>\n",
              "      <td>Other vehicle</td>\n",
              "    </tr>\n",
              "    <tr>\n",
              "      <th>...</th>\n",
              "      <td>...</td>\n",
              "      <td>...</td>\n",
              "      <td>...</td>\n",
              "      <td>...</td>\n",
              "      <td>...</td>\n",
              "      <td>...</td>\n",
              "      <td>...</td>\n",
              "      <td>...</td>\n",
              "      <td>...</td>\n",
              "      <td>...</td>\n",
              "      <td>...</td>\n",
              "      <td>...</td>\n",
              "      <td>...</td>\n",
              "      <td>...</td>\n",
              "    </tr>\n",
              "    <tr>\n",
              "      <th>660674</th>\n",
              "      <td>201091NM01760</td>\n",
              "      <td>Slight</td>\n",
              "      <td>18-02-2022</td>\n",
              "      <td>57.374005</td>\n",
              "      <td>Daylight</td>\n",
              "      <td>Highland</td>\n",
              "      <td>-3.467828</td>\n",
              "      <td>2</td>\n",
              "      <td>1</td>\n",
              "      <td>Dry</td>\n",
              "      <td>Single carriageway</td>\n",
              "      <td>Rural</td>\n",
              "      <td>Fine no high winds</td>\n",
              "      <td>Car</td>\n",
              "    </tr>\n",
              "    <tr>\n",
              "      <th>660675</th>\n",
              "      <td>201091NM01881</td>\n",
              "      <td>Slight</td>\n",
              "      <td>21-02-2022</td>\n",
              "      <td>57.232273</td>\n",
              "      <td>Darkness - no lighting</td>\n",
              "      <td>Highland</td>\n",
              "      <td>-3.809281</td>\n",
              "      <td>1</td>\n",
              "      <td>1</td>\n",
              "      <td>Frost or ice</td>\n",
              "      <td>Single carriageway</td>\n",
              "      <td>Rural</td>\n",
              "      <td>Fine no high winds</td>\n",
              "      <td>Car</td>\n",
              "    </tr>\n",
              "    <tr>\n",
              "      <th>660676</th>\n",
              "      <td>201091NM01935</td>\n",
              "      <td>Slight</td>\n",
              "      <td>23-02-2022</td>\n",
              "      <td>57.585044</td>\n",
              "      <td>Daylight</td>\n",
              "      <td>Highland</td>\n",
              "      <td>-3.862727</td>\n",
              "      <td>1</td>\n",
              "      <td>3</td>\n",
              "      <td>Frost or ice</td>\n",
              "      <td>Single carriageway</td>\n",
              "      <td>Rural</td>\n",
              "      <td>Fine no high winds</td>\n",
              "      <td>Car</td>\n",
              "    </tr>\n",
              "    <tr>\n",
              "      <th>660677</th>\n",
              "      <td>201091NM01964</td>\n",
              "      <td>Serious</td>\n",
              "      <td>23-02-2022</td>\n",
              "      <td>57.214898</td>\n",
              "      <td>Darkness - no lighting</td>\n",
              "      <td>Highland</td>\n",
              "      <td>-3.823997</td>\n",
              "      <td>1</td>\n",
              "      <td>2</td>\n",
              "      <td>Wet or damp</td>\n",
              "      <td>Single carriageway</td>\n",
              "      <td>Rural</td>\n",
              "      <td>Fine no high winds</td>\n",
              "      <td>Motorcycle over 500cc</td>\n",
              "    </tr>\n",
              "    <tr>\n",
              "      <th>660678</th>\n",
              "      <td>201091NM02142</td>\n",
              "      <td>Serious</td>\n",
              "      <td>28-02-2022</td>\n",
              "      <td>57.575210</td>\n",
              "      <td>Daylight</td>\n",
              "      <td>Highland</td>\n",
              "      <td>-3.895673</td>\n",
              "      <td>1</td>\n",
              "      <td>1</td>\n",
              "      <td>Wet or damp</td>\n",
              "      <td>Dual carriageway</td>\n",
              "      <td>Rural</td>\n",
              "      <td>Snowing no high winds</td>\n",
              "      <td>Car</td>\n",
              "    </tr>\n",
              "  </tbody>\n",
              "</table>\n",
              "<p>660679 rows × 14 columns</p>\n",
              "</div>\n",
              "    <div class=\"colab-df-buttons\">\n",
              "\n",
              "  <div class=\"colab-df-container\">\n",
              "    <button class=\"colab-df-convert\" onclick=\"convertToInteractive('df-444fef98-bdc3-42f2-931f-6ac04891a9ea')\"\n",
              "            title=\"Convert this dataframe to an interactive table.\"\n",
              "            style=\"display:none;\">\n",
              "\n",
              "  <svg xmlns=\"http://www.w3.org/2000/svg\" height=\"24px\" viewBox=\"0 -960 960 960\">\n",
              "    <path d=\"M120-120v-720h720v720H120Zm60-500h600v-160H180v160Zm220 220h160v-160H400v160Zm0 220h160v-160H400v160ZM180-400h160v-160H180v160Zm440 0h160v-160H620v160ZM180-180h160v-160H180v160Zm440 0h160v-160H620v160Z\"/>\n",
              "  </svg>\n",
              "    </button>\n",
              "\n",
              "  <style>\n",
              "    .colab-df-container {\n",
              "      display:flex;\n",
              "      gap: 12px;\n",
              "    }\n",
              "\n",
              "    .colab-df-convert {\n",
              "      background-color: #E8F0FE;\n",
              "      border: none;\n",
              "      border-radius: 50%;\n",
              "      cursor: pointer;\n",
              "      display: none;\n",
              "      fill: #1967D2;\n",
              "      height: 32px;\n",
              "      padding: 0 0 0 0;\n",
              "      width: 32px;\n",
              "    }\n",
              "\n",
              "    .colab-df-convert:hover {\n",
              "      background-color: #E2EBFA;\n",
              "      box-shadow: 0px 1px 2px rgba(60, 64, 67, 0.3), 0px 1px 3px 1px rgba(60, 64, 67, 0.15);\n",
              "      fill: #174EA6;\n",
              "    }\n",
              "\n",
              "    .colab-df-buttons div {\n",
              "      margin-bottom: 4px;\n",
              "    }\n",
              "\n",
              "    [theme=dark] .colab-df-convert {\n",
              "      background-color: #3B4455;\n",
              "      fill: #D2E3FC;\n",
              "    }\n",
              "\n",
              "    [theme=dark] .colab-df-convert:hover {\n",
              "      background-color: #434B5C;\n",
              "      box-shadow: 0px 1px 3px 1px rgba(0, 0, 0, 0.15);\n",
              "      filter: drop-shadow(0px 1px 2px rgba(0, 0, 0, 0.3));\n",
              "      fill: #FFFFFF;\n",
              "    }\n",
              "  </style>\n",
              "\n",
              "    <script>\n",
              "      const buttonEl =\n",
              "        document.querySelector('#df-444fef98-bdc3-42f2-931f-6ac04891a9ea button.colab-df-convert');\n",
              "      buttonEl.style.display =\n",
              "        google.colab.kernel.accessAllowed ? 'block' : 'none';\n",
              "\n",
              "      async function convertToInteractive(key) {\n",
              "        const element = document.querySelector('#df-444fef98-bdc3-42f2-931f-6ac04891a9ea');\n",
              "        const dataTable =\n",
              "          await google.colab.kernel.invokeFunction('convertToInteractive',\n",
              "                                                    [key], {});\n",
              "        if (!dataTable) return;\n",
              "\n",
              "        const docLinkHtml = 'Like what you see? Visit the ' +\n",
              "          '<a target=\"_blank\" href=https://colab.research.google.com/notebooks/data_table.ipynb>data table notebook</a>'\n",
              "          + ' to learn more about interactive tables.';\n",
              "        element.innerHTML = '';\n",
              "        dataTable['output_type'] = 'display_data';\n",
              "        await google.colab.output.renderOutput(dataTable, element);\n",
              "        const docLink = document.createElement('div');\n",
              "        docLink.innerHTML = docLinkHtml;\n",
              "        element.appendChild(docLink);\n",
              "      }\n",
              "    </script>\n",
              "  </div>\n",
              "\n",
              "\n",
              "    <div id=\"df-4aeec706-be63-4570-ad80-36b8446212ac\">\n",
              "      <button class=\"colab-df-quickchart\" onclick=\"quickchart('df-4aeec706-be63-4570-ad80-36b8446212ac')\"\n",
              "                title=\"Suggest charts\"\n",
              "                style=\"display:none;\">\n",
              "\n",
              "<svg xmlns=\"http://www.w3.org/2000/svg\" height=\"24px\"viewBox=\"0 0 24 24\"\n",
              "     width=\"24px\">\n",
              "    <g>\n",
              "        <path d=\"M19 3H5c-1.1 0-2 .9-2 2v14c0 1.1.9 2 2 2h14c1.1 0 2-.9 2-2V5c0-1.1-.9-2-2-2zM9 17H7v-7h2v7zm4 0h-2V7h2v10zm4 0h-2v-4h2v4z\"/>\n",
              "    </g>\n",
              "</svg>\n",
              "      </button>\n",
              "\n",
              "<style>\n",
              "  .colab-df-quickchart {\n",
              "      --bg-color: #E8F0FE;\n",
              "      --fill-color: #1967D2;\n",
              "      --hover-bg-color: #E2EBFA;\n",
              "      --hover-fill-color: #174EA6;\n",
              "      --disabled-fill-color: #AAA;\n",
              "      --disabled-bg-color: #DDD;\n",
              "  }\n",
              "\n",
              "  [theme=dark] .colab-df-quickchart {\n",
              "      --bg-color: #3B4455;\n",
              "      --fill-color: #D2E3FC;\n",
              "      --hover-bg-color: #434B5C;\n",
              "      --hover-fill-color: #FFFFFF;\n",
              "      --disabled-bg-color: #3B4455;\n",
              "      --disabled-fill-color: #666;\n",
              "  }\n",
              "\n",
              "  .colab-df-quickchart {\n",
              "    background-color: var(--bg-color);\n",
              "    border: none;\n",
              "    border-radius: 50%;\n",
              "    cursor: pointer;\n",
              "    display: none;\n",
              "    fill: var(--fill-color);\n",
              "    height: 32px;\n",
              "    padding: 0;\n",
              "    width: 32px;\n",
              "  }\n",
              "\n",
              "  .colab-df-quickchart:hover {\n",
              "    background-color: var(--hover-bg-color);\n",
              "    box-shadow: 0 1px 2px rgba(60, 64, 67, 0.3), 0 1px 3px 1px rgba(60, 64, 67, 0.15);\n",
              "    fill: var(--button-hover-fill-color);\n",
              "  }\n",
              "\n",
              "  .colab-df-quickchart-complete:disabled,\n",
              "  .colab-df-quickchart-complete:disabled:hover {\n",
              "    background-color: var(--disabled-bg-color);\n",
              "    fill: var(--disabled-fill-color);\n",
              "    box-shadow: none;\n",
              "  }\n",
              "\n",
              "  .colab-df-spinner {\n",
              "    border: 2px solid var(--fill-color);\n",
              "    border-color: transparent;\n",
              "    border-bottom-color: var(--fill-color);\n",
              "    animation:\n",
              "      spin 1s steps(1) infinite;\n",
              "  }\n",
              "\n",
              "  @keyframes spin {\n",
              "    0% {\n",
              "      border-color: transparent;\n",
              "      border-bottom-color: var(--fill-color);\n",
              "      border-left-color: var(--fill-color);\n",
              "    }\n",
              "    20% {\n",
              "      border-color: transparent;\n",
              "      border-left-color: var(--fill-color);\n",
              "      border-top-color: var(--fill-color);\n",
              "    }\n",
              "    30% {\n",
              "      border-color: transparent;\n",
              "      border-left-color: var(--fill-color);\n",
              "      border-top-color: var(--fill-color);\n",
              "      border-right-color: var(--fill-color);\n",
              "    }\n",
              "    40% {\n",
              "      border-color: transparent;\n",
              "      border-right-color: var(--fill-color);\n",
              "      border-top-color: var(--fill-color);\n",
              "    }\n",
              "    60% {\n",
              "      border-color: transparent;\n",
              "      border-right-color: var(--fill-color);\n",
              "    }\n",
              "    80% {\n",
              "      border-color: transparent;\n",
              "      border-right-color: var(--fill-color);\n",
              "      border-bottom-color: var(--fill-color);\n",
              "    }\n",
              "    90% {\n",
              "      border-color: transparent;\n",
              "      border-bottom-color: var(--fill-color);\n",
              "    }\n",
              "  }\n",
              "</style>\n",
              "\n",
              "      <script>\n",
              "        async function quickchart(key) {\n",
              "          const quickchartButtonEl =\n",
              "            document.querySelector('#' + key + ' button');\n",
              "          quickchartButtonEl.disabled = true;  // To prevent multiple clicks.\n",
              "          quickchartButtonEl.classList.add('colab-df-spinner');\n",
              "          try {\n",
              "            const charts = await google.colab.kernel.invokeFunction(\n",
              "                'suggestCharts', [key], {});\n",
              "          } catch (error) {\n",
              "            console.error('Error during call to suggestCharts:', error);\n",
              "          }\n",
              "          quickchartButtonEl.classList.remove('colab-df-spinner');\n",
              "          quickchartButtonEl.classList.add('colab-df-quickchart-complete');\n",
              "        }\n",
              "        (() => {\n",
              "          let quickchartButtonEl =\n",
              "            document.querySelector('#df-4aeec706-be63-4570-ad80-36b8446212ac button');\n",
              "          quickchartButtonEl.style.display =\n",
              "            google.colab.kernel.accessAllowed ? 'block' : 'none';\n",
              "        })();\n",
              "      </script>\n",
              "    </div>\n",
              "\n",
              "  <div id=\"id_8937105c-036e-424e-98c3-0fbb053522ad\">\n",
              "    <style>\n",
              "      .colab-df-generate {\n",
              "        background-color: #E8F0FE;\n",
              "        border: none;\n",
              "        border-radius: 50%;\n",
              "        cursor: pointer;\n",
              "        display: none;\n",
              "        fill: #1967D2;\n",
              "        height: 32px;\n",
              "        padding: 0 0 0 0;\n",
              "        width: 32px;\n",
              "      }\n",
              "\n",
              "      .colab-df-generate:hover {\n",
              "        background-color: #E2EBFA;\n",
              "        box-shadow: 0px 1px 2px rgba(60, 64, 67, 0.3), 0px 1px 3px 1px rgba(60, 64, 67, 0.15);\n",
              "        fill: #174EA6;\n",
              "      }\n",
              "\n",
              "      [theme=dark] .colab-df-generate {\n",
              "        background-color: #3B4455;\n",
              "        fill: #D2E3FC;\n",
              "      }\n",
              "\n",
              "      [theme=dark] .colab-df-generate:hover {\n",
              "        background-color: #434B5C;\n",
              "        box-shadow: 0px 1px 3px 1px rgba(0, 0, 0, 0.15);\n",
              "        filter: drop-shadow(0px 1px 2px rgba(0, 0, 0, 0.3));\n",
              "        fill: #FFFFFF;\n",
              "      }\n",
              "    </style>\n",
              "    <button class=\"colab-df-generate\" onclick=\"generateWithVariable('uk')\"\n",
              "            title=\"Generate code using this dataframe.\"\n",
              "            style=\"display:none;\">\n",
              "\n",
              "  <svg xmlns=\"http://www.w3.org/2000/svg\" height=\"24px\"viewBox=\"0 0 24 24\"\n",
              "       width=\"24px\">\n",
              "    <path d=\"M7,19H8.4L18.45,9,17,7.55,7,17.6ZM5,21V16.75L18.45,3.32a2,2,0,0,1,2.83,0l1.4,1.43a1.91,1.91,0,0,1,.58,1.4,1.91,1.91,0,0,1-.58,1.4L9.25,21ZM18.45,9,17,7.55Zm-12,3A5.31,5.31,0,0,0,4.9,8.1,5.31,5.31,0,0,0,1,6.5,5.31,5.31,0,0,0,4.9,4.9,5.31,5.31,0,0,0,6.5,1,5.31,5.31,0,0,0,8.1,4.9,5.31,5.31,0,0,0,12,6.5,5.46,5.46,0,0,0,6.5,12Z\"/>\n",
              "  </svg>\n",
              "    </button>\n",
              "    <script>\n",
              "      (() => {\n",
              "      const buttonEl =\n",
              "        document.querySelector('#id_8937105c-036e-424e-98c3-0fbb053522ad button.colab-df-generate');\n",
              "      buttonEl.style.display =\n",
              "        google.colab.kernel.accessAllowed ? 'block' : 'none';\n",
              "\n",
              "      buttonEl.onclick = () => {\n",
              "        google.colab.notebook.generateWithVariable('uk');\n",
              "      }\n",
              "      })();\n",
              "    </script>\n",
              "  </div>\n",
              "\n",
              "    </div>\n",
              "  </div>\n"
            ],
            "application/vnd.google.colaboratory.intrinsic+json": {
              "type": "dataframe",
              "variable_name": "uk"
            }
          },
          "metadata": {},
          "execution_count": 4
        }
      ],
      "source": [
        "uk"
      ]
    },
    {
      "cell_type": "code",
      "execution_count": 5,
      "metadata": {
        "colab": {
          "base_uri": "https://localhost:8080/"
        },
        "id": "XzEpcvXKuQEB",
        "outputId": "cf70308e-6fe3-4f95-a04e-675d2a5cad9c"
      },
      "outputs": [
        {
          "output_type": "stream",
          "name": "stdout",
          "text": [
            "<class 'pandas.core.frame.DataFrame'>\n",
            "RangeIndex: 660679 entries, 0 to 660678\n",
            "Data columns (total 14 columns):\n",
            " #   Column                   Non-Null Count   Dtype  \n",
            "---  ------                   --------------   -----  \n",
            " 0   Index                    660679 non-null  object \n",
            " 1   Accident_Severity        660679 non-null  object \n",
            " 2   Accident Date            660679 non-null  object \n",
            " 3   Latitude                 660654 non-null  float64\n",
            " 4   Light_Conditions         660679 non-null  object \n",
            " 5   District Area            660679 non-null  object \n",
            " 6   Longitude                660653 non-null  float64\n",
            " 7   Number_of_Casualties     660679 non-null  int64  \n",
            " 8   Number_of_Vehicles       660679 non-null  int64  \n",
            " 9   Road_Surface_Conditions  659953 non-null  object \n",
            " 10  Road_Type                656159 non-null  object \n",
            " 11  Urban_or_Rural_Area      660664 non-null  object \n",
            " 12  Weather_Conditions       646551 non-null  object \n",
            " 13  Vehicle_Type             660679 non-null  object \n",
            "dtypes: float64(2), int64(2), object(10)\n",
            "memory usage: 70.6+ MB\n"
          ]
        }
      ],
      "source": [
        "uk.info()"
      ]
    },
    {
      "cell_type": "markdown",
      "metadata": {
        "id": "G7RLvFkfuk-K"
      },
      "source": [
        "<h3>Changing the data types of the columns</h3>"
      ]
    },
    {
      "cell_type": "code",
      "execution_count": 6,
      "metadata": {
        "colab": {
          "base_uri": "https://localhost:8080/",
          "height": 548
        },
        "id": "5lM2-jY1uq35",
        "outputId": "b317c55a-b65c-4e91-eaab-8596ad534152"
      },
      "outputs": [
        {
          "output_type": "execute_result",
          "data": {
            "text/plain": [
              "Index                       object\n",
              "Accident_Severity           object\n",
              "Accident Date               object\n",
              "Latitude                   float64\n",
              "Light_Conditions            object\n",
              "District Area               object\n",
              "Longitude                  float64\n",
              "Number_of_Casualties         int64\n",
              "Number_of_Vehicles           int64\n",
              "Road_Surface_Conditions     object\n",
              "Road_Type                   object\n",
              "Urban_or_Rural_Area         object\n",
              "Weather_Conditions          object\n",
              "Vehicle_Type                object\n",
              "dtype: object"
            ],
            "text/html": [
              "<div>\n",
              "<style scoped>\n",
              "    .dataframe tbody tr th:only-of-type {\n",
              "        vertical-align: middle;\n",
              "    }\n",
              "\n",
              "    .dataframe tbody tr th {\n",
              "        vertical-align: top;\n",
              "    }\n",
              "\n",
              "    .dataframe thead th {\n",
              "        text-align: right;\n",
              "    }\n",
              "</style>\n",
              "<table border=\"1\" class=\"dataframe\">\n",
              "  <thead>\n",
              "    <tr style=\"text-align: right;\">\n",
              "      <th></th>\n",
              "      <th>0</th>\n",
              "    </tr>\n",
              "  </thead>\n",
              "  <tbody>\n",
              "    <tr>\n",
              "      <th>Index</th>\n",
              "      <td>object</td>\n",
              "    </tr>\n",
              "    <tr>\n",
              "      <th>Accident_Severity</th>\n",
              "      <td>object</td>\n",
              "    </tr>\n",
              "    <tr>\n",
              "      <th>Accident Date</th>\n",
              "      <td>object</td>\n",
              "    </tr>\n",
              "    <tr>\n",
              "      <th>Latitude</th>\n",
              "      <td>float64</td>\n",
              "    </tr>\n",
              "    <tr>\n",
              "      <th>Light_Conditions</th>\n",
              "      <td>object</td>\n",
              "    </tr>\n",
              "    <tr>\n",
              "      <th>District Area</th>\n",
              "      <td>object</td>\n",
              "    </tr>\n",
              "    <tr>\n",
              "      <th>Longitude</th>\n",
              "      <td>float64</td>\n",
              "    </tr>\n",
              "    <tr>\n",
              "      <th>Number_of_Casualties</th>\n",
              "      <td>int64</td>\n",
              "    </tr>\n",
              "    <tr>\n",
              "      <th>Number_of_Vehicles</th>\n",
              "      <td>int64</td>\n",
              "    </tr>\n",
              "    <tr>\n",
              "      <th>Road_Surface_Conditions</th>\n",
              "      <td>object</td>\n",
              "    </tr>\n",
              "    <tr>\n",
              "      <th>Road_Type</th>\n",
              "      <td>object</td>\n",
              "    </tr>\n",
              "    <tr>\n",
              "      <th>Urban_or_Rural_Area</th>\n",
              "      <td>object</td>\n",
              "    </tr>\n",
              "    <tr>\n",
              "      <th>Weather_Conditions</th>\n",
              "      <td>object</td>\n",
              "    </tr>\n",
              "    <tr>\n",
              "      <th>Vehicle_Type</th>\n",
              "      <td>object</td>\n",
              "    </tr>\n",
              "  </tbody>\n",
              "</table>\n",
              "</div><br><label><b>dtype:</b> object</label>"
            ]
          },
          "metadata": {},
          "execution_count": 6
        }
      ],
      "source": [
        "uk.dtypes"
      ]
    },
    {
      "cell_type": "code",
      "execution_count": 7,
      "metadata": {
        "id": "kBTSJaQFus7m"
      },
      "outputs": [],
      "source": [
        "uk['Index'] = uk['Index'].astype('category')\n",
        "uk['Accident_Severity'] = uk['Accident_Severity'].astype('category')\n",
        "uk['Accident Date'] = uk['Accident Date'].astype('category')\n",
        "uk['Light_Conditions'] = uk['Light_Conditions'].astype('category')\n",
        "uk['District Area'] = uk['District Area'].astype('category')\n",
        "uk['Road_Surface_Conditions'] = uk['Road_Surface_Conditions'].astype('category')\n",
        "uk['Road_Type'] = uk['Road_Type'].astype('category')\n",
        "uk['Urban_or_Rural_Area'] = uk['Urban_or_Rural_Area'].astype('category')\n",
        "uk['Weather_Conditions'] = uk['Weather_Conditions'].astype('category')\n",
        "uk['Vehicle_Type'] = uk['Vehicle_Type'].astype('category')"
      ]
    },
    {
      "cell_type": "code",
      "execution_count": 8,
      "metadata": {
        "colab": {
          "base_uri": "https://localhost:8080/",
          "height": 548
        },
        "id": "Dj41s9Z9u976",
        "outputId": "f448ed3e-693b-4236-8cdc-5a92cb7371d6"
      },
      "outputs": [
        {
          "output_type": "execute_result",
          "data": {
            "text/plain": [
              "Index                      category\n",
              "Accident_Severity          category\n",
              "Accident Date              category\n",
              "Latitude                    float64\n",
              "Light_Conditions           category\n",
              "District Area              category\n",
              "Longitude                   float64\n",
              "Number_of_Casualties          int64\n",
              "Number_of_Vehicles            int64\n",
              "Road_Surface_Conditions    category\n",
              "Road_Type                  category\n",
              "Urban_or_Rural_Area        category\n",
              "Weather_Conditions         category\n",
              "Vehicle_Type               category\n",
              "dtype: object"
            ],
            "text/html": [
              "<div>\n",
              "<style scoped>\n",
              "    .dataframe tbody tr th:only-of-type {\n",
              "        vertical-align: middle;\n",
              "    }\n",
              "\n",
              "    .dataframe tbody tr th {\n",
              "        vertical-align: top;\n",
              "    }\n",
              "\n",
              "    .dataframe thead th {\n",
              "        text-align: right;\n",
              "    }\n",
              "</style>\n",
              "<table border=\"1\" class=\"dataframe\">\n",
              "  <thead>\n",
              "    <tr style=\"text-align: right;\">\n",
              "      <th></th>\n",
              "      <th>0</th>\n",
              "    </tr>\n",
              "  </thead>\n",
              "  <tbody>\n",
              "    <tr>\n",
              "      <th>Index</th>\n",
              "      <td>category</td>\n",
              "    </tr>\n",
              "    <tr>\n",
              "      <th>Accident_Severity</th>\n",
              "      <td>category</td>\n",
              "    </tr>\n",
              "    <tr>\n",
              "      <th>Accident Date</th>\n",
              "      <td>category</td>\n",
              "    </tr>\n",
              "    <tr>\n",
              "      <th>Latitude</th>\n",
              "      <td>float64</td>\n",
              "    </tr>\n",
              "    <tr>\n",
              "      <th>Light_Conditions</th>\n",
              "      <td>category</td>\n",
              "    </tr>\n",
              "    <tr>\n",
              "      <th>District Area</th>\n",
              "      <td>category</td>\n",
              "    </tr>\n",
              "    <tr>\n",
              "      <th>Longitude</th>\n",
              "      <td>float64</td>\n",
              "    </tr>\n",
              "    <tr>\n",
              "      <th>Number_of_Casualties</th>\n",
              "      <td>int64</td>\n",
              "    </tr>\n",
              "    <tr>\n",
              "      <th>Number_of_Vehicles</th>\n",
              "      <td>int64</td>\n",
              "    </tr>\n",
              "    <tr>\n",
              "      <th>Road_Surface_Conditions</th>\n",
              "      <td>category</td>\n",
              "    </tr>\n",
              "    <tr>\n",
              "      <th>Road_Type</th>\n",
              "      <td>category</td>\n",
              "    </tr>\n",
              "    <tr>\n",
              "      <th>Urban_or_Rural_Area</th>\n",
              "      <td>category</td>\n",
              "    </tr>\n",
              "    <tr>\n",
              "      <th>Weather_Conditions</th>\n",
              "      <td>category</td>\n",
              "    </tr>\n",
              "    <tr>\n",
              "      <th>Vehicle_Type</th>\n",
              "      <td>category</td>\n",
              "    </tr>\n",
              "  </tbody>\n",
              "</table>\n",
              "</div><br><label><b>dtype:</b> object</label>"
            ]
          },
          "metadata": {},
          "execution_count": 8
        }
      ],
      "source": [
        "uk.dtypes"
      ]
    },
    {
      "cell_type": "markdown",
      "metadata": {
        "id": "Xlbofgf8w5PA"
      },
      "source": [
        "<h3>Cleaning empty datas</h3>"
      ]
    },
    {
      "cell_type": "code",
      "execution_count": 9,
      "metadata": {
        "colab": {
          "base_uri": "https://localhost:8080/",
          "height": 548
        },
        "id": "ExdMjw0ow9MW",
        "outputId": "7b08cd42-913d-4f62-a441-3af7bdbe1ae9"
      },
      "outputs": [
        {
          "output_type": "execute_result",
          "data": {
            "text/plain": [
              "Index                          0\n",
              "Accident_Severity              0\n",
              "Accident Date                  0\n",
              "Latitude                      25\n",
              "Light_Conditions               0\n",
              "District Area                  0\n",
              "Longitude                     26\n",
              "Number_of_Casualties           0\n",
              "Number_of_Vehicles             0\n",
              "Road_Surface_Conditions      726\n",
              "Road_Type                   4520\n",
              "Urban_or_Rural_Area           15\n",
              "Weather_Conditions         14128\n",
              "Vehicle_Type                   0\n",
              "dtype: int64"
            ],
            "text/html": [
              "<div>\n",
              "<style scoped>\n",
              "    .dataframe tbody tr th:only-of-type {\n",
              "        vertical-align: middle;\n",
              "    }\n",
              "\n",
              "    .dataframe tbody tr th {\n",
              "        vertical-align: top;\n",
              "    }\n",
              "\n",
              "    .dataframe thead th {\n",
              "        text-align: right;\n",
              "    }\n",
              "</style>\n",
              "<table border=\"1\" class=\"dataframe\">\n",
              "  <thead>\n",
              "    <tr style=\"text-align: right;\">\n",
              "      <th></th>\n",
              "      <th>0</th>\n",
              "    </tr>\n",
              "  </thead>\n",
              "  <tbody>\n",
              "    <tr>\n",
              "      <th>Index</th>\n",
              "      <td>0</td>\n",
              "    </tr>\n",
              "    <tr>\n",
              "      <th>Accident_Severity</th>\n",
              "      <td>0</td>\n",
              "    </tr>\n",
              "    <tr>\n",
              "      <th>Accident Date</th>\n",
              "      <td>0</td>\n",
              "    </tr>\n",
              "    <tr>\n",
              "      <th>Latitude</th>\n",
              "      <td>25</td>\n",
              "    </tr>\n",
              "    <tr>\n",
              "      <th>Light_Conditions</th>\n",
              "      <td>0</td>\n",
              "    </tr>\n",
              "    <tr>\n",
              "      <th>District Area</th>\n",
              "      <td>0</td>\n",
              "    </tr>\n",
              "    <tr>\n",
              "      <th>Longitude</th>\n",
              "      <td>26</td>\n",
              "    </tr>\n",
              "    <tr>\n",
              "      <th>Number_of_Casualties</th>\n",
              "      <td>0</td>\n",
              "    </tr>\n",
              "    <tr>\n",
              "      <th>Number_of_Vehicles</th>\n",
              "      <td>0</td>\n",
              "    </tr>\n",
              "    <tr>\n",
              "      <th>Road_Surface_Conditions</th>\n",
              "      <td>726</td>\n",
              "    </tr>\n",
              "    <tr>\n",
              "      <th>Road_Type</th>\n",
              "      <td>4520</td>\n",
              "    </tr>\n",
              "    <tr>\n",
              "      <th>Urban_or_Rural_Area</th>\n",
              "      <td>15</td>\n",
              "    </tr>\n",
              "    <tr>\n",
              "      <th>Weather_Conditions</th>\n",
              "      <td>14128</td>\n",
              "    </tr>\n",
              "    <tr>\n",
              "      <th>Vehicle_Type</th>\n",
              "      <td>0</td>\n",
              "    </tr>\n",
              "  </tbody>\n",
              "</table>\n",
              "</div><br><label><b>dtype:</b> int64</label>"
            ]
          },
          "metadata": {},
          "execution_count": 9
        }
      ],
      "source": [
        "uk.isna().sum()"
      ]
    },
    {
      "cell_type": "markdown",
      "metadata": {
        "id": "E3Rb4FxnxYOp"
      },
      "source": [
        "<h5>Cleaning empty numerical datas</h5>"
      ]
    },
    {
      "cell_type": "code",
      "execution_count": 10,
      "metadata": {
        "id": "UexrGfWiw-38"
      },
      "outputs": [],
      "source": [
        "uk['Latitude'] = uk['Latitude'].fillna(uk['Latitude'].mean())\n",
        "uk['Longitude'] = uk['Longitude'].fillna(uk['Longitude'].mean())"
      ]
    },
    {
      "cell_type": "code",
      "execution_count": 11,
      "metadata": {
        "colab": {
          "base_uri": "https://localhost:8080/",
          "height": 548
        },
        "id": "r3j_ItONxqli",
        "outputId": "2f7421d0-bcc7-4b73-b504-dcffc6157e3f"
      },
      "outputs": [
        {
          "output_type": "execute_result",
          "data": {
            "text/plain": [
              "Index                          0\n",
              "Accident_Severity              0\n",
              "Accident Date                  0\n",
              "Latitude                       0\n",
              "Light_Conditions               0\n",
              "District Area                  0\n",
              "Longitude                      0\n",
              "Number_of_Casualties           0\n",
              "Number_of_Vehicles             0\n",
              "Road_Surface_Conditions      726\n",
              "Road_Type                   4520\n",
              "Urban_or_Rural_Area           15\n",
              "Weather_Conditions         14128\n",
              "Vehicle_Type                   0\n",
              "dtype: int64"
            ],
            "text/html": [
              "<div>\n",
              "<style scoped>\n",
              "    .dataframe tbody tr th:only-of-type {\n",
              "        vertical-align: middle;\n",
              "    }\n",
              "\n",
              "    .dataframe tbody tr th {\n",
              "        vertical-align: top;\n",
              "    }\n",
              "\n",
              "    .dataframe thead th {\n",
              "        text-align: right;\n",
              "    }\n",
              "</style>\n",
              "<table border=\"1\" class=\"dataframe\">\n",
              "  <thead>\n",
              "    <tr style=\"text-align: right;\">\n",
              "      <th></th>\n",
              "      <th>0</th>\n",
              "    </tr>\n",
              "  </thead>\n",
              "  <tbody>\n",
              "    <tr>\n",
              "      <th>Index</th>\n",
              "      <td>0</td>\n",
              "    </tr>\n",
              "    <tr>\n",
              "      <th>Accident_Severity</th>\n",
              "      <td>0</td>\n",
              "    </tr>\n",
              "    <tr>\n",
              "      <th>Accident Date</th>\n",
              "      <td>0</td>\n",
              "    </tr>\n",
              "    <tr>\n",
              "      <th>Latitude</th>\n",
              "      <td>0</td>\n",
              "    </tr>\n",
              "    <tr>\n",
              "      <th>Light_Conditions</th>\n",
              "      <td>0</td>\n",
              "    </tr>\n",
              "    <tr>\n",
              "      <th>District Area</th>\n",
              "      <td>0</td>\n",
              "    </tr>\n",
              "    <tr>\n",
              "      <th>Longitude</th>\n",
              "      <td>0</td>\n",
              "    </tr>\n",
              "    <tr>\n",
              "      <th>Number_of_Casualties</th>\n",
              "      <td>0</td>\n",
              "    </tr>\n",
              "    <tr>\n",
              "      <th>Number_of_Vehicles</th>\n",
              "      <td>0</td>\n",
              "    </tr>\n",
              "    <tr>\n",
              "      <th>Road_Surface_Conditions</th>\n",
              "      <td>726</td>\n",
              "    </tr>\n",
              "    <tr>\n",
              "      <th>Road_Type</th>\n",
              "      <td>4520</td>\n",
              "    </tr>\n",
              "    <tr>\n",
              "      <th>Urban_or_Rural_Area</th>\n",
              "      <td>15</td>\n",
              "    </tr>\n",
              "    <tr>\n",
              "      <th>Weather_Conditions</th>\n",
              "      <td>14128</td>\n",
              "    </tr>\n",
              "    <tr>\n",
              "      <th>Vehicle_Type</th>\n",
              "      <td>0</td>\n",
              "    </tr>\n",
              "  </tbody>\n",
              "</table>\n",
              "</div><br><label><b>dtype:</b> int64</label>"
            ]
          },
          "metadata": {},
          "execution_count": 11
        }
      ],
      "source": [
        "uk.isna().sum()"
      ]
    },
    {
      "cell_type": "markdown",
      "metadata": {
        "id": "rt_fWZZGxvap"
      },
      "source": [
        "<h5>Cleaning non-numerical empty datas </h5>"
      ]
    },
    {
      "cell_type": "code",
      "execution_count": 12,
      "metadata": {
        "id": "yVl6qUFqxsN2"
      },
      "outputs": [],
      "source": [
        "uk['Road_Surface_Conditions'] = uk['Road_Surface_Conditions'].fillna(uk['Road_Surface_Conditions'].mode()[0])\n",
        "uk['Road_Type'] = uk['Road_Type'].fillna(uk['Road_Type'].mode()[0])\n",
        "uk['Urban_or_Rural_Area'] = uk['Urban_or_Rural_Area'].fillna(uk['Urban_or_Rural_Area'].mode()[0])\n",
        "uk['Weather_Conditions'] = uk['Weather_Conditions'].fillna(uk['Weather_Conditions'].mode()[0])"
      ]
    },
    {
      "cell_type": "code",
      "execution_count": 13,
      "metadata": {
        "colab": {
          "base_uri": "https://localhost:8080/",
          "height": 548
        },
        "id": "mHJRfVtOx8Vj",
        "outputId": "493589dc-bd0a-483e-b804-cfb27792dea1"
      },
      "outputs": [
        {
          "output_type": "execute_result",
          "data": {
            "text/plain": [
              "Index                      0\n",
              "Accident_Severity          0\n",
              "Accident Date              0\n",
              "Latitude                   0\n",
              "Light_Conditions           0\n",
              "District Area              0\n",
              "Longitude                  0\n",
              "Number_of_Casualties       0\n",
              "Number_of_Vehicles         0\n",
              "Road_Surface_Conditions    0\n",
              "Road_Type                  0\n",
              "Urban_or_Rural_Area        0\n",
              "Weather_Conditions         0\n",
              "Vehicle_Type               0\n",
              "dtype: int64"
            ],
            "text/html": [
              "<div>\n",
              "<style scoped>\n",
              "    .dataframe tbody tr th:only-of-type {\n",
              "        vertical-align: middle;\n",
              "    }\n",
              "\n",
              "    .dataframe tbody tr th {\n",
              "        vertical-align: top;\n",
              "    }\n",
              "\n",
              "    .dataframe thead th {\n",
              "        text-align: right;\n",
              "    }\n",
              "</style>\n",
              "<table border=\"1\" class=\"dataframe\">\n",
              "  <thead>\n",
              "    <tr style=\"text-align: right;\">\n",
              "      <th></th>\n",
              "      <th>0</th>\n",
              "    </tr>\n",
              "  </thead>\n",
              "  <tbody>\n",
              "    <tr>\n",
              "      <th>Index</th>\n",
              "      <td>0</td>\n",
              "    </tr>\n",
              "    <tr>\n",
              "      <th>Accident_Severity</th>\n",
              "      <td>0</td>\n",
              "    </tr>\n",
              "    <tr>\n",
              "      <th>Accident Date</th>\n",
              "      <td>0</td>\n",
              "    </tr>\n",
              "    <tr>\n",
              "      <th>Latitude</th>\n",
              "      <td>0</td>\n",
              "    </tr>\n",
              "    <tr>\n",
              "      <th>Light_Conditions</th>\n",
              "      <td>0</td>\n",
              "    </tr>\n",
              "    <tr>\n",
              "      <th>District Area</th>\n",
              "      <td>0</td>\n",
              "    </tr>\n",
              "    <tr>\n",
              "      <th>Longitude</th>\n",
              "      <td>0</td>\n",
              "    </tr>\n",
              "    <tr>\n",
              "      <th>Number_of_Casualties</th>\n",
              "      <td>0</td>\n",
              "    </tr>\n",
              "    <tr>\n",
              "      <th>Number_of_Vehicles</th>\n",
              "      <td>0</td>\n",
              "    </tr>\n",
              "    <tr>\n",
              "      <th>Road_Surface_Conditions</th>\n",
              "      <td>0</td>\n",
              "    </tr>\n",
              "    <tr>\n",
              "      <th>Road_Type</th>\n",
              "      <td>0</td>\n",
              "    </tr>\n",
              "    <tr>\n",
              "      <th>Urban_or_Rural_Area</th>\n",
              "      <td>0</td>\n",
              "    </tr>\n",
              "    <tr>\n",
              "      <th>Weather_Conditions</th>\n",
              "      <td>0</td>\n",
              "    </tr>\n",
              "    <tr>\n",
              "      <th>Vehicle_Type</th>\n",
              "      <td>0</td>\n",
              "    </tr>\n",
              "  </tbody>\n",
              "</table>\n",
              "</div><br><label><b>dtype:</b> int64</label>"
            ]
          },
          "metadata": {},
          "execution_count": 13
        }
      ],
      "source": [
        "uk.isna().sum()"
      ]
    },
    {
      "cell_type": "markdown",
      "metadata": {
        "id": "Z-TPEYPty8SX"
      },
      "source": [
        "<h1>Exploratory Data Analytics</h5>"
      ]
    },
    {
      "cell_type": "markdown",
      "metadata": {
        "id": "oHJWFa210scq"
      },
      "source": [
        "<h1>1. What percentages do each accident severity represent on the accident report? and which severity had the highest percentage on the report."
      ]
    },
    {
      "cell_type": "code",
      "execution_count": 14,
      "metadata": {
        "colab": {
          "base_uri": "https://localhost:8080/"
        },
        "id": "hvXlbe1jzA8y",
        "outputId": "469e2dd8-da2b-4c1f-b543-7f83a551962f"
      },
      "outputs": [
        {
          "output_type": "execute_result",
          "data": {
            "text/plain": [
              "['Serious', 'Slight', 'Fatal']\n",
              "Categories (3, object): ['Fatal', 'Serious', 'Slight']"
            ]
          },
          "metadata": {},
          "execution_count": 14
        }
      ],
      "source": [
        "uk['Accident_Severity'].unique()"
      ]
    },
    {
      "cell_type": "code",
      "execution_count": 15,
      "metadata": {
        "id": "V56FAAZ1006R"
      },
      "outputs": [],
      "source": [
        "severity = uk['Accident_Severity']"
      ]
    },
    {
      "cell_type": "code",
      "execution_count": 16,
      "metadata": {
        "id": "u-1PWzbc1lKE"
      },
      "outputs": [],
      "source": [
        "Slight, Serious, Fatal = severity.value_counts()"
      ]
    },
    {
      "cell_type": "markdown",
      "metadata": {
        "id": "dLSJQdTn2VWO"
      },
      "source": [
        "<p>Percentage of Slight category</p>"
      ]
    },
    {
      "cell_type": "code",
      "execution_count": 17,
      "metadata": {
        "colab": {
          "base_uri": "https://localhost:8080/"
        },
        "id": "4sbPTqKu1wIc",
        "outputId": "b4accab6-ee69-4f31-b27f-3d2113b0e480"
      },
      "outputs": [
        {
          "output_type": "execute_result",
          "data": {
            "text/plain": [
              "85.33660067899842"
            ]
          },
          "metadata": {},
          "execution_count": 17
        }
      ],
      "source": [
        "(Slight / len(uk)) * 100"
      ]
    },
    {
      "cell_type": "markdown",
      "metadata": {
        "id": "wqaxOvO_2j0w"
      },
      "source": [
        "<p>Slight severity consumes <strong>85%</strong> of overall reports</p>"
      ]
    },
    {
      "cell_type": "markdown",
      "metadata": {
        "id": "bnBBJEiD3WQE"
      },
      "source": [
        "<p>Percentage of serious category</p>"
      ]
    },
    {
      "cell_type": "code",
      "execution_count": 18,
      "metadata": {
        "colab": {
          "base_uri": "https://localhost:8080/"
        },
        "id": "lE12EHxB2fii",
        "outputId": "0f17fd9d-91c3-465a-a6f7-fb25630758ff"
      },
      "outputs": [
        {
          "output_type": "execute_result",
          "data": {
            "text/plain": [
              "13.352475256516403"
            ]
          },
          "metadata": {},
          "execution_count": 18
        }
      ],
      "source": [
        "(Serious / len(uk)) * 100"
      ]
    },
    {
      "cell_type": "markdown",
      "metadata": {
        "id": "lGx5hZ-F3lGg"
      },
      "source": [
        "<p>Serious severity consumes <strong>13%</strong> of overall reports</p>"
      ]
    },
    {
      "cell_type": "code",
      "execution_count": 19,
      "metadata": {
        "colab": {
          "base_uri": "https://localhost:8080/"
        },
        "id": "5euT6aRy3qF2",
        "outputId": "598e0861-ac8d-4257-b2f0-22ad7ebf7689"
      },
      "outputs": [
        {
          "output_type": "execute_result",
          "data": {
            "text/plain": [
              "1.3109240644851736"
            ]
          },
          "metadata": {},
          "execution_count": 19
        }
      ],
      "source": [
        "(Fatal / len(uk)) * 100"
      ]
    },
    {
      "cell_type": "markdown",
      "metadata": {
        "id": "qp0zFxP-4njk"
      },
      "source": [
        "<p>Fatal severity consumes <strong>1%</strong> of overall reports</p>"
      ]
    },
    {
      "cell_type": "markdown",
      "metadata": {
        "id": "esCsxv-h4smd"
      },
      "source": [
        "<h1>Insight # 1: With the calculation above, we found out that Serious accident severity consumes 85.33% of the overall reportts while Serious and Fatal have 13.35% and 1.31% respectively</h1>"
      ]
    },
    {
      "cell_type": "markdown",
      "source": [
        "<h1>2. Does the weather condition and vehicle type affect the number of casualties? If so, which weather condition and vehicle type recorded the highest number of casualties?"
      ],
      "metadata": {
        "id": "jiMMQKpP_WS8"
      }
    },
    {
      "cell_type": "code",
      "source": [
        " pd.set_option('display.max_colwidth', 500)"
      ],
      "metadata": {
        "id": "o0UgAqU-A-sV"
      },
      "execution_count": 20,
      "outputs": []
    },
    {
      "cell_type": "code",
      "source": [
        "weatherandvehicle = uk.groupby(['Weather_Conditions', \"Vehicle_Type\"])['Number_of_Casualties'].size()"
      ],
      "metadata": {
        "id": "ytDQoxwS_oTf"
      },
      "execution_count": 21,
      "outputs": []
    },
    {
      "cell_type": "code",
      "source": [
        "uk['Weather_Conditions'].value_counts()"
      ],
      "metadata": {
        "id": "936kCPiGAFRf",
        "colab": {
          "base_uri": "https://localhost:8080/",
          "height": 383
        },
        "outputId": "023cdb48-f902-446c-f832-4fd546598cf5"
      },
      "execution_count": 22,
      "outputs": [
        {
          "output_type": "execute_result",
          "data": {
            "text/plain": [
              "Weather_Conditions\n",
              "Fine no high winds       535013\n",
              "Raining no high winds     79696\n",
              "Other                     17150\n",
              "Raining + high winds       9615\n",
              "Fine + high winds          8554\n",
              "Snowing no high winds      6238\n",
              "Fog or mist                3528\n",
              "Snowing + high winds        885\n",
              "Name: count, dtype: int64"
            ],
            "text/html": [
              "<div>\n",
              "<style scoped>\n",
              "    .dataframe tbody tr th:only-of-type {\n",
              "        vertical-align: middle;\n",
              "    }\n",
              "\n",
              "    .dataframe tbody tr th {\n",
              "        vertical-align: top;\n",
              "    }\n",
              "\n",
              "    .dataframe thead th {\n",
              "        text-align: right;\n",
              "    }\n",
              "</style>\n",
              "<table border=\"1\" class=\"dataframe\">\n",
              "  <thead>\n",
              "    <tr style=\"text-align: right;\">\n",
              "      <th></th>\n",
              "      <th>count</th>\n",
              "    </tr>\n",
              "    <tr>\n",
              "      <th>Weather_Conditions</th>\n",
              "      <th></th>\n",
              "    </tr>\n",
              "  </thead>\n",
              "  <tbody>\n",
              "    <tr>\n",
              "      <th>Fine no high winds</th>\n",
              "      <td>535013</td>\n",
              "    </tr>\n",
              "    <tr>\n",
              "      <th>Raining no high winds</th>\n",
              "      <td>79696</td>\n",
              "    </tr>\n",
              "    <tr>\n",
              "      <th>Other</th>\n",
              "      <td>17150</td>\n",
              "    </tr>\n",
              "    <tr>\n",
              "      <th>Raining + high winds</th>\n",
              "      <td>9615</td>\n",
              "    </tr>\n",
              "    <tr>\n",
              "      <th>Fine + high winds</th>\n",
              "      <td>8554</td>\n",
              "    </tr>\n",
              "    <tr>\n",
              "      <th>Snowing no high winds</th>\n",
              "      <td>6238</td>\n",
              "    </tr>\n",
              "    <tr>\n",
              "      <th>Fog or mist</th>\n",
              "      <td>3528</td>\n",
              "    </tr>\n",
              "    <tr>\n",
              "      <th>Snowing + high winds</th>\n",
              "      <td>885</td>\n",
              "    </tr>\n",
              "  </tbody>\n",
              "</table>\n",
              "</div><br><label><b>dtype:</b> int64</label>"
            ]
          },
          "metadata": {},
          "execution_count": 22
        }
      ]
    },
    {
      "cell_type": "markdown",
      "source": [
        "<h3>Breakdown</h3>"
      ],
      "metadata": {
        "id": "kd2VarPFBvgw"
      }
    },
    {
      "cell_type": "code",
      "source": [
        "# Fine and no high winds\n",
        "weatherandvehicle['Fine no high winds'].sort_values(ascending = False)"
      ],
      "metadata": {
        "colab": {
          "base_uri": "https://localhost:8080/",
          "height": 647
        },
        "id": "TJRFzwjDAWaP",
        "outputId": "77d5e92c-7492-4c8c-83a1-88b67fa6f76d"
      },
      "execution_count": 23,
      "outputs": [
        {
          "output_type": "execute_result",
          "data": {
            "text/plain": [
              "Vehicle_Type\n",
              "Car                                      403324\n",
              "Van / Goods 3.5 tonnes mgw or under       27603\n",
              "Bus or coach (17 or more pass seats)      20963\n",
              "Motorcycle over 500cc                     20793\n",
              "Goods 7.5 tonnes mgw and over             13938\n",
              "Motorcycle 125cc and under                12407\n",
              "Taxi/Private hire car                     10733\n",
              "Motorcycle over 125cc and up to 500cc      6228\n",
              "Motorcycle 50cc and under                  6165\n",
              "Goods over 3.5t. and under 7.5t            4950\n",
              "Other vehicle                              4591\n",
              "Minibus (8 - 16 passenger seats)           1588\n",
              "Agricultural vehicle                       1555\n",
              "Pedal cycle                                 167\n",
              "Data missing or out of range                  5\n",
              "Ridden horse                                  3\n",
              "Name: Number_of_Casualties, dtype: int64"
            ],
            "text/html": [
              "<div>\n",
              "<style scoped>\n",
              "    .dataframe tbody tr th:only-of-type {\n",
              "        vertical-align: middle;\n",
              "    }\n",
              "\n",
              "    .dataframe tbody tr th {\n",
              "        vertical-align: top;\n",
              "    }\n",
              "\n",
              "    .dataframe thead th {\n",
              "        text-align: right;\n",
              "    }\n",
              "</style>\n",
              "<table border=\"1\" class=\"dataframe\">\n",
              "  <thead>\n",
              "    <tr style=\"text-align: right;\">\n",
              "      <th></th>\n",
              "      <th>Number_of_Casualties</th>\n",
              "    </tr>\n",
              "    <tr>\n",
              "      <th>Vehicle_Type</th>\n",
              "      <th></th>\n",
              "    </tr>\n",
              "  </thead>\n",
              "  <tbody>\n",
              "    <tr>\n",
              "      <th>Car</th>\n",
              "      <td>403324</td>\n",
              "    </tr>\n",
              "    <tr>\n",
              "      <th>Van / Goods 3.5 tonnes mgw or under</th>\n",
              "      <td>27603</td>\n",
              "    </tr>\n",
              "    <tr>\n",
              "      <th>Bus or coach (17 or more pass seats)</th>\n",
              "      <td>20963</td>\n",
              "    </tr>\n",
              "    <tr>\n",
              "      <th>Motorcycle over 500cc</th>\n",
              "      <td>20793</td>\n",
              "    </tr>\n",
              "    <tr>\n",
              "      <th>Goods 7.5 tonnes mgw and over</th>\n",
              "      <td>13938</td>\n",
              "    </tr>\n",
              "    <tr>\n",
              "      <th>Motorcycle 125cc and under</th>\n",
              "      <td>12407</td>\n",
              "    </tr>\n",
              "    <tr>\n",
              "      <th>Taxi/Private hire car</th>\n",
              "      <td>10733</td>\n",
              "    </tr>\n",
              "    <tr>\n",
              "      <th>Motorcycle over 125cc and up to 500cc</th>\n",
              "      <td>6228</td>\n",
              "    </tr>\n",
              "    <tr>\n",
              "      <th>Motorcycle 50cc and under</th>\n",
              "      <td>6165</td>\n",
              "    </tr>\n",
              "    <tr>\n",
              "      <th>Goods over 3.5t. and under 7.5t</th>\n",
              "      <td>4950</td>\n",
              "    </tr>\n",
              "    <tr>\n",
              "      <th>Other vehicle</th>\n",
              "      <td>4591</td>\n",
              "    </tr>\n",
              "    <tr>\n",
              "      <th>Minibus (8 - 16 passenger seats)</th>\n",
              "      <td>1588</td>\n",
              "    </tr>\n",
              "    <tr>\n",
              "      <th>Agricultural vehicle</th>\n",
              "      <td>1555</td>\n",
              "    </tr>\n",
              "    <tr>\n",
              "      <th>Pedal cycle</th>\n",
              "      <td>167</td>\n",
              "    </tr>\n",
              "    <tr>\n",
              "      <th>Data missing or out of range</th>\n",
              "      <td>5</td>\n",
              "    </tr>\n",
              "    <tr>\n",
              "      <th>Ridden horse</th>\n",
              "      <td>3</td>\n",
              "    </tr>\n",
              "  </tbody>\n",
              "</table>\n",
              "</div><br><label><b>dtype:</b> int64</label>"
            ]
          },
          "metadata": {},
          "execution_count": 23
        }
      ]
    },
    {
      "cell_type": "code",
      "source": [
        "# raining no high winds\n",
        "weatherandvehicle['Raining no high winds'].sort_values(ascending = False)"
      ],
      "metadata": {
        "id": "tmS2PWwlB6M1",
        "colab": {
          "base_uri": "https://localhost:8080/",
          "height": 647
        },
        "outputId": "d8ed9b7e-37f4-4e6a-93f7-93c8832c0801"
      },
      "execution_count": 24,
      "outputs": [
        {
          "output_type": "execute_result",
          "data": {
            "text/plain": [
              "Vehicle_Type\n",
              "Car                                      59940\n",
              "Van / Goods 3.5 tonnes mgw or under       4203\n",
              "Bus or coach (17 or more pass seats)      3182\n",
              "Motorcycle over 500cc                     3135\n",
              "Goods 7.5 tonnes mgw and over             2114\n",
              "Motorcycle 125cc and under                1830\n",
              "Taxi/Private hire car                     1622\n",
              "Motorcycle 50cc and under                  897\n",
              "Motorcycle over 125cc and up to 500cc      893\n",
              "Goods over 3.5t. and under 7.5t            729\n",
              "Other vehicle                              643\n",
              "Minibus (8 - 16 passenger seats)           245\n",
              "Agricultural vehicle                       244\n",
              "Pedal cycle                                 18\n",
              "Ridden horse                                 1\n",
              "Data missing or out of range                 0\n",
              "Name: Number_of_Casualties, dtype: int64"
            ],
            "text/html": [
              "<div>\n",
              "<style scoped>\n",
              "    .dataframe tbody tr th:only-of-type {\n",
              "        vertical-align: middle;\n",
              "    }\n",
              "\n",
              "    .dataframe tbody tr th {\n",
              "        vertical-align: top;\n",
              "    }\n",
              "\n",
              "    .dataframe thead th {\n",
              "        text-align: right;\n",
              "    }\n",
              "</style>\n",
              "<table border=\"1\" class=\"dataframe\">\n",
              "  <thead>\n",
              "    <tr style=\"text-align: right;\">\n",
              "      <th></th>\n",
              "      <th>Number_of_Casualties</th>\n",
              "    </tr>\n",
              "    <tr>\n",
              "      <th>Vehicle_Type</th>\n",
              "      <th></th>\n",
              "    </tr>\n",
              "  </thead>\n",
              "  <tbody>\n",
              "    <tr>\n",
              "      <th>Car</th>\n",
              "      <td>59940</td>\n",
              "    </tr>\n",
              "    <tr>\n",
              "      <th>Van / Goods 3.5 tonnes mgw or under</th>\n",
              "      <td>4203</td>\n",
              "    </tr>\n",
              "    <tr>\n",
              "      <th>Bus or coach (17 or more pass seats)</th>\n",
              "      <td>3182</td>\n",
              "    </tr>\n",
              "    <tr>\n",
              "      <th>Motorcycle over 500cc</th>\n",
              "      <td>3135</td>\n",
              "    </tr>\n",
              "    <tr>\n",
              "      <th>Goods 7.5 tonnes mgw and over</th>\n",
              "      <td>2114</td>\n",
              "    </tr>\n",
              "    <tr>\n",
              "      <th>Motorcycle 125cc and under</th>\n",
              "      <td>1830</td>\n",
              "    </tr>\n",
              "    <tr>\n",
              "      <th>Taxi/Private hire car</th>\n",
              "      <td>1622</td>\n",
              "    </tr>\n",
              "    <tr>\n",
              "      <th>Motorcycle 50cc and under</th>\n",
              "      <td>897</td>\n",
              "    </tr>\n",
              "    <tr>\n",
              "      <th>Motorcycle over 125cc and up to 500cc</th>\n",
              "      <td>893</td>\n",
              "    </tr>\n",
              "    <tr>\n",
              "      <th>Goods over 3.5t. and under 7.5t</th>\n",
              "      <td>729</td>\n",
              "    </tr>\n",
              "    <tr>\n",
              "      <th>Other vehicle</th>\n",
              "      <td>643</td>\n",
              "    </tr>\n",
              "    <tr>\n",
              "      <th>Minibus (8 - 16 passenger seats)</th>\n",
              "      <td>245</td>\n",
              "    </tr>\n",
              "    <tr>\n",
              "      <th>Agricultural vehicle</th>\n",
              "      <td>244</td>\n",
              "    </tr>\n",
              "    <tr>\n",
              "      <th>Pedal cycle</th>\n",
              "      <td>18</td>\n",
              "    </tr>\n",
              "    <tr>\n",
              "      <th>Ridden horse</th>\n",
              "      <td>1</td>\n",
              "    </tr>\n",
              "    <tr>\n",
              "      <th>Data missing or out of range</th>\n",
              "      <td>0</td>\n",
              "    </tr>\n",
              "  </tbody>\n",
              "</table>\n",
              "</div><br><label><b>dtype:</b> int64</label>"
            ]
          },
          "metadata": {},
          "execution_count": 24
        }
      ]
    },
    {
      "cell_type": "code",
      "source": [
        "# raining+ high winds\n",
        "weatherandvehicle['Raining + high winds'].sort_values(ascending = False)"
      ],
      "metadata": {
        "colab": {
          "base_uri": "https://localhost:8080/",
          "height": 647
        },
        "id": "zhzxNU2vDTcq",
        "outputId": "07d1656a-8fda-4e72-d333-17fa95826322"
      },
      "execution_count": 25,
      "outputs": [
        {
          "output_type": "execute_result",
          "data": {
            "text/plain": [
              "Vehicle_Type\n",
              "Car                                      7206\n",
              "Van / Goods 3.5 tonnes mgw or under       508\n",
              "Bus or coach (17 or more pass seats)      389\n",
              "Motorcycle over 500cc                     354\n",
              "Goods 7.5 tonnes mgw and over             275\n",
              "Motorcycle 125cc and under                220\n",
              "Taxi/Private hire car                     190\n",
              "Motorcycle over 125cc and up to 500cc     117\n",
              "Motorcycle 50cc and under                 107\n",
              "Other vehicle                              99\n",
              "Goods over 3.5t. and under 7.5t            83\n",
              "Agricultural vehicle                       37\n",
              "Minibus (8 - 16 passenger seats)           27\n",
              "Pedal cycle                                 3\n",
              "Data missing or out of range                0\n",
              "Ridden horse                                0\n",
              "Name: Number_of_Casualties, dtype: int64"
            ],
            "text/html": [
              "<div>\n",
              "<style scoped>\n",
              "    .dataframe tbody tr th:only-of-type {\n",
              "        vertical-align: middle;\n",
              "    }\n",
              "\n",
              "    .dataframe tbody tr th {\n",
              "        vertical-align: top;\n",
              "    }\n",
              "\n",
              "    .dataframe thead th {\n",
              "        text-align: right;\n",
              "    }\n",
              "</style>\n",
              "<table border=\"1\" class=\"dataframe\">\n",
              "  <thead>\n",
              "    <tr style=\"text-align: right;\">\n",
              "      <th></th>\n",
              "      <th>Number_of_Casualties</th>\n",
              "    </tr>\n",
              "    <tr>\n",
              "      <th>Vehicle_Type</th>\n",
              "      <th></th>\n",
              "    </tr>\n",
              "  </thead>\n",
              "  <tbody>\n",
              "    <tr>\n",
              "      <th>Car</th>\n",
              "      <td>7206</td>\n",
              "    </tr>\n",
              "    <tr>\n",
              "      <th>Van / Goods 3.5 tonnes mgw or under</th>\n",
              "      <td>508</td>\n",
              "    </tr>\n",
              "    <tr>\n",
              "      <th>Bus or coach (17 or more pass seats)</th>\n",
              "      <td>389</td>\n",
              "    </tr>\n",
              "    <tr>\n",
              "      <th>Motorcycle over 500cc</th>\n",
              "      <td>354</td>\n",
              "    </tr>\n",
              "    <tr>\n",
              "      <th>Goods 7.5 tonnes mgw and over</th>\n",
              "      <td>275</td>\n",
              "    </tr>\n",
              "    <tr>\n",
              "      <th>Motorcycle 125cc and under</th>\n",
              "      <td>220</td>\n",
              "    </tr>\n",
              "    <tr>\n",
              "      <th>Taxi/Private hire car</th>\n",
              "      <td>190</td>\n",
              "    </tr>\n",
              "    <tr>\n",
              "      <th>Motorcycle over 125cc and up to 500cc</th>\n",
              "      <td>117</td>\n",
              "    </tr>\n",
              "    <tr>\n",
              "      <th>Motorcycle 50cc and under</th>\n",
              "      <td>107</td>\n",
              "    </tr>\n",
              "    <tr>\n",
              "      <th>Other vehicle</th>\n",
              "      <td>99</td>\n",
              "    </tr>\n",
              "    <tr>\n",
              "      <th>Goods over 3.5t. and under 7.5t</th>\n",
              "      <td>83</td>\n",
              "    </tr>\n",
              "    <tr>\n",
              "      <th>Agricultural vehicle</th>\n",
              "      <td>37</td>\n",
              "    </tr>\n",
              "    <tr>\n",
              "      <th>Minibus (8 - 16 passenger seats)</th>\n",
              "      <td>27</td>\n",
              "    </tr>\n",
              "    <tr>\n",
              "      <th>Pedal cycle</th>\n",
              "      <td>3</td>\n",
              "    </tr>\n",
              "    <tr>\n",
              "      <th>Data missing or out of range</th>\n",
              "      <td>0</td>\n",
              "    </tr>\n",
              "    <tr>\n",
              "      <th>Ridden horse</th>\n",
              "      <td>0</td>\n",
              "    </tr>\n",
              "  </tbody>\n",
              "</table>\n",
              "</div><br><label><b>dtype:</b> int64</label>"
            ]
          },
          "metadata": {},
          "execution_count": 25
        }
      ]
    },
    {
      "cell_type": "code",
      "source": [
        "# Fine + high winds\n",
        "weatherandvehicle['Fine + high winds'].sort_values(ascending = False)"
      ],
      "metadata": {
        "colab": {
          "base_uri": "https://localhost:8080/",
          "height": 647
        },
        "id": "R839CjOgDm0g",
        "outputId": "15497cfa-182c-40c8-ac2f-c5a987c725e4"
      },
      "execution_count": 26,
      "outputs": [
        {
          "output_type": "execute_result",
          "data": {
            "text/plain": [
              "Vehicle_Type\n",
              "Car                                      6463\n",
              "Van / Goods 3.5 tonnes mgw or under       408\n",
              "Bus or coach (17 or more pass seats)      350\n",
              "Motorcycle over 500cc                     315\n",
              "Goods 7.5 tonnes mgw and over             251\n",
              "Taxi/Private hire car                     187\n",
              "Motorcycle 125cc and under                180\n",
              "Motorcycle 50cc and under                 106\n",
              "Goods over 3.5t. and under 7.5t            94\n",
              "Motorcycle over 125cc and up to 500cc      87\n",
              "Other vehicle                              57\n",
              "Minibus (8 - 16 passenger seats)           34\n",
              "Agricultural vehicle                       20\n",
              "Data missing or out of range                1\n",
              "Pedal cycle                                 1\n",
              "Ridden horse                                0\n",
              "Name: Number_of_Casualties, dtype: int64"
            ],
            "text/html": [
              "<div>\n",
              "<style scoped>\n",
              "    .dataframe tbody tr th:only-of-type {\n",
              "        vertical-align: middle;\n",
              "    }\n",
              "\n",
              "    .dataframe tbody tr th {\n",
              "        vertical-align: top;\n",
              "    }\n",
              "\n",
              "    .dataframe thead th {\n",
              "        text-align: right;\n",
              "    }\n",
              "</style>\n",
              "<table border=\"1\" class=\"dataframe\">\n",
              "  <thead>\n",
              "    <tr style=\"text-align: right;\">\n",
              "      <th></th>\n",
              "      <th>Number_of_Casualties</th>\n",
              "    </tr>\n",
              "    <tr>\n",
              "      <th>Vehicle_Type</th>\n",
              "      <th></th>\n",
              "    </tr>\n",
              "  </thead>\n",
              "  <tbody>\n",
              "    <tr>\n",
              "      <th>Car</th>\n",
              "      <td>6463</td>\n",
              "    </tr>\n",
              "    <tr>\n",
              "      <th>Van / Goods 3.5 tonnes mgw or under</th>\n",
              "      <td>408</td>\n",
              "    </tr>\n",
              "    <tr>\n",
              "      <th>Bus or coach (17 or more pass seats)</th>\n",
              "      <td>350</td>\n",
              "    </tr>\n",
              "    <tr>\n",
              "      <th>Motorcycle over 500cc</th>\n",
              "      <td>315</td>\n",
              "    </tr>\n",
              "    <tr>\n",
              "      <th>Goods 7.5 tonnes mgw and over</th>\n",
              "      <td>251</td>\n",
              "    </tr>\n",
              "    <tr>\n",
              "      <th>Taxi/Private hire car</th>\n",
              "      <td>187</td>\n",
              "    </tr>\n",
              "    <tr>\n",
              "      <th>Motorcycle 125cc and under</th>\n",
              "      <td>180</td>\n",
              "    </tr>\n",
              "    <tr>\n",
              "      <th>Motorcycle 50cc and under</th>\n",
              "      <td>106</td>\n",
              "    </tr>\n",
              "    <tr>\n",
              "      <th>Goods over 3.5t. and under 7.5t</th>\n",
              "      <td>94</td>\n",
              "    </tr>\n",
              "    <tr>\n",
              "      <th>Motorcycle over 125cc and up to 500cc</th>\n",
              "      <td>87</td>\n",
              "    </tr>\n",
              "    <tr>\n",
              "      <th>Other vehicle</th>\n",
              "      <td>57</td>\n",
              "    </tr>\n",
              "    <tr>\n",
              "      <th>Minibus (8 - 16 passenger seats)</th>\n",
              "      <td>34</td>\n",
              "    </tr>\n",
              "    <tr>\n",
              "      <th>Agricultural vehicle</th>\n",
              "      <td>20</td>\n",
              "    </tr>\n",
              "    <tr>\n",
              "      <th>Data missing or out of range</th>\n",
              "      <td>1</td>\n",
              "    </tr>\n",
              "    <tr>\n",
              "      <th>Pedal cycle</th>\n",
              "      <td>1</td>\n",
              "    </tr>\n",
              "    <tr>\n",
              "      <th>Ridden horse</th>\n",
              "      <td>0</td>\n",
              "    </tr>\n",
              "  </tbody>\n",
              "</table>\n",
              "</div><br><label><b>dtype:</b> int64</label>"
            ]
          },
          "metadata": {},
          "execution_count": 26
        }
      ]
    },
    {
      "cell_type": "code",
      "source": [
        "# snowing no high winds\n",
        "weatherandvehicle['Snowing no high winds'].sort_values(ascending = False)"
      ],
      "metadata": {
        "colab": {
          "base_uri": "https://localhost:8080/",
          "height": 647
        },
        "id": "caIYls5_D0GS",
        "outputId": "f66d7484-9284-4747-f447-fefdd6187fe5"
      },
      "execution_count": 27,
      "outputs": [
        {
          "output_type": "execute_result",
          "data": {
            "text/plain": [
              "Vehicle_Type\n",
              "Car                                      4748\n",
              "Van / Goods 3.5 tonnes mgw or under       296\n",
              "Motorcycle over 500cc                     254\n",
              "Bus or coach (17 or more pass seats)      219\n",
              "Goods 7.5 tonnes mgw and over             149\n",
              "Motorcycle 125cc and under                146\n",
              "Taxi/Private hire car                     136\n",
              "Motorcycle 50cc and under                  75\n",
              "Motorcycle over 125cc and up to 500cc      72\n",
              "Goods over 3.5t. and under 7.5t            52\n",
              "Other vehicle                              50\n",
              "Agricultural vehicle                       22\n",
              "Minibus (8 - 16 passenger seats)           16\n",
              "Pedal cycle                                 3\n",
              "Data missing or out of range                0\n",
              "Ridden horse                                0\n",
              "Name: Number_of_Casualties, dtype: int64"
            ],
            "text/html": [
              "<div>\n",
              "<style scoped>\n",
              "    .dataframe tbody tr th:only-of-type {\n",
              "        vertical-align: middle;\n",
              "    }\n",
              "\n",
              "    .dataframe tbody tr th {\n",
              "        vertical-align: top;\n",
              "    }\n",
              "\n",
              "    .dataframe thead th {\n",
              "        text-align: right;\n",
              "    }\n",
              "</style>\n",
              "<table border=\"1\" class=\"dataframe\">\n",
              "  <thead>\n",
              "    <tr style=\"text-align: right;\">\n",
              "      <th></th>\n",
              "      <th>Number_of_Casualties</th>\n",
              "    </tr>\n",
              "    <tr>\n",
              "      <th>Vehicle_Type</th>\n",
              "      <th></th>\n",
              "    </tr>\n",
              "  </thead>\n",
              "  <tbody>\n",
              "    <tr>\n",
              "      <th>Car</th>\n",
              "      <td>4748</td>\n",
              "    </tr>\n",
              "    <tr>\n",
              "      <th>Van / Goods 3.5 tonnes mgw or under</th>\n",
              "      <td>296</td>\n",
              "    </tr>\n",
              "    <tr>\n",
              "      <th>Motorcycle over 500cc</th>\n",
              "      <td>254</td>\n",
              "    </tr>\n",
              "    <tr>\n",
              "      <th>Bus or coach (17 or more pass seats)</th>\n",
              "      <td>219</td>\n",
              "    </tr>\n",
              "    <tr>\n",
              "      <th>Goods 7.5 tonnes mgw and over</th>\n",
              "      <td>149</td>\n",
              "    </tr>\n",
              "    <tr>\n",
              "      <th>Motorcycle 125cc and under</th>\n",
              "      <td>146</td>\n",
              "    </tr>\n",
              "    <tr>\n",
              "      <th>Taxi/Private hire car</th>\n",
              "      <td>136</td>\n",
              "    </tr>\n",
              "    <tr>\n",
              "      <th>Motorcycle 50cc and under</th>\n",
              "      <td>75</td>\n",
              "    </tr>\n",
              "    <tr>\n",
              "      <th>Motorcycle over 125cc and up to 500cc</th>\n",
              "      <td>72</td>\n",
              "    </tr>\n",
              "    <tr>\n",
              "      <th>Goods over 3.5t. and under 7.5t</th>\n",
              "      <td>52</td>\n",
              "    </tr>\n",
              "    <tr>\n",
              "      <th>Other vehicle</th>\n",
              "      <td>50</td>\n",
              "    </tr>\n",
              "    <tr>\n",
              "      <th>Agricultural vehicle</th>\n",
              "      <td>22</td>\n",
              "    </tr>\n",
              "    <tr>\n",
              "      <th>Minibus (8 - 16 passenger seats)</th>\n",
              "      <td>16</td>\n",
              "    </tr>\n",
              "    <tr>\n",
              "      <th>Pedal cycle</th>\n",
              "      <td>3</td>\n",
              "    </tr>\n",
              "    <tr>\n",
              "      <th>Data missing or out of range</th>\n",
              "      <td>0</td>\n",
              "    </tr>\n",
              "    <tr>\n",
              "      <th>Ridden horse</th>\n",
              "      <td>0</td>\n",
              "    </tr>\n",
              "  </tbody>\n",
              "</table>\n",
              "</div><br><label><b>dtype:</b> int64</label>"
            ]
          },
          "metadata": {},
          "execution_count": 27
        }
      ]
    },
    {
      "cell_type": "code",
      "source": [
        "# Fog or mist\n",
        "weatherandvehicle['Fog or mist'].sort_values(ascending = False)"
      ],
      "metadata": {
        "colab": {
          "base_uri": "https://localhost:8080/",
          "height": 647
        },
        "id": "fRPUKosFD_4E",
        "outputId": "20c1ab3c-c96b-4587-9581-85b5642d73dc"
      },
      "execution_count": 28,
      "outputs": [
        {
          "output_type": "execute_result",
          "data": {
            "text/plain": [
              "Vehicle_Type\n",
              "Car                                      2641\n",
              "Van / Goods 3.5 tonnes mgw or under       192\n",
              "Bus or coach (17 or more pass seats)      134\n",
              "Motorcycle over 500cc                     118\n",
              "Goods 7.5 tonnes mgw and over              93\n",
              "Motorcycle 125cc and under                 82\n",
              "Taxi/Private hire car                      78\n",
              "Motorcycle 50cc and under                  50\n",
              "Motorcycle over 125cc and up to 500cc      45\n",
              "Other vehicle                              38\n",
              "Goods over 3.5t. and under 7.5t            31\n",
              "Minibus (8 - 16 passenger seats)           14\n",
              "Agricultural vehicle                        9\n",
              "Pedal cycle                                 3\n",
              "Data missing or out of range                0\n",
              "Ridden horse                                0\n",
              "Name: Number_of_Casualties, dtype: int64"
            ],
            "text/html": [
              "<div>\n",
              "<style scoped>\n",
              "    .dataframe tbody tr th:only-of-type {\n",
              "        vertical-align: middle;\n",
              "    }\n",
              "\n",
              "    .dataframe tbody tr th {\n",
              "        vertical-align: top;\n",
              "    }\n",
              "\n",
              "    .dataframe thead th {\n",
              "        text-align: right;\n",
              "    }\n",
              "</style>\n",
              "<table border=\"1\" class=\"dataframe\">\n",
              "  <thead>\n",
              "    <tr style=\"text-align: right;\">\n",
              "      <th></th>\n",
              "      <th>Number_of_Casualties</th>\n",
              "    </tr>\n",
              "    <tr>\n",
              "      <th>Vehicle_Type</th>\n",
              "      <th></th>\n",
              "    </tr>\n",
              "  </thead>\n",
              "  <tbody>\n",
              "    <tr>\n",
              "      <th>Car</th>\n",
              "      <td>2641</td>\n",
              "    </tr>\n",
              "    <tr>\n",
              "      <th>Van / Goods 3.5 tonnes mgw or under</th>\n",
              "      <td>192</td>\n",
              "    </tr>\n",
              "    <tr>\n",
              "      <th>Bus or coach (17 or more pass seats)</th>\n",
              "      <td>134</td>\n",
              "    </tr>\n",
              "    <tr>\n",
              "      <th>Motorcycle over 500cc</th>\n",
              "      <td>118</td>\n",
              "    </tr>\n",
              "    <tr>\n",
              "      <th>Goods 7.5 tonnes mgw and over</th>\n",
              "      <td>93</td>\n",
              "    </tr>\n",
              "    <tr>\n",
              "      <th>Motorcycle 125cc and under</th>\n",
              "      <td>82</td>\n",
              "    </tr>\n",
              "    <tr>\n",
              "      <th>Taxi/Private hire car</th>\n",
              "      <td>78</td>\n",
              "    </tr>\n",
              "    <tr>\n",
              "      <th>Motorcycle 50cc and under</th>\n",
              "      <td>50</td>\n",
              "    </tr>\n",
              "    <tr>\n",
              "      <th>Motorcycle over 125cc and up to 500cc</th>\n",
              "      <td>45</td>\n",
              "    </tr>\n",
              "    <tr>\n",
              "      <th>Other vehicle</th>\n",
              "      <td>38</td>\n",
              "    </tr>\n",
              "    <tr>\n",
              "      <th>Goods over 3.5t. and under 7.5t</th>\n",
              "      <td>31</td>\n",
              "    </tr>\n",
              "    <tr>\n",
              "      <th>Minibus (8 - 16 passenger seats)</th>\n",
              "      <td>14</td>\n",
              "    </tr>\n",
              "    <tr>\n",
              "      <th>Agricultural vehicle</th>\n",
              "      <td>9</td>\n",
              "    </tr>\n",
              "    <tr>\n",
              "      <th>Pedal cycle</th>\n",
              "      <td>3</td>\n",
              "    </tr>\n",
              "    <tr>\n",
              "      <th>Data missing or out of range</th>\n",
              "      <td>0</td>\n",
              "    </tr>\n",
              "    <tr>\n",
              "      <th>Ridden horse</th>\n",
              "      <td>0</td>\n",
              "    </tr>\n",
              "  </tbody>\n",
              "</table>\n",
              "</div><br><label><b>dtype:</b> int64</label>"
            ]
          },
          "metadata": {},
          "execution_count": 28
        }
      ]
    },
    {
      "cell_type": "code",
      "source": [
        "# Snowing + high winds\n",
        "weatherandvehicle['Snowing + high winds'].sort_values(ascending = False)"
      ],
      "metadata": {
        "colab": {
          "base_uri": "https://localhost:8080/",
          "height": 647
        },
        "id": "jFL76GOUEOZx",
        "outputId": "4d9afd94-8872-4ac9-eb9b-af142bbc9d38"
      },
      "execution_count": 29,
      "outputs": [
        {
          "output_type": "execute_result",
          "data": {
            "text/plain": [
              "Vehicle_Type\n",
              "Car                                      677\n",
              "Van / Goods 3.5 tonnes mgw or under       48\n",
              "Motorcycle over 500cc                     33\n",
              "Bus or coach (17 or more pass seats)      32\n",
              "Goods 7.5 tonnes mgw and over             28\n",
              "Taxi/Private hire car                     20\n",
              "Motorcycle 125cc and under                16\n",
              "Motorcycle over 125cc and up to 500cc     10\n",
              "Motorcycle 50cc and under                  6\n",
              "Goods over 3.5t. and under 7.5t            6\n",
              "Other vehicle                              4\n",
              "Agricultural vehicle                       3\n",
              "Minibus (8 - 16 passenger seats)           2\n",
              "Data missing or out of range               0\n",
              "Ridden horse                               0\n",
              "Pedal cycle                                0\n",
              "Name: Number_of_Casualties, dtype: int64"
            ],
            "text/html": [
              "<div>\n",
              "<style scoped>\n",
              "    .dataframe tbody tr th:only-of-type {\n",
              "        vertical-align: middle;\n",
              "    }\n",
              "\n",
              "    .dataframe tbody tr th {\n",
              "        vertical-align: top;\n",
              "    }\n",
              "\n",
              "    .dataframe thead th {\n",
              "        text-align: right;\n",
              "    }\n",
              "</style>\n",
              "<table border=\"1\" class=\"dataframe\">\n",
              "  <thead>\n",
              "    <tr style=\"text-align: right;\">\n",
              "      <th></th>\n",
              "      <th>Number_of_Casualties</th>\n",
              "    </tr>\n",
              "    <tr>\n",
              "      <th>Vehicle_Type</th>\n",
              "      <th></th>\n",
              "    </tr>\n",
              "  </thead>\n",
              "  <tbody>\n",
              "    <tr>\n",
              "      <th>Car</th>\n",
              "      <td>677</td>\n",
              "    </tr>\n",
              "    <tr>\n",
              "      <th>Van / Goods 3.5 tonnes mgw or under</th>\n",
              "      <td>48</td>\n",
              "    </tr>\n",
              "    <tr>\n",
              "      <th>Motorcycle over 500cc</th>\n",
              "      <td>33</td>\n",
              "    </tr>\n",
              "    <tr>\n",
              "      <th>Bus or coach (17 or more pass seats)</th>\n",
              "      <td>32</td>\n",
              "    </tr>\n",
              "    <tr>\n",
              "      <th>Goods 7.5 tonnes mgw and over</th>\n",
              "      <td>28</td>\n",
              "    </tr>\n",
              "    <tr>\n",
              "      <th>Taxi/Private hire car</th>\n",
              "      <td>20</td>\n",
              "    </tr>\n",
              "    <tr>\n",
              "      <th>Motorcycle 125cc and under</th>\n",
              "      <td>16</td>\n",
              "    </tr>\n",
              "    <tr>\n",
              "      <th>Motorcycle over 125cc and up to 500cc</th>\n",
              "      <td>10</td>\n",
              "    </tr>\n",
              "    <tr>\n",
              "      <th>Motorcycle 50cc and under</th>\n",
              "      <td>6</td>\n",
              "    </tr>\n",
              "    <tr>\n",
              "      <th>Goods over 3.5t. and under 7.5t</th>\n",
              "      <td>6</td>\n",
              "    </tr>\n",
              "    <tr>\n",
              "      <th>Other vehicle</th>\n",
              "      <td>4</td>\n",
              "    </tr>\n",
              "    <tr>\n",
              "      <th>Agricultural vehicle</th>\n",
              "      <td>3</td>\n",
              "    </tr>\n",
              "    <tr>\n",
              "      <th>Minibus (8 - 16 passenger seats)</th>\n",
              "      <td>2</td>\n",
              "    </tr>\n",
              "    <tr>\n",
              "      <th>Data missing or out of range</th>\n",
              "      <td>0</td>\n",
              "    </tr>\n",
              "    <tr>\n",
              "      <th>Ridden horse</th>\n",
              "      <td>0</td>\n",
              "    </tr>\n",
              "    <tr>\n",
              "      <th>Pedal cycle</th>\n",
              "      <td>0</td>\n",
              "    </tr>\n",
              "  </tbody>\n",
              "</table>\n",
              "</div><br><label><b>dtype:</b> int64</label>"
            ]
          },
          "metadata": {},
          "execution_count": 29
        }
      ]
    },
    {
      "cell_type": "markdown",
      "source": [
        "<h1>Insight #2:</h1>\n",
        "<h5>Car consistently dominated the vehucle type per casualties. It remained as the number one cause of accident regardlessof the weather condition. Surprisingly, contrary to the popular belief that wet roads causes more accidents, the data shows that 500000 of the overall report occured on a dry weather."
      ],
      "metadata": {
        "id": "i3onz-hFEdj3"
      }
    },
    {
      "cell_type": "markdown",
      "source": [
        "<h1>Question #3: Which is the safest? Urban or Rural area. Determine if the Light condition and Road type of an area determine the number of casualties it  will record. </h1>"
      ],
      "metadata": {
        "id": "_3fvGZx0FniS"
      }
    },
    {
      "cell_type": "code",
      "source": [
        "uk.info()"
      ],
      "metadata": {
        "colab": {
          "base_uri": "https://localhost:8080/"
        },
        "id": "w4835CwzEXj8",
        "outputId": "4ba3e8bd-e6d0-465a-bf9b-90a00a2d8813"
      },
      "execution_count": 30,
      "outputs": [
        {
          "output_type": "stream",
          "name": "stdout",
          "text": [
            "<class 'pandas.core.frame.DataFrame'>\n",
            "RangeIndex: 660679 entries, 0 to 660678\n",
            "Data columns (total 14 columns):\n",
            " #   Column                   Non-Null Count   Dtype   \n",
            "---  ------                   --------------   -----   \n",
            " 0   Index                    660679 non-null  category\n",
            " 1   Accident_Severity        660679 non-null  category\n",
            " 2   Accident Date            660679 non-null  category\n",
            " 3   Latitude                 660679 non-null  float64 \n",
            " 4   Light_Conditions         660679 non-null  category\n",
            " 5   District Area            660679 non-null  category\n",
            " 6   Longitude                660679 non-null  float64 \n",
            " 7   Number_of_Casualties     660679 non-null  int64   \n",
            " 8   Number_of_Vehicles       660679 non-null  int64   \n",
            " 9   Road_Surface_Conditions  660679 non-null  category\n",
            " 10  Road_Type                660679 non-null  category\n",
            " 11  Urban_or_Rural_Area      660679 non-null  category\n",
            " 12  Weather_Conditions       660679 non-null  category\n",
            " 13  Vehicle_Type             660679 non-null  category\n",
            "dtypes: category(10), float64(2), int64(2)\n",
            "memory usage: 49.0 MB\n"
          ]
        }
      ]
    },
    {
      "cell_type": "code",
      "source": [
        "urbanorrural = uk.groupby(['Urban_or_Rural_Area','Light_Conditions','Road_Type'])['Number_of_Casualties'].count()"
      ],
      "metadata": {
        "id": "Mup-gFk4FL_V"
      },
      "execution_count": 31,
      "outputs": []
    },
    {
      "cell_type": "markdown",
      "source": [
        "<h3>Breakdown</h3>"
      ],
      "metadata": {
        "id": "IoR6vfXnHSH5"
      }
    },
    {
      "cell_type": "code",
      "source": [
        "# Rural\n",
        "urbanorrural['Rural']"
      ],
      "metadata": {
        "colab": {
          "base_uri": "https://localhost:8080/",
          "height": 944
        },
        "id": "l2ouirb7HJC7",
        "outputId": "6089eeed-e556-42c8-f201-36b5073bfe41"
      },
      "execution_count": 32,
      "outputs": [
        {
          "output_type": "execute_result",
          "data": {
            "text/plain": [
              "Light_Conditions             Road_Type         \n",
              "Darkness - lighting unknown  Dual carriageway         512\n",
              "                             One way street            15\n",
              "                             Roundabout               188\n",
              "                             Single carriageway      1702\n",
              "                             Slip road                 50\n",
              "Darkness - lights lit        Dual carriageway        6556\n",
              "                             One way street           182\n",
              "                             Roundabout              3026\n",
              "                             Single carriageway     14248\n",
              "                             Slip road                683\n",
              "Darkness - lights unlit      Dual carriageway         254\n",
              "                             One way street             6\n",
              "                             Roundabout                71\n",
              "                             Single carriageway       611\n",
              "                             Slip road                 19\n",
              "Darkness - no lighting       Dual carriageway        7019\n",
              "                             One way street            74\n",
              "                             Roundabout               172\n",
              "                             Single carriageway     27926\n",
              "                             Slip road                326\n",
              "Daylight                     Dual carriageway       34374\n",
              "                             One way street           916\n",
              "                             Roundabout             12088\n",
              "                             Single carriageway    124756\n",
              "                             Slip road               3216\n",
              "Name: Number_of_Casualties, dtype: int64"
            ],
            "text/html": [
              "<div>\n",
              "<style scoped>\n",
              "    .dataframe tbody tr th:only-of-type {\n",
              "        vertical-align: middle;\n",
              "    }\n",
              "\n",
              "    .dataframe tbody tr th {\n",
              "        vertical-align: top;\n",
              "    }\n",
              "\n",
              "    .dataframe thead th {\n",
              "        text-align: right;\n",
              "    }\n",
              "</style>\n",
              "<table border=\"1\" class=\"dataframe\">\n",
              "  <thead>\n",
              "    <tr style=\"text-align: right;\">\n",
              "      <th></th>\n",
              "      <th></th>\n",
              "      <th>Number_of_Casualties</th>\n",
              "    </tr>\n",
              "    <tr>\n",
              "      <th>Light_Conditions</th>\n",
              "      <th>Road_Type</th>\n",
              "      <th></th>\n",
              "    </tr>\n",
              "  </thead>\n",
              "  <tbody>\n",
              "    <tr>\n",
              "      <th rowspan=\"5\" valign=\"top\">Darkness - lighting unknown</th>\n",
              "      <th>Dual carriageway</th>\n",
              "      <td>512</td>\n",
              "    </tr>\n",
              "    <tr>\n",
              "      <th>One way street</th>\n",
              "      <td>15</td>\n",
              "    </tr>\n",
              "    <tr>\n",
              "      <th>Roundabout</th>\n",
              "      <td>188</td>\n",
              "    </tr>\n",
              "    <tr>\n",
              "      <th>Single carriageway</th>\n",
              "      <td>1702</td>\n",
              "    </tr>\n",
              "    <tr>\n",
              "      <th>Slip road</th>\n",
              "      <td>50</td>\n",
              "    </tr>\n",
              "    <tr>\n",
              "      <th rowspan=\"5\" valign=\"top\">Darkness - lights lit</th>\n",
              "      <th>Dual carriageway</th>\n",
              "      <td>6556</td>\n",
              "    </tr>\n",
              "    <tr>\n",
              "      <th>One way street</th>\n",
              "      <td>182</td>\n",
              "    </tr>\n",
              "    <tr>\n",
              "      <th>Roundabout</th>\n",
              "      <td>3026</td>\n",
              "    </tr>\n",
              "    <tr>\n",
              "      <th>Single carriageway</th>\n",
              "      <td>14248</td>\n",
              "    </tr>\n",
              "    <tr>\n",
              "      <th>Slip road</th>\n",
              "      <td>683</td>\n",
              "    </tr>\n",
              "    <tr>\n",
              "      <th rowspan=\"5\" valign=\"top\">Darkness - lights unlit</th>\n",
              "      <th>Dual carriageway</th>\n",
              "      <td>254</td>\n",
              "    </tr>\n",
              "    <tr>\n",
              "      <th>One way street</th>\n",
              "      <td>6</td>\n",
              "    </tr>\n",
              "    <tr>\n",
              "      <th>Roundabout</th>\n",
              "      <td>71</td>\n",
              "    </tr>\n",
              "    <tr>\n",
              "      <th>Single carriageway</th>\n",
              "      <td>611</td>\n",
              "    </tr>\n",
              "    <tr>\n",
              "      <th>Slip road</th>\n",
              "      <td>19</td>\n",
              "    </tr>\n",
              "    <tr>\n",
              "      <th rowspan=\"5\" valign=\"top\">Darkness - no lighting</th>\n",
              "      <th>Dual carriageway</th>\n",
              "      <td>7019</td>\n",
              "    </tr>\n",
              "    <tr>\n",
              "      <th>One way street</th>\n",
              "      <td>74</td>\n",
              "    </tr>\n",
              "    <tr>\n",
              "      <th>Roundabout</th>\n",
              "      <td>172</td>\n",
              "    </tr>\n",
              "    <tr>\n",
              "      <th>Single carriageway</th>\n",
              "      <td>27926</td>\n",
              "    </tr>\n",
              "    <tr>\n",
              "      <th>Slip road</th>\n",
              "      <td>326</td>\n",
              "    </tr>\n",
              "    <tr>\n",
              "      <th rowspan=\"5\" valign=\"top\">Daylight</th>\n",
              "      <th>Dual carriageway</th>\n",
              "      <td>34374</td>\n",
              "    </tr>\n",
              "    <tr>\n",
              "      <th>One way street</th>\n",
              "      <td>916</td>\n",
              "    </tr>\n",
              "    <tr>\n",
              "      <th>Roundabout</th>\n",
              "      <td>12088</td>\n",
              "    </tr>\n",
              "    <tr>\n",
              "      <th>Single carriageway</th>\n",
              "      <td>124756</td>\n",
              "    </tr>\n",
              "    <tr>\n",
              "      <th>Slip road</th>\n",
              "      <td>3216</td>\n",
              "    </tr>\n",
              "  </tbody>\n",
              "</table>\n",
              "</div><br><label><b>dtype:</b> int64</label>"
            ]
          },
          "metadata": {},
          "execution_count": 32
        }
      ]
    },
    {
      "cell_type": "code",
      "source": [
        "urbanorrural['Urban']"
      ],
      "metadata": {
        "colab": {
          "base_uri": "https://localhost:8080/",
          "height": 944
        },
        "id": "wFiHwOsFHdMk",
        "outputId": "91a68380-3d30-4799-b291-67967e58eeb6"
      },
      "execution_count": 33,
      "outputs": [
        {
          "output_type": "execute_result",
          "data": {
            "text/plain": [
              "Light_Conditions             Road_Type         \n",
              "Darkness - lighting unknown  Dual carriageway         393\n",
              "                             One way street           109\n",
              "                             Roundabout               282\n",
              "                             Single carriageway      3197\n",
              "                             Slip road                 36\n",
              "Darkness - lights lit        Dual carriageway       13686\n",
              "                             One way street          3128\n",
              "                             Roundabout              7501\n",
              "                             Single carriageway     79691\n",
              "                             Slip road                632\n",
              "Darkness - lights unlit      Dual carriageway         211\n",
              "                             One way street            52\n",
              "                             Roundabout               118\n",
              "                             Single carriageway      1186\n",
              "                             Slip road                 15\n",
              "Darkness - no lighting       Dual carriageway         441\n",
              "                             One way street            29\n",
              "                             Roundabout                52\n",
              "                             Single carriageway      1367\n",
              "                             Slip road                 31\n",
              "Daylight                     Dual carriageway       35977\n",
              "                             One way street          9048\n",
              "                             Roundabout             20493\n",
              "                             Single carriageway    241970\n",
              "                             Slip road               2033\n",
              "Name: Number_of_Casualties, dtype: int64"
            ],
            "text/html": [
              "<div>\n",
              "<style scoped>\n",
              "    .dataframe tbody tr th:only-of-type {\n",
              "        vertical-align: middle;\n",
              "    }\n",
              "\n",
              "    .dataframe tbody tr th {\n",
              "        vertical-align: top;\n",
              "    }\n",
              "\n",
              "    .dataframe thead th {\n",
              "        text-align: right;\n",
              "    }\n",
              "</style>\n",
              "<table border=\"1\" class=\"dataframe\">\n",
              "  <thead>\n",
              "    <tr style=\"text-align: right;\">\n",
              "      <th></th>\n",
              "      <th></th>\n",
              "      <th>Number_of_Casualties</th>\n",
              "    </tr>\n",
              "    <tr>\n",
              "      <th>Light_Conditions</th>\n",
              "      <th>Road_Type</th>\n",
              "      <th></th>\n",
              "    </tr>\n",
              "  </thead>\n",
              "  <tbody>\n",
              "    <tr>\n",
              "      <th rowspan=\"5\" valign=\"top\">Darkness - lighting unknown</th>\n",
              "      <th>Dual carriageway</th>\n",
              "      <td>393</td>\n",
              "    </tr>\n",
              "    <tr>\n",
              "      <th>One way street</th>\n",
              "      <td>109</td>\n",
              "    </tr>\n",
              "    <tr>\n",
              "      <th>Roundabout</th>\n",
              "      <td>282</td>\n",
              "    </tr>\n",
              "    <tr>\n",
              "      <th>Single carriageway</th>\n",
              "      <td>3197</td>\n",
              "    </tr>\n",
              "    <tr>\n",
              "      <th>Slip road</th>\n",
              "      <td>36</td>\n",
              "    </tr>\n",
              "    <tr>\n",
              "      <th rowspan=\"5\" valign=\"top\">Darkness - lights lit</th>\n",
              "      <th>Dual carriageway</th>\n",
              "      <td>13686</td>\n",
              "    </tr>\n",
              "    <tr>\n",
              "      <th>One way street</th>\n",
              "      <td>3128</td>\n",
              "    </tr>\n",
              "    <tr>\n",
              "      <th>Roundabout</th>\n",
              "      <td>7501</td>\n",
              "    </tr>\n",
              "    <tr>\n",
              "      <th>Single carriageway</th>\n",
              "      <td>79691</td>\n",
              "    </tr>\n",
              "    <tr>\n",
              "      <th>Slip road</th>\n",
              "      <td>632</td>\n",
              "    </tr>\n",
              "    <tr>\n",
              "      <th rowspan=\"5\" valign=\"top\">Darkness - lights unlit</th>\n",
              "      <th>Dual carriageway</th>\n",
              "      <td>211</td>\n",
              "    </tr>\n",
              "    <tr>\n",
              "      <th>One way street</th>\n",
              "      <td>52</td>\n",
              "    </tr>\n",
              "    <tr>\n",
              "      <th>Roundabout</th>\n",
              "      <td>118</td>\n",
              "    </tr>\n",
              "    <tr>\n",
              "      <th>Single carriageway</th>\n",
              "      <td>1186</td>\n",
              "    </tr>\n",
              "    <tr>\n",
              "      <th>Slip road</th>\n",
              "      <td>15</td>\n",
              "    </tr>\n",
              "    <tr>\n",
              "      <th rowspan=\"5\" valign=\"top\">Darkness - no lighting</th>\n",
              "      <th>Dual carriageway</th>\n",
              "      <td>441</td>\n",
              "    </tr>\n",
              "    <tr>\n",
              "      <th>One way street</th>\n",
              "      <td>29</td>\n",
              "    </tr>\n",
              "    <tr>\n",
              "      <th>Roundabout</th>\n",
              "      <td>52</td>\n",
              "    </tr>\n",
              "    <tr>\n",
              "      <th>Single carriageway</th>\n",
              "      <td>1367</td>\n",
              "    </tr>\n",
              "    <tr>\n",
              "      <th>Slip road</th>\n",
              "      <td>31</td>\n",
              "    </tr>\n",
              "    <tr>\n",
              "      <th rowspan=\"5\" valign=\"top\">Daylight</th>\n",
              "      <th>Dual carriageway</th>\n",
              "      <td>35977</td>\n",
              "    </tr>\n",
              "    <tr>\n",
              "      <th>One way street</th>\n",
              "      <td>9048</td>\n",
              "    </tr>\n",
              "    <tr>\n",
              "      <th>Roundabout</th>\n",
              "      <td>20493</td>\n",
              "    </tr>\n",
              "    <tr>\n",
              "      <th>Single carriageway</th>\n",
              "      <td>241970</td>\n",
              "    </tr>\n",
              "    <tr>\n",
              "      <th>Slip road</th>\n",
              "      <td>2033</td>\n",
              "    </tr>\n",
              "  </tbody>\n",
              "</table>\n",
              "</div><br><label><b>dtype:</b> int64</label>"
            ]
          },
          "metadata": {},
          "execution_count": 33
        }
      ]
    },
    {
      "cell_type": "code",
      "source": [
        "# Checking if Rural recorded more number of casualties than Urban\n",
        "(urbanorrural['Rural'] > urbanorrural['Urban']).value_counts()"
      ],
      "metadata": {
        "colab": {
          "base_uri": "https://localhost:8080/",
          "height": 185
        },
        "id": "FTOmv-hrIASo",
        "outputId": "f02c1e03-b188-42eb-a0c4-5713cff91f48"
      },
      "execution_count": 34,
      "outputs": [
        {
          "output_type": "execute_result",
          "data": {
            "text/plain": [
              "Number_of_Casualties\n",
              "False    14\n",
              "True     11\n",
              "Name: count, dtype: int64"
            ],
            "text/html": [
              "<div>\n",
              "<style scoped>\n",
              "    .dataframe tbody tr th:only-of-type {\n",
              "        vertical-align: middle;\n",
              "    }\n",
              "\n",
              "    .dataframe tbody tr th {\n",
              "        vertical-align: top;\n",
              "    }\n",
              "\n",
              "    .dataframe thead th {\n",
              "        text-align: right;\n",
              "    }\n",
              "</style>\n",
              "<table border=\"1\" class=\"dataframe\">\n",
              "  <thead>\n",
              "    <tr style=\"text-align: right;\">\n",
              "      <th></th>\n",
              "      <th>count</th>\n",
              "    </tr>\n",
              "    <tr>\n",
              "      <th>Number_of_Casualties</th>\n",
              "      <th></th>\n",
              "    </tr>\n",
              "  </thead>\n",
              "  <tbody>\n",
              "    <tr>\n",
              "      <th>False</th>\n",
              "      <td>14</td>\n",
              "    </tr>\n",
              "    <tr>\n",
              "      <th>True</th>\n",
              "      <td>11</td>\n",
              "    </tr>\n",
              "  </tbody>\n",
              "</table>\n",
              "</div><br><label><b>dtype:</b> int64</label>"
            ]
          },
          "metadata": {},
          "execution_count": 34
        }
      ]
    },
    {
      "cell_type": "markdown",
      "source": [
        "<p>We could say here that rural is safer than Urban, but we still need to compare the number of casualties each have</p>"
      ],
      "metadata": {
        "id": "SvIPj3abIz37"
      }
    },
    {
      "cell_type": "code",
      "source": [
        "urbanorrural['Rural'].sum()"
      ],
      "metadata": {
        "id": "4DHQydzkIHdZ",
        "colab": {
          "base_uri": "https://localhost:8080/"
        },
        "outputId": "1a2aa12a-2b0a-47e1-d834-9348bde9a158"
      },
      "execution_count": 35,
      "outputs": [
        {
          "output_type": "execute_result",
          "data": {
            "text/plain": [
              "np.int64(238990)"
            ]
          },
          "metadata": {},
          "execution_count": 35
        }
      ]
    },
    {
      "cell_type": "code",
      "source": [
        "urbanorrural['Urban'].sum()"
      ],
      "metadata": {
        "colab": {
          "base_uri": "https://localhost:8080/"
        },
        "id": "GAbifu2mJOSM",
        "outputId": "84f1b762-cb2c-4edd-9e06-03e2e809ab0b"
      },
      "execution_count": 36,
      "outputs": [
        {
          "output_type": "execute_result",
          "data": {
            "text/plain": [
              "np.int64(421678)"
            ]
          },
          "metadata": {},
          "execution_count": 36
        }
      ]
    },
    {
      "cell_type": "markdown",
      "source": [
        "<p>Now, let's determine which Road Type and Light condition from each area recorded the highest number of casualties"
      ],
      "metadata": {
        "id": "RcZpIPhMJUUf"
      }
    },
    {
      "cell_type": "code",
      "source": [
        "urbanorrural['Rural'].sort_values(ascending=False).head(n=5)"
      ],
      "metadata": {
        "colab": {
          "base_uri": "https://localhost:8080/",
          "height": 284
        },
        "id": "MrSZ4mFWJReN",
        "outputId": "08e0b8c4-9f12-45bb-b727-5ee609e2bccc"
      },
      "execution_count": 37,
      "outputs": [
        {
          "output_type": "execute_result",
          "data": {
            "text/plain": [
              "Light_Conditions        Road_Type         \n",
              "Daylight                Single carriageway    124756\n",
              "                        Dual carriageway       34374\n",
              "Darkness - no lighting  Single carriageway     27926\n",
              "Darkness - lights lit   Single carriageway     14248\n",
              "Daylight                Roundabout             12088\n",
              "Name: Number_of_Casualties, dtype: int64"
            ],
            "text/html": [
              "<div>\n",
              "<style scoped>\n",
              "    .dataframe tbody tr th:only-of-type {\n",
              "        vertical-align: middle;\n",
              "    }\n",
              "\n",
              "    .dataframe tbody tr th {\n",
              "        vertical-align: top;\n",
              "    }\n",
              "\n",
              "    .dataframe thead th {\n",
              "        text-align: right;\n",
              "    }\n",
              "</style>\n",
              "<table border=\"1\" class=\"dataframe\">\n",
              "  <thead>\n",
              "    <tr style=\"text-align: right;\">\n",
              "      <th></th>\n",
              "      <th></th>\n",
              "      <th>Number_of_Casualties</th>\n",
              "    </tr>\n",
              "    <tr>\n",
              "      <th>Light_Conditions</th>\n",
              "      <th>Road_Type</th>\n",
              "      <th></th>\n",
              "    </tr>\n",
              "  </thead>\n",
              "  <tbody>\n",
              "    <tr>\n",
              "      <th rowspan=\"2\" valign=\"top\">Daylight</th>\n",
              "      <th>Single carriageway</th>\n",
              "      <td>124756</td>\n",
              "    </tr>\n",
              "    <tr>\n",
              "      <th>Dual carriageway</th>\n",
              "      <td>34374</td>\n",
              "    </tr>\n",
              "    <tr>\n",
              "      <th>Darkness - no lighting</th>\n",
              "      <th>Single carriageway</th>\n",
              "      <td>27926</td>\n",
              "    </tr>\n",
              "    <tr>\n",
              "      <th>Darkness - lights lit</th>\n",
              "      <th>Single carriageway</th>\n",
              "      <td>14248</td>\n",
              "    </tr>\n",
              "    <tr>\n",
              "      <th>Daylight</th>\n",
              "      <th>Roundabout</th>\n",
              "      <td>12088</td>\n",
              "    </tr>\n",
              "  </tbody>\n",
              "</table>\n",
              "</div><br><label><b>dtype:</b> int64</label>"
            ]
          },
          "metadata": {},
          "execution_count": 37
        }
      ]
    },
    {
      "cell_type": "code",
      "source": [
        "urbanorrural['Urban'].sort_values(ascending=False).head(n=5)"
      ],
      "metadata": {
        "colab": {
          "base_uri": "https://localhost:8080/",
          "height": 284
        },
        "id": "6Tu9lnsRKD98",
        "outputId": "9d98f945-5f5d-4e29-8d66-b2e4d00d3755"
      },
      "execution_count": 38,
      "outputs": [
        {
          "output_type": "execute_result",
          "data": {
            "text/plain": [
              "Light_Conditions       Road_Type         \n",
              "Daylight               Single carriageway    241970\n",
              "Darkness - lights lit  Single carriageway     79691\n",
              "Daylight               Dual carriageway       35977\n",
              "                       Roundabout             20493\n",
              "Darkness - lights lit  Dual carriageway       13686\n",
              "Name: Number_of_Casualties, dtype: int64"
            ],
            "text/html": [
              "<div>\n",
              "<style scoped>\n",
              "    .dataframe tbody tr th:only-of-type {\n",
              "        vertical-align: middle;\n",
              "    }\n",
              "\n",
              "    .dataframe tbody tr th {\n",
              "        vertical-align: top;\n",
              "    }\n",
              "\n",
              "    .dataframe thead th {\n",
              "        text-align: right;\n",
              "    }\n",
              "</style>\n",
              "<table border=\"1\" class=\"dataframe\">\n",
              "  <thead>\n",
              "    <tr style=\"text-align: right;\">\n",
              "      <th></th>\n",
              "      <th></th>\n",
              "      <th>Number_of_Casualties</th>\n",
              "    </tr>\n",
              "    <tr>\n",
              "      <th>Light_Conditions</th>\n",
              "      <th>Road_Type</th>\n",
              "      <th></th>\n",
              "    </tr>\n",
              "  </thead>\n",
              "  <tbody>\n",
              "    <tr>\n",
              "      <th>Daylight</th>\n",
              "      <th>Single carriageway</th>\n",
              "      <td>241970</td>\n",
              "    </tr>\n",
              "    <tr>\n",
              "      <th>Darkness - lights lit</th>\n",
              "      <th>Single carriageway</th>\n",
              "      <td>79691</td>\n",
              "    </tr>\n",
              "    <tr>\n",
              "      <th rowspan=\"2\" valign=\"top\">Daylight</th>\n",
              "      <th>Dual carriageway</th>\n",
              "      <td>35977</td>\n",
              "    </tr>\n",
              "    <tr>\n",
              "      <th>Roundabout</th>\n",
              "      <td>20493</td>\n",
              "    </tr>\n",
              "    <tr>\n",
              "      <th>Darkness - lights lit</th>\n",
              "      <th>Dual carriageway</th>\n",
              "      <td>13686</td>\n",
              "    </tr>\n",
              "  </tbody>\n",
              "</table>\n",
              "</div><br><label><b>dtype:</b> int64</label>"
            ]
          },
          "metadata": {},
          "execution_count": 38
        }
      ]
    },
    {
      "cell_type": "markdown",
      "source": [
        "<h1>Insight #3:</h1>\n",
        "<p>Daylight recorded the highest number of casualties, this would mean that drivers were more careful at night that they don't take extra car during daytime. Also, single carriageway road types recorded the highest number of casualties"
      ],
      "metadata": {
        "id": "DKtYfwfHKW3d"
      }
    },
    {
      "cell_type": "markdown",
      "source": [
        "<h1>Question #4: Traffic is one of the main source of accidents, determine which district areas recorded an accident involving more than 5 cars</h1>"
      ],
      "metadata": {
        "id": "6A8M8A1MLU1O"
      }
    },
    {
      "cell_type": "code",
      "source": [
        "more_than_5 = uk[uk['Number_of_Casualties'] > 5]\n",
        "uk.groupby(more_than_5['District Area'])['Number_of_Casualties'].count().sort_values(ascending=False)"
      ],
      "metadata": {
        "colab": {
          "base_uri": "https://localhost:8080/",
          "height": 512
        },
        "id": "R1tZ0Q44MR_X",
        "outputId": "9c99d3bf-b7e7-4526-d58c-5fd33debf23e"
      },
      "execution_count": 39,
      "outputs": [
        {
          "output_type": "execute_result",
          "data": {
            "text/plain": [
              "District Area\n",
              "Birmingham             70\n",
              "Bradford               59\n",
              "Liverpool              59\n",
              "Leeds                  48\n",
              "Manchester             43\n",
              "                       ..\n",
              "Bracknell Forest        0\n",
              "Berwick-upon-Tweed      0\n",
              "Bexley                  0\n",
              "Wellingborough          0\n",
              "West Dunbartonshire     0\n",
              "Name: Number_of_Casualties, Length: 422, dtype: int64"
            ],
            "text/html": [
              "<div>\n",
              "<style scoped>\n",
              "    .dataframe tbody tr th:only-of-type {\n",
              "        vertical-align: middle;\n",
              "    }\n",
              "\n",
              "    .dataframe tbody tr th {\n",
              "        vertical-align: top;\n",
              "    }\n",
              "\n",
              "    .dataframe thead th {\n",
              "        text-align: right;\n",
              "    }\n",
              "</style>\n",
              "<table border=\"1\" class=\"dataframe\">\n",
              "  <thead>\n",
              "    <tr style=\"text-align: right;\">\n",
              "      <th></th>\n",
              "      <th>Number_of_Casualties</th>\n",
              "    </tr>\n",
              "    <tr>\n",
              "      <th>District Area</th>\n",
              "      <th></th>\n",
              "    </tr>\n",
              "  </thead>\n",
              "  <tbody>\n",
              "    <tr>\n",
              "      <th>Birmingham</th>\n",
              "      <td>70</td>\n",
              "    </tr>\n",
              "    <tr>\n",
              "      <th>Bradford</th>\n",
              "      <td>59</td>\n",
              "    </tr>\n",
              "    <tr>\n",
              "      <th>Liverpool</th>\n",
              "      <td>59</td>\n",
              "    </tr>\n",
              "    <tr>\n",
              "      <th>Leeds</th>\n",
              "      <td>48</td>\n",
              "    </tr>\n",
              "    <tr>\n",
              "      <th>Manchester</th>\n",
              "      <td>43</td>\n",
              "    </tr>\n",
              "    <tr>\n",
              "      <th>...</th>\n",
              "      <td>...</td>\n",
              "    </tr>\n",
              "    <tr>\n",
              "      <th>Bracknell Forest</th>\n",
              "      <td>0</td>\n",
              "    </tr>\n",
              "    <tr>\n",
              "      <th>Berwick-upon-Tweed</th>\n",
              "      <td>0</td>\n",
              "    </tr>\n",
              "    <tr>\n",
              "      <th>Bexley</th>\n",
              "      <td>0</td>\n",
              "    </tr>\n",
              "    <tr>\n",
              "      <th>Wellingborough</th>\n",
              "      <td>0</td>\n",
              "    </tr>\n",
              "    <tr>\n",
              "      <th>West Dunbartonshire</th>\n",
              "      <td>0</td>\n",
              "    </tr>\n",
              "  </tbody>\n",
              "</table>\n",
              "<p>422 rows × 1 columns</p>\n",
              "</div><br><label><b>dtype:</b> int64</label>"
            ]
          },
          "metadata": {},
          "execution_count": 39
        }
      ]
    },
    {
      "cell_type": "markdown",
      "source": [
        "<h1>Insight #4:</h1>\n",
        "<p>Birmingham District recorded 70 casualties involving more than 5 cars</p>"
      ],
      "metadata": {
        "id": "QJboqSCBOPRM"
      }
    },
    {
      "cell_type": "markdown",
      "source": [
        "<h1>Question #5: Since Birminham District has the highest number of casualties involving more than 5 cars, determine what type of road surface condition they have.</h1>"
      ],
      "metadata": {
        "id": "pAdP_d4oOro6"
      }
    },
    {
      "cell_type": "code",
      "source": [
        "birmingham = uk[uk['District Area'] == 'Birmingham']\n",
        "birmingham_road_surface = birmingham[birmingham['Number_of_Casualties'] > 5]['Road_Surface_Conditions']\n",
        "birmingham_road_surface.value_counts()"
      ],
      "metadata": {
        "colab": {
          "base_uri": "https://localhost:8080/",
          "height": 284
        },
        "id": "zPAMItcvMXq5",
        "outputId": "3a898782-2bd1-4fc9-e8f9-4777526a42d0"
      },
      "execution_count": 46,
      "outputs": [
        {
          "output_type": "execute_result",
          "data": {
            "text/plain": [
              "Road_Surface_Conditions\n",
              "Dry                     48\n",
              "Wet or damp             20\n",
              "Frost or ice             1\n",
              "Snow                     1\n",
              "Flood over 3cm. deep     0\n",
              "Name: count, dtype: int64"
            ],
            "text/html": [
              "<div>\n",
              "<style scoped>\n",
              "    .dataframe tbody tr th:only-of-type {\n",
              "        vertical-align: middle;\n",
              "    }\n",
              "\n",
              "    .dataframe tbody tr th {\n",
              "        vertical-align: top;\n",
              "    }\n",
              "\n",
              "    .dataframe thead th {\n",
              "        text-align: right;\n",
              "    }\n",
              "</style>\n",
              "<table border=\"1\" class=\"dataframe\">\n",
              "  <thead>\n",
              "    <tr style=\"text-align: right;\">\n",
              "      <th></th>\n",
              "      <th>count</th>\n",
              "    </tr>\n",
              "    <tr>\n",
              "      <th>Road_Surface_Conditions</th>\n",
              "      <th></th>\n",
              "    </tr>\n",
              "  </thead>\n",
              "  <tbody>\n",
              "    <tr>\n",
              "      <th>Dry</th>\n",
              "      <td>48</td>\n",
              "    </tr>\n",
              "    <tr>\n",
              "      <th>Wet or damp</th>\n",
              "      <td>20</td>\n",
              "    </tr>\n",
              "    <tr>\n",
              "      <th>Frost or ice</th>\n",
              "      <td>1</td>\n",
              "    </tr>\n",
              "    <tr>\n",
              "      <th>Snow</th>\n",
              "      <td>1</td>\n",
              "    </tr>\n",
              "    <tr>\n",
              "      <th>Flood over 3cm. deep</th>\n",
              "      <td>0</td>\n",
              "    </tr>\n",
              "  </tbody>\n",
              "</table>\n",
              "</div><br><label><b>dtype:</b> int64</label>"
            ]
          },
          "metadata": {},
          "execution_count": 46
        }
      ]
    },
    {
      "cell_type": "markdown",
      "source": [
        "<h1>Insight #5:</h1>\n",
        "<p>Strengthening the conclusion that we had earlier wet surface is not the main source of accident</p>"
      ],
      "metadata": {
        "id": "9RiM_FFvPQKt"
      }
    },
    {
      "cell_type": "markdown",
      "source": [
        "<h1>Question #6: Which district are have the highest number of fatal accidents</h1>"
      ],
      "metadata": {
        "id": "YJ7MUjh3VJ19"
      }
    },
    {
      "cell_type": "code",
      "source": [
        "Fatal_per_district = uk[uk['Accident_Severity'] == 'Fatal']['District Area'].value_counts()"
      ],
      "metadata": {
        "id": "YfjomHT3WVQy"
      },
      "execution_count": 50,
      "outputs": []
    },
    {
      "cell_type": "code",
      "source": [
        "Fatal_per_district.sort_values(ascending=False).head(n=10)"
      ],
      "metadata": {
        "colab": {
          "base_uri": "https://localhost:8080/",
          "height": 449
        },
        "id": "iQ4ZDTWXWwg2",
        "outputId": "96b22792-32ae-4de7-80b8-545f0b44d371"
      },
      "execution_count": 52,
      "outputs": [
        {
          "output_type": "execute_result",
          "data": {
            "text/plain": [
              "District Area\n",
              "Birmingham                  105\n",
              "Leeds                        93\n",
              "Highland                     88\n",
              "East Riding of Yorkshire     85\n",
              "Bradford                     71\n",
              "Aberdeenshire                66\n",
              "Powys                        59\n",
              "Doncaster                    56\n",
              "Wakefield                    56\n",
              "Herefordshire, County of     51\n",
              "Name: count, dtype: int64"
            ],
            "text/html": [
              "<div>\n",
              "<style scoped>\n",
              "    .dataframe tbody tr th:only-of-type {\n",
              "        vertical-align: middle;\n",
              "    }\n",
              "\n",
              "    .dataframe tbody tr th {\n",
              "        vertical-align: top;\n",
              "    }\n",
              "\n",
              "    .dataframe thead th {\n",
              "        text-align: right;\n",
              "    }\n",
              "</style>\n",
              "<table border=\"1\" class=\"dataframe\">\n",
              "  <thead>\n",
              "    <tr style=\"text-align: right;\">\n",
              "      <th></th>\n",
              "      <th>count</th>\n",
              "    </tr>\n",
              "    <tr>\n",
              "      <th>District Area</th>\n",
              "      <th></th>\n",
              "    </tr>\n",
              "  </thead>\n",
              "  <tbody>\n",
              "    <tr>\n",
              "      <th>Birmingham</th>\n",
              "      <td>105</td>\n",
              "    </tr>\n",
              "    <tr>\n",
              "      <th>Leeds</th>\n",
              "      <td>93</td>\n",
              "    </tr>\n",
              "    <tr>\n",
              "      <th>Highland</th>\n",
              "      <td>88</td>\n",
              "    </tr>\n",
              "    <tr>\n",
              "      <th>East Riding of Yorkshire</th>\n",
              "      <td>85</td>\n",
              "    </tr>\n",
              "    <tr>\n",
              "      <th>Bradford</th>\n",
              "      <td>71</td>\n",
              "    </tr>\n",
              "    <tr>\n",
              "      <th>Aberdeenshire</th>\n",
              "      <td>66</td>\n",
              "    </tr>\n",
              "    <tr>\n",
              "      <th>Powys</th>\n",
              "      <td>59</td>\n",
              "    </tr>\n",
              "    <tr>\n",
              "      <th>Doncaster</th>\n",
              "      <td>56</td>\n",
              "    </tr>\n",
              "    <tr>\n",
              "      <th>Wakefield</th>\n",
              "      <td>56</td>\n",
              "    </tr>\n",
              "    <tr>\n",
              "      <th>Herefordshire, County of</th>\n",
              "      <td>51</td>\n",
              "    </tr>\n",
              "  </tbody>\n",
              "</table>\n",
              "</div><br><label><b>dtype:</b> int64</label>"
            ]
          },
          "metadata": {},
          "execution_count": 52
        }
      ]
    },
    {
      "cell_type": "markdown",
      "source": [
        "<h1>Insight #6:</h1>\n",
        "<p>Birmingham district have the highest number of Fatal accidents</p>"
      ],
      "metadata": {
        "id": "_AdEGS2AW9_Z"
      }
    },
    {
      "cell_type": "markdown",
      "source": [
        "<h1>Question #7: What is the common vehicle types involved in Fatal Accidents?</h1>"
      ],
      "metadata": {
        "id": "qudx-Wz8XNn1"
      }
    },
    {
      "cell_type": "code",
      "source": [
        "Vehicle_fatal = uk[uk['Accident_Severity'] == 'Fatal']['Vehicle_Type'].value_counts()"
      ],
      "metadata": {
        "id": "hrSMB0tuWz3N"
      },
      "execution_count": 53,
      "outputs": []
    },
    {
      "cell_type": "code",
      "source": [
        "Vehicle_fatal.sort_values(ascending=False).head(n=10)"
      ],
      "metadata": {
        "colab": {
          "base_uri": "https://localhost:8080/",
          "height": 449
        },
        "id": "3J3D6q4zXirq",
        "outputId": "2397d773-1232-49bb-ee35-6cf508ead24c"
      },
      "execution_count": 54,
      "outputs": [
        {
          "output_type": "execute_result",
          "data": {
            "text/plain": [
              "Vehicle_Type\n",
              "Car                                      6577\n",
              "Van / Goods 3.5 tonnes mgw or under       467\n",
              "Motorcycle over 500cc                     339\n",
              "Bus or coach (17 or more pass seats)      325\n",
              "Goods 7.5 tonnes mgw and over             216\n",
              "Motorcycle 125cc and under                189\n",
              "Taxi/Private hire car                     155\n",
              "Motorcycle over 125cc and up to 500cc     105\n",
              "Motorcycle 50cc and under                  95\n",
              "Other vehicle                              70\n",
              "Name: count, dtype: int64"
            ],
            "text/html": [
              "<div>\n",
              "<style scoped>\n",
              "    .dataframe tbody tr th:only-of-type {\n",
              "        vertical-align: middle;\n",
              "    }\n",
              "\n",
              "    .dataframe tbody tr th {\n",
              "        vertical-align: top;\n",
              "    }\n",
              "\n",
              "    .dataframe thead th {\n",
              "        text-align: right;\n",
              "    }\n",
              "</style>\n",
              "<table border=\"1\" class=\"dataframe\">\n",
              "  <thead>\n",
              "    <tr style=\"text-align: right;\">\n",
              "      <th></th>\n",
              "      <th>count</th>\n",
              "    </tr>\n",
              "    <tr>\n",
              "      <th>Vehicle_Type</th>\n",
              "      <th></th>\n",
              "    </tr>\n",
              "  </thead>\n",
              "  <tbody>\n",
              "    <tr>\n",
              "      <th>Car</th>\n",
              "      <td>6577</td>\n",
              "    </tr>\n",
              "    <tr>\n",
              "      <th>Van / Goods 3.5 tonnes mgw or under</th>\n",
              "      <td>467</td>\n",
              "    </tr>\n",
              "    <tr>\n",
              "      <th>Motorcycle over 500cc</th>\n",
              "      <td>339</td>\n",
              "    </tr>\n",
              "    <tr>\n",
              "      <th>Bus or coach (17 or more pass seats)</th>\n",
              "      <td>325</td>\n",
              "    </tr>\n",
              "    <tr>\n",
              "      <th>Goods 7.5 tonnes mgw and over</th>\n",
              "      <td>216</td>\n",
              "    </tr>\n",
              "    <tr>\n",
              "      <th>Motorcycle 125cc and under</th>\n",
              "      <td>189</td>\n",
              "    </tr>\n",
              "    <tr>\n",
              "      <th>Taxi/Private hire car</th>\n",
              "      <td>155</td>\n",
              "    </tr>\n",
              "    <tr>\n",
              "      <th>Motorcycle over 125cc and up to 500cc</th>\n",
              "      <td>105</td>\n",
              "    </tr>\n",
              "    <tr>\n",
              "      <th>Motorcycle 50cc and under</th>\n",
              "      <td>95</td>\n",
              "    </tr>\n",
              "    <tr>\n",
              "      <th>Other vehicle</th>\n",
              "      <td>70</td>\n",
              "    </tr>\n",
              "  </tbody>\n",
              "</table>\n",
              "</div><br><label><b>dtype:</b> int64</label>"
            ]
          },
          "metadata": {},
          "execution_count": 54
        }
      ]
    },
    {
      "cell_type": "markdown",
      "source": [
        "<h1>Insight #7:</h1>\n",
        "<p>Car remains the number one vehicle involved on fatal accidents</p>"
      ],
      "metadata": {
        "id": "EuK6Iwq5XoMu"
      }
    },
    {
      "cell_type": "markdown",
      "source": [
        "<h1>Question #8: Is there a relationship between latitude and longitude and the number of casualties?</h1>"
      ],
      "metadata": {
        "id": "e-dVuSmFX5JQ"
      }
    },
    {
      "cell_type": "code",
      "source": [
        "uk['Number_of_Casualties'].corr(uk['Latitude'])"
      ],
      "metadata": {
        "colab": {
          "base_uri": "https://localhost:8080/"
        },
        "id": "olAesOceYQH0",
        "outputId": "e76588eb-8630-4f09-be87-20da47d8278e"
      },
      "execution_count": 62,
      "outputs": [
        {
          "output_type": "execute_result",
          "data": {
            "text/plain": [
              "np.float64(0.03220068662590627)"
            ]
          },
          "metadata": {},
          "execution_count": 62
        }
      ]
    },
    {
      "cell_type": "code",
      "source": [
        "uk['Number_of_Casualties'].corr(uk['Longitude'])"
      ],
      "metadata": {
        "colab": {
          "base_uri": "https://localhost:8080/"
        },
        "id": "_oMo5JwhY31y",
        "outputId": "69d2476b-9d34-45e4-df83-5d06010aacb0"
      },
      "execution_count": 63,
      "outputs": [
        {
          "output_type": "execute_result",
          "data": {
            "text/plain": [
              "np.float64(-0.04040564578845446)"
            ]
          },
          "metadata": {},
          "execution_count": 63
        }
      ]
    },
    {
      "cell_type": "markdown",
      "source": [
        "<h1>Insight #8:</h1>\n",
        "<p>There's no relation between longitude, latitude, and number of casualties</p>"
      ],
      "metadata": {
        "id": "h6OSqviBZDHt"
      }
    },
    {
      "cell_type": "markdown",
      "source": [
        "<h1>Question #9: Is there a correlation between the number of vehicles involved had the number of casualties</h1>"
      ],
      "metadata": {
        "id": "IbzoRu5HZ3Uw"
      }
    },
    {
      "cell_type": "code",
      "source": [
        "uk['Number_of_Casualties'].corr(uk['Number_of_Vehicles'])"
      ],
      "metadata": {
        "colab": {
          "base_uri": "https://localhost:8080/"
        },
        "id": "_IBfFoj6ZA6A",
        "outputId": "75db6ebd-024a-4da1-dd58-a5a3eb4c5350"
      },
      "execution_count": 64,
      "outputs": [
        {
          "output_type": "execute_result",
          "data": {
            "text/plain": [
              "np.float64(0.22888886126927635)"
            ]
          },
          "metadata": {},
          "execution_count": 64
        }
      ]
    },
    {
      "cell_type": "markdown",
      "source": [
        "<h1>Insight #9: No, there is no correlation between Number of vehicles involved and the number of casualties</h1>"
      ],
      "metadata": {
        "id": "hwQqgpF8aWNJ"
      }
    },
    {
      "cell_type": "markdown",
      "source": [
        "<h1>Question #10: Which road surface conditions are prevalent during serious accidents?</h1>"
      ],
      "metadata": {
        "id": "SWD9wZwQajJ-"
      }
    },
    {
      "cell_type": "code",
      "source": [
        "serious_accident = uk[uk['Accident_Severity'] == 'Serious']\n",
        "surface_condition_serious = serious_accident['Road_Surface_Conditions'].value_counts()\n",
        "surface_condition_serious.sort_values(ascending=False)"
      ],
      "metadata": {
        "colab": {
          "base_uri": "https://localhost:8080/",
          "height": 284
        },
        "id": "mNJa_Y13asjx",
        "outputId": "cfa7b29e-feb7-4028-ed70-efbea79b9de7"
      },
      "execution_count": 70,
      "outputs": [
        {
          "output_type": "execute_result",
          "data": {
            "text/plain": [
              "Road_Surface_Conditions\n",
              "Dry                     61708\n",
              "Wet or damp             23785\n",
              "Frost or ice             2007\n",
              "Snow                      565\n",
              "Flood over 3cm. deep      152\n",
              "Name: count, dtype: int64"
            ],
            "text/html": [
              "<div>\n",
              "<style scoped>\n",
              "    .dataframe tbody tr th:only-of-type {\n",
              "        vertical-align: middle;\n",
              "    }\n",
              "\n",
              "    .dataframe tbody tr th {\n",
              "        vertical-align: top;\n",
              "    }\n",
              "\n",
              "    .dataframe thead th {\n",
              "        text-align: right;\n",
              "    }\n",
              "</style>\n",
              "<table border=\"1\" class=\"dataframe\">\n",
              "  <thead>\n",
              "    <tr style=\"text-align: right;\">\n",
              "      <th></th>\n",
              "      <th>count</th>\n",
              "    </tr>\n",
              "    <tr>\n",
              "      <th>Road_Surface_Conditions</th>\n",
              "      <th></th>\n",
              "    </tr>\n",
              "  </thead>\n",
              "  <tbody>\n",
              "    <tr>\n",
              "      <th>Dry</th>\n",
              "      <td>61708</td>\n",
              "    </tr>\n",
              "    <tr>\n",
              "      <th>Wet or damp</th>\n",
              "      <td>23785</td>\n",
              "    </tr>\n",
              "    <tr>\n",
              "      <th>Frost or ice</th>\n",
              "      <td>2007</td>\n",
              "    </tr>\n",
              "    <tr>\n",
              "      <th>Snow</th>\n",
              "      <td>565</td>\n",
              "    </tr>\n",
              "    <tr>\n",
              "      <th>Flood over 3cm. deep</th>\n",
              "      <td>152</td>\n",
              "    </tr>\n",
              "  </tbody>\n",
              "</table>\n",
              "</div><br><label><b>dtype:</b> int64</label>"
            ]
          },
          "metadata": {},
          "execution_count": 70
        }
      ]
    },
    {
      "cell_type": "markdown",
      "source": [
        "<h1>Insight #10:</h1>\n",
        "<p>Dry surface are prevalent during serious accidents</h1>"
      ],
      "metadata": {
        "id": "upwk8w4FbQHE"
      }
    },
    {
      "cell_type": "markdown",
      "source": [
        "<h1>Insight #11: What are the most common combinations of weather conditions and light conditions during accidents?</h1>"
      ],
      "metadata": {
        "id": "D04fccncbkI_"
      }
    },
    {
      "cell_type": "code",
      "source": [
        "weather_and_light = uk.groupby(['Weather_Conditions','Light_Conditions'])['Number_of_Casualties'].count()\n",
        "weather_and_light.sort_values(ascending=False).head(n=10)"
      ],
      "metadata": {
        "colab": {
          "base_uri": "https://localhost:8080/",
          "height": 449
        },
        "id": "ufIDuNDgbnYQ",
        "outputId": "f42fb2e9-dc5a-4678-b918-ae26b40298da"
      },
      "execution_count": 73,
      "outputs": [
        {
          "output_type": "execute_result",
          "data": {
            "text/plain": [
              "Weather_Conditions     Light_Conditions           \n",
              "Fine no high winds     Daylight                       408726\n",
              "                       Darkness - lights lit           93958\n",
              "Raining no high winds  Daylight                        49742\n",
              "Fine no high winds     Darkness - no lighting          25251\n",
              "Raining no high winds  Darkness - lights lit           22666\n",
              "Other                  Daylight                        10103\n",
              "Raining no high winds  Darkness - no lighting           6208\n",
              "Fine + high winds      Daylight                         5796\n",
              "Fine no high winds     Darkness - lighting unknown      5333\n",
              "Raining + high winds   Daylight                         4942\n",
              "Name: Number_of_Casualties, dtype: int64"
            ],
            "text/html": [
              "<div>\n",
              "<style scoped>\n",
              "    .dataframe tbody tr th:only-of-type {\n",
              "        vertical-align: middle;\n",
              "    }\n",
              "\n",
              "    .dataframe tbody tr th {\n",
              "        vertical-align: top;\n",
              "    }\n",
              "\n",
              "    .dataframe thead th {\n",
              "        text-align: right;\n",
              "    }\n",
              "</style>\n",
              "<table border=\"1\" class=\"dataframe\">\n",
              "  <thead>\n",
              "    <tr style=\"text-align: right;\">\n",
              "      <th></th>\n",
              "      <th></th>\n",
              "      <th>Number_of_Casualties</th>\n",
              "    </tr>\n",
              "    <tr>\n",
              "      <th>Weather_Conditions</th>\n",
              "      <th>Light_Conditions</th>\n",
              "      <th></th>\n",
              "    </tr>\n",
              "  </thead>\n",
              "  <tbody>\n",
              "    <tr>\n",
              "      <th rowspan=\"2\" valign=\"top\">Fine no high winds</th>\n",
              "      <th>Daylight</th>\n",
              "      <td>408726</td>\n",
              "    </tr>\n",
              "    <tr>\n",
              "      <th>Darkness - lights lit</th>\n",
              "      <td>93958</td>\n",
              "    </tr>\n",
              "    <tr>\n",
              "      <th>Raining no high winds</th>\n",
              "      <th>Daylight</th>\n",
              "      <td>49742</td>\n",
              "    </tr>\n",
              "    <tr>\n",
              "      <th>Fine no high winds</th>\n",
              "      <th>Darkness - no lighting</th>\n",
              "      <td>25251</td>\n",
              "    </tr>\n",
              "    <tr>\n",
              "      <th>Raining no high winds</th>\n",
              "      <th>Darkness - lights lit</th>\n",
              "      <td>22666</td>\n",
              "    </tr>\n",
              "    <tr>\n",
              "      <th>Other</th>\n",
              "      <th>Daylight</th>\n",
              "      <td>10103</td>\n",
              "    </tr>\n",
              "    <tr>\n",
              "      <th>Raining no high winds</th>\n",
              "      <th>Darkness - no lighting</th>\n",
              "      <td>6208</td>\n",
              "    </tr>\n",
              "    <tr>\n",
              "      <th>Fine + high winds</th>\n",
              "      <th>Daylight</th>\n",
              "      <td>5796</td>\n",
              "    </tr>\n",
              "    <tr>\n",
              "      <th>Fine no high winds</th>\n",
              "      <th>Darkness - lighting unknown</th>\n",
              "      <td>5333</td>\n",
              "    </tr>\n",
              "    <tr>\n",
              "      <th>Raining + high winds</th>\n",
              "      <th>Daylight</th>\n",
              "      <td>4942</td>\n",
              "    </tr>\n",
              "  </tbody>\n",
              "</table>\n",
              "</div><br><label><b>dtype:</b> int64</label>"
            ]
          },
          "metadata": {},
          "execution_count": 73
        }
      ]
    },
    {
      "cell_type": "markdown",
      "source": [
        "<h1>Insight #11:</h1>\n",
        "<p>Fine no high winds and daylight are most common combination if weather and light conditions during accidents</p>"
      ],
      "metadata": {
        "id": "yKHZg7rwcIg5"
      }
    },
    {
      "cell_type": "markdown",
      "source": [
        "<h1>Question #12: What are the most frequent 'Vehicle_Type' involved in accidents under 'Darkness - lights lit' conditions?</h1>"
      ],
      "metadata": {
        "id": "eC1A26gydckx"
      }
    },
    {
      "cell_type": "code",
      "source": [
        "darkness_lights_lit = uk[uk['Light_Conditions'] == 'Darkness - lights lit']\n",
        "darkness_lights_lit['Vehicle_Type'].value_counts()"
      ],
      "metadata": {
        "colab": {
          "base_uri": "https://localhost:8080/",
          "height": 647
        },
        "id": "q4XaWEGRdvwB",
        "outputId": "3f742eef-24db-488e-da22-c8c17e77e9ac"
      },
      "execution_count": 74,
      "outputs": [
        {
          "output_type": "execute_result",
          "data": {
            "text/plain": [
              "Vehicle_Type\n",
              "Car                                      96994\n",
              "Van / Goods 3.5 tonnes mgw or under       6806\n",
              "Motorcycle over 500cc                     5176\n",
              "Bus or coach (17 or more pass seats)      5142\n",
              "Goods 7.5 tonnes mgw and over             3440\n",
              "Motorcycle 125cc and under                3074\n",
              "Taxi/Private hire car                     2658\n",
              "Motorcycle 50cc and under                 1494\n",
              "Motorcycle over 125cc and up to 500cc     1480\n",
              "Goods over 3.5t. and under 7.5t           1192\n",
              "Other vehicle                             1126\n",
              "Agricultural vehicle                       365\n",
              "Minibus (8 - 16 passenger seats)           347\n",
              "Pedal cycle                                 39\n",
              "Data missing or out of range                 1\n",
              "Ridden horse                                 1\n",
              "Name: count, dtype: int64"
            ],
            "text/html": [
              "<div>\n",
              "<style scoped>\n",
              "    .dataframe tbody tr th:only-of-type {\n",
              "        vertical-align: middle;\n",
              "    }\n",
              "\n",
              "    .dataframe tbody tr th {\n",
              "        vertical-align: top;\n",
              "    }\n",
              "\n",
              "    .dataframe thead th {\n",
              "        text-align: right;\n",
              "    }\n",
              "</style>\n",
              "<table border=\"1\" class=\"dataframe\">\n",
              "  <thead>\n",
              "    <tr style=\"text-align: right;\">\n",
              "      <th></th>\n",
              "      <th>count</th>\n",
              "    </tr>\n",
              "    <tr>\n",
              "      <th>Vehicle_Type</th>\n",
              "      <th></th>\n",
              "    </tr>\n",
              "  </thead>\n",
              "  <tbody>\n",
              "    <tr>\n",
              "      <th>Car</th>\n",
              "      <td>96994</td>\n",
              "    </tr>\n",
              "    <tr>\n",
              "      <th>Van / Goods 3.5 tonnes mgw or under</th>\n",
              "      <td>6806</td>\n",
              "    </tr>\n",
              "    <tr>\n",
              "      <th>Motorcycle over 500cc</th>\n",
              "      <td>5176</td>\n",
              "    </tr>\n",
              "    <tr>\n",
              "      <th>Bus or coach (17 or more pass seats)</th>\n",
              "      <td>5142</td>\n",
              "    </tr>\n",
              "    <tr>\n",
              "      <th>Goods 7.5 tonnes mgw and over</th>\n",
              "      <td>3440</td>\n",
              "    </tr>\n",
              "    <tr>\n",
              "      <th>Motorcycle 125cc and under</th>\n",
              "      <td>3074</td>\n",
              "    </tr>\n",
              "    <tr>\n",
              "      <th>Taxi/Private hire car</th>\n",
              "      <td>2658</td>\n",
              "    </tr>\n",
              "    <tr>\n",
              "      <th>Motorcycle 50cc and under</th>\n",
              "      <td>1494</td>\n",
              "    </tr>\n",
              "    <tr>\n",
              "      <th>Motorcycle over 125cc and up to 500cc</th>\n",
              "      <td>1480</td>\n",
              "    </tr>\n",
              "    <tr>\n",
              "      <th>Goods over 3.5t. and under 7.5t</th>\n",
              "      <td>1192</td>\n",
              "    </tr>\n",
              "    <tr>\n",
              "      <th>Other vehicle</th>\n",
              "      <td>1126</td>\n",
              "    </tr>\n",
              "    <tr>\n",
              "      <th>Agricultural vehicle</th>\n",
              "      <td>365</td>\n",
              "    </tr>\n",
              "    <tr>\n",
              "      <th>Minibus (8 - 16 passenger seats)</th>\n",
              "      <td>347</td>\n",
              "    </tr>\n",
              "    <tr>\n",
              "      <th>Pedal cycle</th>\n",
              "      <td>39</td>\n",
              "    </tr>\n",
              "    <tr>\n",
              "      <th>Data missing or out of range</th>\n",
              "      <td>1</td>\n",
              "    </tr>\n",
              "    <tr>\n",
              "      <th>Ridden horse</th>\n",
              "      <td>1</td>\n",
              "    </tr>\n",
              "  </tbody>\n",
              "</table>\n",
              "</div><br><label><b>dtype:</b> int64</label>"
            ]
          },
          "metadata": {},
          "execution_count": 74
        }
      ]
    },
    {
      "cell_type": "markdown",
      "source": [
        "<h1>Insight #12: </h1>\n",
        "<p>Car is the most common vehicle under Darkness - Lights lit condition</p>"
      ],
      "metadata": {
        "id": "58SvsfTKd5Bu"
      }
    }
  ],
  "metadata": {
    "colab": {
      "provenance": [],
      "mount_file_id": "1KJoAbGPQ0psI_GEvUTQzvZrI7d134hvi",
      "authorship_tag": "ABX9TyNOB44WJlo5Ak+xFWvaneYi"
    },
    "kernelspec": {
      "display_name": "Python 3",
      "name": "python3"
    },
    "language_info": {
      "name": "python"
    }
  },
  "nbformat": 4,
  "nbformat_minor": 0
}