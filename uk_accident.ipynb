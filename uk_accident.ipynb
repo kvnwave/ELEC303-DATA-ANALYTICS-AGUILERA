{
  "nbformat": 4,
  "nbformat_minor": 0,
  "metadata": {
    "colab": {
      "provenance": [],
      "authorship_tag": "ABX9TyOp1QbR4HrnkD1ZirGsPF6u"
    },
    "kernelspec": {
      "name": "python3",
      "display_name": "Python 3"
    },
    "language_info": {
      "name": "python"
    }
  },
  "cells": [
    {
      "cell_type": "markdown",
      "source": [
        "<h5>Importing libraries</h5>"
      ],
      "metadata": {
        "id": "P5y-1C4nyxcJ"
      }
    },
    {
      "cell_type": "code",
      "execution_count": null,
      "metadata": {
        "id": "Ph5G1IeorrQA"
      },
      "outputs": [],
      "source": [
        "import pandas as pd\n",
        "import numpy as np\n",
        "from scipy.stats import f_oneway\n",
        "import warnings\n",
        "warnings.filterwarnings('ignore')"
      ]
    },
    {
      "cell_type": "markdown",
      "source": [
        "<h3>Importing dataset and converting into column</h3>"
      ],
      "metadata": {
        "id": "1sEtlCHftcwk"
      }
    },
    {
      "cell_type": "code",
      "source": [
        "uk = pd.read_csv('datasets//uk_road_accident.csv')"
      ],
      "metadata": {
        "id": "RNAw7M8ytna1"
      },
      "execution_count": null,
      "outputs": []
    },
    {
      "cell_type": "code",
      "source": [
        "uk"
      ],
      "metadata": {
        "colab": {
          "base_uri": "https://localhost:8080/",
          "height": 711
        },
        "id": "WchSdvMwuBB8",
        "outputId": "a7bc7480-b21a-48e2-eb8d-bd99ed3a77b9"
      },
      "execution_count": null,
      "outputs": [
        {
          "output_type": "execute_result",
          "data": {
            "text/plain": [
              "                Index Accident_Severity Accident Date   Latitude  \\\n",
              "0       200701BS64157           Serious      5/6/2019  51.506187   \n",
              "1       200701BS65737           Serious      2/7/2019  51.495029   \n",
              "2       200701BS66127           Serious    26-08-2019  51.517715   \n",
              "3       200701BS66128           Serious    16-08-2019  51.495478   \n",
              "4       200701BS66837            Slight      3/9/2019  51.488576   \n",
              "...               ...               ...           ...        ...   \n",
              "660674  201091NM01760            Slight    18-02-2022  57.374005   \n",
              "660675  201091NM01881            Slight    21-02-2022  57.232273   \n",
              "660676  201091NM01935            Slight    23-02-2022  57.585044   \n",
              "660677  201091NM01964           Serious    23-02-2022  57.214898   \n",
              "660678  201091NM02142           Serious    28-02-2022  57.575210   \n",
              "\n",
              "                   Light_Conditions           District Area  Longitude  \\\n",
              "0             Darkness - lights lit  Kensington and Chelsea  -0.209082   \n",
              "1                          Daylight  Kensington and Chelsea  -0.173647   \n",
              "2       Darkness - lighting unknown  Kensington and Chelsea  -0.210215   \n",
              "3                          Daylight  Kensington and Chelsea  -0.202731   \n",
              "4             Darkness - lights lit  Kensington and Chelsea  -0.192487   \n",
              "...                             ...                     ...        ...   \n",
              "660674                     Daylight                Highland  -3.467828   \n",
              "660675       Darkness - no lighting                Highland  -3.809281   \n",
              "660676                     Daylight                Highland  -3.862727   \n",
              "660677       Darkness - no lighting                Highland  -3.823997   \n",
              "660678                     Daylight                Highland  -3.895673   \n",
              "\n",
              "        Number_of_Casualties  Number_of_Vehicles Road_Surface_Conditions  \\\n",
              "0                          1                   2                     Dry   \n",
              "1                          1                   2             Wet or damp   \n",
              "2                          1                   3                     Dry   \n",
              "3                          1                   4                     Dry   \n",
              "4                          1                   2                     Dry   \n",
              "...                      ...                 ...                     ...   \n",
              "660674                     2                   1                     Dry   \n",
              "660675                     1                   1            Frost or ice   \n",
              "660676                     1                   3            Frost or ice   \n",
              "660677                     1                   2             Wet or damp   \n",
              "660678                     1                   1             Wet or damp   \n",
              "\n",
              "                 Road_Type Urban_or_Rural_Area     Weather_Conditions  \\\n",
              "0       Single carriageway               Urban     Fine no high winds   \n",
              "1       Single carriageway               Urban  Raining no high winds   \n",
              "2                      NaN               Urban                    NaN   \n",
              "3       Single carriageway               Urban     Fine no high winds   \n",
              "4                      NaN               Urban                    NaN   \n",
              "...                    ...                 ...                    ...   \n",
              "660674  Single carriageway               Rural     Fine no high winds   \n",
              "660675  Single carriageway               Rural     Fine no high winds   \n",
              "660676  Single carriageway               Rural     Fine no high winds   \n",
              "660677  Single carriageway               Rural     Fine no high winds   \n",
              "660678    Dual carriageway               Rural  Snowing no high winds   \n",
              "\n",
              "                                Vehicle_Type  \n",
              "0                                        Car  \n",
              "1                                        Car  \n",
              "2                      Taxi/Private hire car  \n",
              "3       Bus or coach (17 or more pass seats)  \n",
              "4                              Other vehicle  \n",
              "...                                      ...  \n",
              "660674                                   Car  \n",
              "660675                                   Car  \n",
              "660676                                   Car  \n",
              "660677                 Motorcycle over 500cc  \n",
              "660678                                   Car  \n",
              "\n",
              "[660679 rows x 14 columns]"
            ],
            "text/html": [
              "\n",
              "  <div id=\"df-9e774e82-f941-4833-bbc6-25c65966d8cd\" class=\"colab-df-container\">\n",
              "    <div>\n",
              "<style scoped>\n",
              "    .dataframe tbody tr th:only-of-type {\n",
              "        vertical-align: middle;\n",
              "    }\n",
              "\n",
              "    .dataframe tbody tr th {\n",
              "        vertical-align: top;\n",
              "    }\n",
              "\n",
              "    .dataframe thead th {\n",
              "        text-align: right;\n",
              "    }\n",
              "</style>\n",
              "<table border=\"1\" class=\"dataframe\">\n",
              "  <thead>\n",
              "    <tr style=\"text-align: right;\">\n",
              "      <th></th>\n",
              "      <th>Index</th>\n",
              "      <th>Accident_Severity</th>\n",
              "      <th>Accident Date</th>\n",
              "      <th>Latitude</th>\n",
              "      <th>Light_Conditions</th>\n",
              "      <th>District Area</th>\n",
              "      <th>Longitude</th>\n",
              "      <th>Number_of_Casualties</th>\n",
              "      <th>Number_of_Vehicles</th>\n",
              "      <th>Road_Surface_Conditions</th>\n",
              "      <th>Road_Type</th>\n",
              "      <th>Urban_or_Rural_Area</th>\n",
              "      <th>Weather_Conditions</th>\n",
              "      <th>Vehicle_Type</th>\n",
              "    </tr>\n",
              "  </thead>\n",
              "  <tbody>\n",
              "    <tr>\n",
              "      <th>0</th>\n",
              "      <td>200701BS64157</td>\n",
              "      <td>Serious</td>\n",
              "      <td>5/6/2019</td>\n",
              "      <td>51.506187</td>\n",
              "      <td>Darkness - lights lit</td>\n",
              "      <td>Kensington and Chelsea</td>\n",
              "      <td>-0.209082</td>\n",
              "      <td>1</td>\n",
              "      <td>2</td>\n",
              "      <td>Dry</td>\n",
              "      <td>Single carriageway</td>\n",
              "      <td>Urban</td>\n",
              "      <td>Fine no high winds</td>\n",
              "      <td>Car</td>\n",
              "    </tr>\n",
              "    <tr>\n",
              "      <th>1</th>\n",
              "      <td>200701BS65737</td>\n",
              "      <td>Serious</td>\n",
              "      <td>2/7/2019</td>\n",
              "      <td>51.495029</td>\n",
              "      <td>Daylight</td>\n",
              "      <td>Kensington and Chelsea</td>\n",
              "      <td>-0.173647</td>\n",
              "      <td>1</td>\n",
              "      <td>2</td>\n",
              "      <td>Wet or damp</td>\n",
              "      <td>Single carriageway</td>\n",
              "      <td>Urban</td>\n",
              "      <td>Raining no high winds</td>\n",
              "      <td>Car</td>\n",
              "    </tr>\n",
              "    <tr>\n",
              "      <th>2</th>\n",
              "      <td>200701BS66127</td>\n",
              "      <td>Serious</td>\n",
              "      <td>26-08-2019</td>\n",
              "      <td>51.517715</td>\n",
              "      <td>Darkness - lighting unknown</td>\n",
              "      <td>Kensington and Chelsea</td>\n",
              "      <td>-0.210215</td>\n",
              "      <td>1</td>\n",
              "      <td>3</td>\n",
              "      <td>Dry</td>\n",
              "      <td>NaN</td>\n",
              "      <td>Urban</td>\n",
              "      <td>NaN</td>\n",
              "      <td>Taxi/Private hire car</td>\n",
              "    </tr>\n",
              "    <tr>\n",
              "      <th>3</th>\n",
              "      <td>200701BS66128</td>\n",
              "      <td>Serious</td>\n",
              "      <td>16-08-2019</td>\n",
              "      <td>51.495478</td>\n",
              "      <td>Daylight</td>\n",
              "      <td>Kensington and Chelsea</td>\n",
              "      <td>-0.202731</td>\n",
              "      <td>1</td>\n",
              "      <td>4</td>\n",
              "      <td>Dry</td>\n",
              "      <td>Single carriageway</td>\n",
              "      <td>Urban</td>\n",
              "      <td>Fine no high winds</td>\n",
              "      <td>Bus or coach (17 or more pass seats)</td>\n",
              "    </tr>\n",
              "    <tr>\n",
              "      <th>4</th>\n",
              "      <td>200701BS66837</td>\n",
              "      <td>Slight</td>\n",
              "      <td>3/9/2019</td>\n",
              "      <td>51.488576</td>\n",
              "      <td>Darkness - lights lit</td>\n",
              "      <td>Kensington and Chelsea</td>\n",
              "      <td>-0.192487</td>\n",
              "      <td>1</td>\n",
              "      <td>2</td>\n",
              "      <td>Dry</td>\n",
              "      <td>NaN</td>\n",
              "      <td>Urban</td>\n",
              "      <td>NaN</td>\n",
              "      <td>Other vehicle</td>\n",
              "    </tr>\n",
              "    <tr>\n",
              "      <th>...</th>\n",
              "      <td>...</td>\n",
              "      <td>...</td>\n",
              "      <td>...</td>\n",
              "      <td>...</td>\n",
              "      <td>...</td>\n",
              "      <td>...</td>\n",
              "      <td>...</td>\n",
              "      <td>...</td>\n",
              "      <td>...</td>\n",
              "      <td>...</td>\n",
              "      <td>...</td>\n",
              "      <td>...</td>\n",
              "      <td>...</td>\n",
              "      <td>...</td>\n",
              "    </tr>\n",
              "    <tr>\n",
              "      <th>660674</th>\n",
              "      <td>201091NM01760</td>\n",
              "      <td>Slight</td>\n",
              "      <td>18-02-2022</td>\n",
              "      <td>57.374005</td>\n",
              "      <td>Daylight</td>\n",
              "      <td>Highland</td>\n",
              "      <td>-3.467828</td>\n",
              "      <td>2</td>\n",
              "      <td>1</td>\n",
              "      <td>Dry</td>\n",
              "      <td>Single carriageway</td>\n",
              "      <td>Rural</td>\n",
              "      <td>Fine no high winds</td>\n",
              "      <td>Car</td>\n",
              "    </tr>\n",
              "    <tr>\n",
              "      <th>660675</th>\n",
              "      <td>201091NM01881</td>\n",
              "      <td>Slight</td>\n",
              "      <td>21-02-2022</td>\n",
              "      <td>57.232273</td>\n",
              "      <td>Darkness - no lighting</td>\n",
              "      <td>Highland</td>\n",
              "      <td>-3.809281</td>\n",
              "      <td>1</td>\n",
              "      <td>1</td>\n",
              "      <td>Frost or ice</td>\n",
              "      <td>Single carriageway</td>\n",
              "      <td>Rural</td>\n",
              "      <td>Fine no high winds</td>\n",
              "      <td>Car</td>\n",
              "    </tr>\n",
              "    <tr>\n",
              "      <th>660676</th>\n",
              "      <td>201091NM01935</td>\n",
              "      <td>Slight</td>\n",
              "      <td>23-02-2022</td>\n",
              "      <td>57.585044</td>\n",
              "      <td>Daylight</td>\n",
              "      <td>Highland</td>\n",
              "      <td>-3.862727</td>\n",
              "      <td>1</td>\n",
              "      <td>3</td>\n",
              "      <td>Frost or ice</td>\n",
              "      <td>Single carriageway</td>\n",
              "      <td>Rural</td>\n",
              "      <td>Fine no high winds</td>\n",
              "      <td>Car</td>\n",
              "    </tr>\n",
              "    <tr>\n",
              "      <th>660677</th>\n",
              "      <td>201091NM01964</td>\n",
              "      <td>Serious</td>\n",
              "      <td>23-02-2022</td>\n",
              "      <td>57.214898</td>\n",
              "      <td>Darkness - no lighting</td>\n",
              "      <td>Highland</td>\n",
              "      <td>-3.823997</td>\n",
              "      <td>1</td>\n",
              "      <td>2</td>\n",
              "      <td>Wet or damp</td>\n",
              "      <td>Single carriageway</td>\n",
              "      <td>Rural</td>\n",
              "      <td>Fine no high winds</td>\n",
              "      <td>Motorcycle over 500cc</td>\n",
              "    </tr>\n",
              "    <tr>\n",
              "      <th>660678</th>\n",
              "      <td>201091NM02142</td>\n",
              "      <td>Serious</td>\n",
              "      <td>28-02-2022</td>\n",
              "      <td>57.575210</td>\n",
              "      <td>Daylight</td>\n",
              "      <td>Highland</td>\n",
              "      <td>-3.895673</td>\n",
              "      <td>1</td>\n",
              "      <td>1</td>\n",
              "      <td>Wet or damp</td>\n",
              "      <td>Dual carriageway</td>\n",
              "      <td>Rural</td>\n",
              "      <td>Snowing no high winds</td>\n",
              "      <td>Car</td>\n",
              "    </tr>\n",
              "  </tbody>\n",
              "</table>\n",
              "<p>660679 rows × 14 columns</p>\n",
              "</div>\n",
              "    <div class=\"colab-df-buttons\">\n",
              "\n",
              "  <div class=\"colab-df-container\">\n",
              "    <button class=\"colab-df-convert\" onclick=\"convertToInteractive('df-9e774e82-f941-4833-bbc6-25c65966d8cd')\"\n",
              "            title=\"Convert this dataframe to an interactive table.\"\n",
              "            style=\"display:none;\">\n",
              "\n",
              "  <svg xmlns=\"http://www.w3.org/2000/svg\" height=\"24px\" viewBox=\"0 -960 960 960\">\n",
              "    <path d=\"M120-120v-720h720v720H120Zm60-500h600v-160H180v160Zm220 220h160v-160H400v160Zm0 220h160v-160H400v160ZM180-400h160v-160H180v160Zm440 0h160v-160H620v160ZM180-180h160v-160H180v160Zm440 0h160v-160H620v160Z\"/>\n",
              "  </svg>\n",
              "    </button>\n",
              "\n",
              "  <style>\n",
              "    .colab-df-container {\n",
              "      display:flex;\n",
              "      gap: 12px;\n",
              "    }\n",
              "\n",
              "    .colab-df-convert {\n",
              "      background-color: #E8F0FE;\n",
              "      border: none;\n",
              "      border-radius: 50%;\n",
              "      cursor: pointer;\n",
              "      display: none;\n",
              "      fill: #1967D2;\n",
              "      height: 32px;\n",
              "      padding: 0 0 0 0;\n",
              "      width: 32px;\n",
              "    }\n",
              "\n",
              "    .colab-df-convert:hover {\n",
              "      background-color: #E2EBFA;\n",
              "      box-shadow: 0px 1px 2px rgba(60, 64, 67, 0.3), 0px 1px 3px 1px rgba(60, 64, 67, 0.15);\n",
              "      fill: #174EA6;\n",
              "    }\n",
              "\n",
              "    .colab-df-buttons div {\n",
              "      margin-bottom: 4px;\n",
              "    }\n",
              "\n",
              "    [theme=dark] .colab-df-convert {\n",
              "      background-color: #3B4455;\n",
              "      fill: #D2E3FC;\n",
              "    }\n",
              "\n",
              "    [theme=dark] .colab-df-convert:hover {\n",
              "      background-color: #434B5C;\n",
              "      box-shadow: 0px 1px 3px 1px rgba(0, 0, 0, 0.15);\n",
              "      filter: drop-shadow(0px 1px 2px rgba(0, 0, 0, 0.3));\n",
              "      fill: #FFFFFF;\n",
              "    }\n",
              "  </style>\n",
              "\n",
              "    <script>\n",
              "      const buttonEl =\n",
              "        document.querySelector('#df-9e774e82-f941-4833-bbc6-25c65966d8cd button.colab-df-convert');\n",
              "      buttonEl.style.display =\n",
              "        google.colab.kernel.accessAllowed ? 'block' : 'none';\n",
              "\n",
              "      async function convertToInteractive(key) {\n",
              "        const element = document.querySelector('#df-9e774e82-f941-4833-bbc6-25c65966d8cd');\n",
              "        const dataTable =\n",
              "          await google.colab.kernel.invokeFunction('convertToInteractive',\n",
              "                                                    [key], {});\n",
              "        if (!dataTable) return;\n",
              "\n",
              "        const docLinkHtml = 'Like what you see? Visit the ' +\n",
              "          '<a target=\"_blank\" href=https://colab.research.google.com/notebooks/data_table.ipynb>data table notebook</a>'\n",
              "          + ' to learn more about interactive tables.';\n",
              "        element.innerHTML = '';\n",
              "        dataTable['output_type'] = 'display_data';\n",
              "        await google.colab.output.renderOutput(dataTable, element);\n",
              "        const docLink = document.createElement('div');\n",
              "        docLink.innerHTML = docLinkHtml;\n",
              "        element.appendChild(docLink);\n",
              "      }\n",
              "    </script>\n",
              "  </div>\n",
              "\n",
              "\n",
              "    <div id=\"df-c2b328aa-4bfe-49f0-b50d-ff067a8165d2\">\n",
              "      <button class=\"colab-df-quickchart\" onclick=\"quickchart('df-c2b328aa-4bfe-49f0-b50d-ff067a8165d2')\"\n",
              "                title=\"Suggest charts\"\n",
              "                style=\"display:none;\">\n",
              "\n",
              "<svg xmlns=\"http://www.w3.org/2000/svg\" height=\"24px\"viewBox=\"0 0 24 24\"\n",
              "     width=\"24px\">\n",
              "    <g>\n",
              "        <path d=\"M19 3H5c-1.1 0-2 .9-2 2v14c0 1.1.9 2 2 2h14c1.1 0 2-.9 2-2V5c0-1.1-.9-2-2-2zM9 17H7v-7h2v7zm4 0h-2V7h2v10zm4 0h-2v-4h2v4z\"/>\n",
              "    </g>\n",
              "</svg>\n",
              "      </button>\n",
              "\n",
              "<style>\n",
              "  .colab-df-quickchart {\n",
              "      --bg-color: #E8F0FE;\n",
              "      --fill-color: #1967D2;\n",
              "      --hover-bg-color: #E2EBFA;\n",
              "      --hover-fill-color: #174EA6;\n",
              "      --disabled-fill-color: #AAA;\n",
              "      --disabled-bg-color: #DDD;\n",
              "  }\n",
              "\n",
              "  [theme=dark] .colab-df-quickchart {\n",
              "      --bg-color: #3B4455;\n",
              "      --fill-color: #D2E3FC;\n",
              "      --hover-bg-color: #434B5C;\n",
              "      --hover-fill-color: #FFFFFF;\n",
              "      --disabled-bg-color: #3B4455;\n",
              "      --disabled-fill-color: #666;\n",
              "  }\n",
              "\n",
              "  .colab-df-quickchart {\n",
              "    background-color: var(--bg-color);\n",
              "    border: none;\n",
              "    border-radius: 50%;\n",
              "    cursor: pointer;\n",
              "    display: none;\n",
              "    fill: var(--fill-color);\n",
              "    height: 32px;\n",
              "    padding: 0;\n",
              "    width: 32px;\n",
              "  }\n",
              "\n",
              "  .colab-df-quickchart:hover {\n",
              "    background-color: var(--hover-bg-color);\n",
              "    box-shadow: 0 1px 2px rgba(60, 64, 67, 0.3), 0 1px 3px 1px rgba(60, 64, 67, 0.15);\n",
              "    fill: var(--button-hover-fill-color);\n",
              "  }\n",
              "\n",
              "  .colab-df-quickchart-complete:disabled,\n",
              "  .colab-df-quickchart-complete:disabled:hover {\n",
              "    background-color: var(--disabled-bg-color);\n",
              "    fill: var(--disabled-fill-color);\n",
              "    box-shadow: none;\n",
              "  }\n",
              "\n",
              "  .colab-df-spinner {\n",
              "    border: 2px solid var(--fill-color);\n",
              "    border-color: transparent;\n",
              "    border-bottom-color: var(--fill-color);\n",
              "    animation:\n",
              "      spin 1s steps(1) infinite;\n",
              "  }\n",
              "\n",
              "  @keyframes spin {\n",
              "    0% {\n",
              "      border-color: transparent;\n",
              "      border-bottom-color: var(--fill-color);\n",
              "      border-left-color: var(--fill-color);\n",
              "    }\n",
              "    20% {\n",
              "      border-color: transparent;\n",
              "      border-left-color: var(--fill-color);\n",
              "      border-top-color: var(--fill-color);\n",
              "    }\n",
              "    30% {\n",
              "      border-color: transparent;\n",
              "      border-left-color: var(--fill-color);\n",
              "      border-top-color: var(--fill-color);\n",
              "      border-right-color: var(--fill-color);\n",
              "    }\n",
              "    40% {\n",
              "      border-color: transparent;\n",
              "      border-right-color: var(--fill-color);\n",
              "      border-top-color: var(--fill-color);\n",
              "    }\n",
              "    60% {\n",
              "      border-color: transparent;\n",
              "      border-right-color: var(--fill-color);\n",
              "    }\n",
              "    80% {\n",
              "      border-color: transparent;\n",
              "      border-right-color: var(--fill-color);\n",
              "      border-bottom-color: var(--fill-color);\n",
              "    }\n",
              "    90% {\n",
              "      border-color: transparent;\n",
              "      border-bottom-color: var(--fill-color);\n",
              "    }\n",
              "  }\n",
              "</style>\n",
              "\n",
              "      <script>\n",
              "        async function quickchart(key) {\n",
              "          const quickchartButtonEl =\n",
              "            document.querySelector('#' + key + ' button');\n",
              "          quickchartButtonEl.disabled = true;  // To prevent multiple clicks.\n",
              "          quickchartButtonEl.classList.add('colab-df-spinner');\n",
              "          try {\n",
              "            const charts = await google.colab.kernel.invokeFunction(\n",
              "                'suggestCharts', [key], {});\n",
              "          } catch (error) {\n",
              "            console.error('Error during call to suggestCharts:', error);\n",
              "          }\n",
              "          quickchartButtonEl.classList.remove('colab-df-spinner');\n",
              "          quickchartButtonEl.classList.add('colab-df-quickchart-complete');\n",
              "        }\n",
              "        (() => {\n",
              "          let quickchartButtonEl =\n",
              "            document.querySelector('#df-c2b328aa-4bfe-49f0-b50d-ff067a8165d2 button');\n",
              "          quickchartButtonEl.style.display =\n",
              "            google.colab.kernel.accessAllowed ? 'block' : 'none';\n",
              "        })();\n",
              "      </script>\n",
              "    </div>\n",
              "\n",
              "  <div id=\"id_a824b3a5-d880-4987-9233-5903b258a5d1\">\n",
              "    <style>\n",
              "      .colab-df-generate {\n",
              "        background-color: #E8F0FE;\n",
              "        border: none;\n",
              "        border-radius: 50%;\n",
              "        cursor: pointer;\n",
              "        display: none;\n",
              "        fill: #1967D2;\n",
              "        height: 32px;\n",
              "        padding: 0 0 0 0;\n",
              "        width: 32px;\n",
              "      }\n",
              "\n",
              "      .colab-df-generate:hover {\n",
              "        background-color: #E2EBFA;\n",
              "        box-shadow: 0px 1px 2px rgba(60, 64, 67, 0.3), 0px 1px 3px 1px rgba(60, 64, 67, 0.15);\n",
              "        fill: #174EA6;\n",
              "      }\n",
              "\n",
              "      [theme=dark] .colab-df-generate {\n",
              "        background-color: #3B4455;\n",
              "        fill: #D2E3FC;\n",
              "      }\n",
              "\n",
              "      [theme=dark] .colab-df-generate:hover {\n",
              "        background-color: #434B5C;\n",
              "        box-shadow: 0px 1px 3px 1px rgba(0, 0, 0, 0.15);\n",
              "        filter: drop-shadow(0px 1px 2px rgba(0, 0, 0, 0.3));\n",
              "        fill: #FFFFFF;\n",
              "      }\n",
              "    </style>\n",
              "    <button class=\"colab-df-generate\" onclick=\"generateWithVariable('uk')\"\n",
              "            title=\"Generate code using this dataframe.\"\n",
              "            style=\"display:none;\">\n",
              "\n",
              "  <svg xmlns=\"http://www.w3.org/2000/svg\" height=\"24px\"viewBox=\"0 0 24 24\"\n",
              "       width=\"24px\">\n",
              "    <path d=\"M7,19H8.4L18.45,9,17,7.55,7,17.6ZM5,21V16.75L18.45,3.32a2,2,0,0,1,2.83,0l1.4,1.43a1.91,1.91,0,0,1,.58,1.4,1.91,1.91,0,0,1-.58,1.4L9.25,21ZM18.45,9,17,7.55Zm-12,3A5.31,5.31,0,0,0,4.9,8.1,5.31,5.31,0,0,0,1,6.5,5.31,5.31,0,0,0,4.9,4.9,5.31,5.31,0,0,0,6.5,1,5.31,5.31,0,0,0,8.1,4.9,5.31,5.31,0,0,0,12,6.5,5.46,5.46,0,0,0,6.5,12Z\"/>\n",
              "  </svg>\n",
              "    </button>\n",
              "    <script>\n",
              "      (() => {\n",
              "      const buttonEl =\n",
              "        document.querySelector('#id_a824b3a5-d880-4987-9233-5903b258a5d1 button.colab-df-generate');\n",
              "      buttonEl.style.display =\n",
              "        google.colab.kernel.accessAllowed ? 'block' : 'none';\n",
              "\n",
              "      buttonEl.onclick = () => {\n",
              "        google.colab.notebook.generateWithVariable('uk');\n",
              "      }\n",
              "      })();\n",
              "    </script>\n",
              "  </div>\n",
              "\n",
              "    </div>\n",
              "  </div>\n"
            ],
            "application/vnd.google.colaboratory.intrinsic+json": {
              "type": "dataframe",
              "variable_name": "uk"
            }
          },
          "metadata": {},
          "execution_count": 14
        }
      ]
    },
    {
      "cell_type": "code",
      "source": [
        "uk.info()"
      ],
      "metadata": {
        "colab": {
          "base_uri": "https://localhost:8080/"
        },
        "id": "XzEpcvXKuQEB",
        "outputId": "de857b11-24ca-48dd-afc7-687614edd979"
      },
      "execution_count": null,
      "outputs": [
        {
          "output_type": "stream",
          "name": "stdout",
          "text": [
            "<class 'pandas.core.frame.DataFrame'>\n",
            "RangeIndex: 660679 entries, 0 to 660678\n",
            "Data columns (total 14 columns):\n",
            " #   Column                   Non-Null Count   Dtype  \n",
            "---  ------                   --------------   -----  \n",
            " 0   Index                    660679 non-null  object \n",
            " 1   Accident_Severity        660679 non-null  object \n",
            " 2   Accident Date            660679 non-null  object \n",
            " 3   Latitude                 660654 non-null  float64\n",
            " 4   Light_Conditions         660679 non-null  object \n",
            " 5   District Area            660679 non-null  object \n",
            " 6   Longitude                660653 non-null  float64\n",
            " 7   Number_of_Casualties     660679 non-null  int64  \n",
            " 8   Number_of_Vehicles       660679 non-null  int64  \n",
            " 9   Road_Surface_Conditions  659953 non-null  object \n",
            " 10  Road_Type                656159 non-null  object \n",
            " 11  Urban_or_Rural_Area      660664 non-null  object \n",
            " 12  Weather_Conditions       646551 non-null  object \n",
            " 13  Vehicle_Type             660679 non-null  object \n",
            "dtypes: float64(2), int64(2), object(10)\n",
            "memory usage: 70.6+ MB\n"
          ]
        }
      ]
    },
    {
      "cell_type": "markdown",
      "source": [
        "<h3>Changing the data types of the columns</h3>"
      ],
      "metadata": {
        "id": "G7RLvFkfuk-K"
      }
    },
    {
      "cell_type": "code",
      "source": [
        "uk.dtypes"
      ],
      "metadata": {
        "colab": {
          "base_uri": "https://localhost:8080/",
          "height": 517
        },
        "id": "5lM2-jY1uq35",
        "outputId": "66a6c1bb-01a9-4247-97e1-f2e3bd49deda"
      },
      "execution_count": null,
      "outputs": [
        {
          "output_type": "execute_result",
          "data": {
            "text/plain": [
              "Index                       object\n",
              "Accident_Severity           object\n",
              "Accident Date               object\n",
              "Latitude                   float64\n",
              "Light_Conditions            object\n",
              "District Area               object\n",
              "Longitude                  float64\n",
              "Number_of_Casualties         int64\n",
              "Number_of_Vehicles           int64\n",
              "Road_Surface_Conditions     object\n",
              "Road_Type                   object\n",
              "Urban_or_Rural_Area         object\n",
              "Weather_Conditions          object\n",
              "Vehicle_Type                object\n",
              "dtype: object"
            ],
            "text/html": [
              "<div>\n",
              "<style scoped>\n",
              "    .dataframe tbody tr th:only-of-type {\n",
              "        vertical-align: middle;\n",
              "    }\n",
              "\n",
              "    .dataframe tbody tr th {\n",
              "        vertical-align: top;\n",
              "    }\n",
              "\n",
              "    .dataframe thead th {\n",
              "        text-align: right;\n",
              "    }\n",
              "</style>\n",
              "<table border=\"1\" class=\"dataframe\">\n",
              "  <thead>\n",
              "    <tr style=\"text-align: right;\">\n",
              "      <th></th>\n",
              "      <th>0</th>\n",
              "    </tr>\n",
              "  </thead>\n",
              "  <tbody>\n",
              "    <tr>\n",
              "      <th>Index</th>\n",
              "      <td>object</td>\n",
              "    </tr>\n",
              "    <tr>\n",
              "      <th>Accident_Severity</th>\n",
              "      <td>object</td>\n",
              "    </tr>\n",
              "    <tr>\n",
              "      <th>Accident Date</th>\n",
              "      <td>object</td>\n",
              "    </tr>\n",
              "    <tr>\n",
              "      <th>Latitude</th>\n",
              "      <td>float64</td>\n",
              "    </tr>\n",
              "    <tr>\n",
              "      <th>Light_Conditions</th>\n",
              "      <td>object</td>\n",
              "    </tr>\n",
              "    <tr>\n",
              "      <th>District Area</th>\n",
              "      <td>object</td>\n",
              "    </tr>\n",
              "    <tr>\n",
              "      <th>Longitude</th>\n",
              "      <td>float64</td>\n",
              "    </tr>\n",
              "    <tr>\n",
              "      <th>Number_of_Casualties</th>\n",
              "      <td>int64</td>\n",
              "    </tr>\n",
              "    <tr>\n",
              "      <th>Number_of_Vehicles</th>\n",
              "      <td>int64</td>\n",
              "    </tr>\n",
              "    <tr>\n",
              "      <th>Road_Surface_Conditions</th>\n",
              "      <td>object</td>\n",
              "    </tr>\n",
              "    <tr>\n",
              "      <th>Road_Type</th>\n",
              "      <td>object</td>\n",
              "    </tr>\n",
              "    <tr>\n",
              "      <th>Urban_or_Rural_Area</th>\n",
              "      <td>object</td>\n",
              "    </tr>\n",
              "    <tr>\n",
              "      <th>Weather_Conditions</th>\n",
              "      <td>object</td>\n",
              "    </tr>\n",
              "    <tr>\n",
              "      <th>Vehicle_Type</th>\n",
              "      <td>object</td>\n",
              "    </tr>\n",
              "  </tbody>\n",
              "</table>\n",
              "</div><br><label><b>dtype:</b> object</label>"
            ]
          },
          "metadata": {},
          "execution_count": 19
        }
      ]
    },
    {
      "cell_type": "code",
      "source": [
        "uk['Index'] = uk['Index'].astype('category')\n",
        "uk['Accident_Severity'] = uk['Accident_Severity'].astype('category')\n",
        "uk['Accident Date'] = uk['Accident Date'].astype('category')\n",
        "uk['Light_Conditions'] = uk['Light_Conditions'].astype('category')\n",
        "uk['District Area'] = uk['District Area'].astype('category')\n",
        "uk['Road_Surface_Conditions'] = uk['Road_Surface_Conditions'].astype('category')\n",
        "uk['Road_Type'] = uk['Road_Type'].astype('category')\n",
        "uk['Urban_or_Rural_Area'] = uk['Urban_or_Rural_Area'].astype('category')\n",
        "uk['Weather_Conditions'] = uk['Weather_Conditions'].astype('category')\n",
        "uk['Vehicle_Type'] = uk['Vehicle_Type'].astype('category')"
      ],
      "metadata": {
        "id": "kBTSJaQFus7m"
      },
      "execution_count": null,
      "outputs": []
    },
    {
      "cell_type": "code",
      "source": [
        "uk.dtypes"
      ],
      "metadata": {
        "colab": {
          "base_uri": "https://localhost:8080/",
          "height": 517
        },
        "id": "Dj41s9Z9u976",
        "outputId": "cd77bc36-70c3-4407-97ff-559fc27f6393"
      },
      "execution_count": null,
      "outputs": [
        {
          "output_type": "execute_result",
          "data": {
            "text/plain": [
              "Index                      category\n",
              "Accident_Severity          category\n",
              "Accident Date              category\n",
              "Latitude                    float64\n",
              "Light_Conditions           category\n",
              "District Area              category\n",
              "Longitude                   float64\n",
              "Number_of_Casualties          int64\n",
              "Number_of_Vehicles            int64\n",
              "Road_Surface_Conditions    category\n",
              "Road_Type                  category\n",
              "Urban_or_Rural_Area        category\n",
              "Weather_Conditions         category\n",
              "Vehicle_Type               category\n",
              "dtype: object"
            ],
            "text/html": [
              "<div>\n",
              "<style scoped>\n",
              "    .dataframe tbody tr th:only-of-type {\n",
              "        vertical-align: middle;\n",
              "    }\n",
              "\n",
              "    .dataframe tbody tr th {\n",
              "        vertical-align: top;\n",
              "    }\n",
              "\n",
              "    .dataframe thead th {\n",
              "        text-align: right;\n",
              "    }\n",
              "</style>\n",
              "<table border=\"1\" class=\"dataframe\">\n",
              "  <thead>\n",
              "    <tr style=\"text-align: right;\">\n",
              "      <th></th>\n",
              "      <th>0</th>\n",
              "    </tr>\n",
              "  </thead>\n",
              "  <tbody>\n",
              "    <tr>\n",
              "      <th>Index</th>\n",
              "      <td>category</td>\n",
              "    </tr>\n",
              "    <tr>\n",
              "      <th>Accident_Severity</th>\n",
              "      <td>category</td>\n",
              "    </tr>\n",
              "    <tr>\n",
              "      <th>Accident Date</th>\n",
              "      <td>category</td>\n",
              "    </tr>\n",
              "    <tr>\n",
              "      <th>Latitude</th>\n",
              "      <td>float64</td>\n",
              "    </tr>\n",
              "    <tr>\n",
              "      <th>Light_Conditions</th>\n",
              "      <td>category</td>\n",
              "    </tr>\n",
              "    <tr>\n",
              "      <th>District Area</th>\n",
              "      <td>category</td>\n",
              "    </tr>\n",
              "    <tr>\n",
              "      <th>Longitude</th>\n",
              "      <td>float64</td>\n",
              "    </tr>\n",
              "    <tr>\n",
              "      <th>Number_of_Casualties</th>\n",
              "      <td>int64</td>\n",
              "    </tr>\n",
              "    <tr>\n",
              "      <th>Number_of_Vehicles</th>\n",
              "      <td>int64</td>\n",
              "    </tr>\n",
              "    <tr>\n",
              "      <th>Road_Surface_Conditions</th>\n",
              "      <td>category</td>\n",
              "    </tr>\n",
              "    <tr>\n",
              "      <th>Road_Type</th>\n",
              "      <td>category</td>\n",
              "    </tr>\n",
              "    <tr>\n",
              "      <th>Urban_or_Rural_Area</th>\n",
              "      <td>category</td>\n",
              "    </tr>\n",
              "    <tr>\n",
              "      <th>Weather_Conditions</th>\n",
              "      <td>category</td>\n",
              "    </tr>\n",
              "    <tr>\n",
              "      <th>Vehicle_Type</th>\n",
              "      <td>category</td>\n",
              "    </tr>\n",
              "  </tbody>\n",
              "</table>\n",
              "</div><br><label><b>dtype:</b> object</label>"
            ]
          },
          "metadata": {},
          "execution_count": 33
        }
      ]
    },
    {
      "cell_type": "markdown",
      "source": [
        "<h3>Cleaning empty datas</h3>"
      ],
      "metadata": {
        "id": "Xlbofgf8w5PA"
      }
    },
    {
      "cell_type": "code",
      "source": [
        "uk.isna().sum()"
      ],
      "metadata": {
        "colab": {
          "base_uri": "https://localhost:8080/",
          "height": 517
        },
        "id": "ExdMjw0ow9MW",
        "outputId": "816dd12c-660f-42f0-96b3-cbb1f47f9e44"
      },
      "execution_count": null,
      "outputs": [
        {
          "output_type": "execute_result",
          "data": {
            "text/plain": [
              "Index                          0\n",
              "Accident_Severity              0\n",
              "Accident Date                  0\n",
              "Latitude                      25\n",
              "Light_Conditions               0\n",
              "District Area                  0\n",
              "Longitude                     26\n",
              "Number_of_Casualties           0\n",
              "Number_of_Vehicles             0\n",
              "Road_Surface_Conditions      726\n",
              "Road_Type                   4520\n",
              "Urban_or_Rural_Area           15\n",
              "Weather_Conditions         14128\n",
              "Vehicle_Type                   0\n",
              "dtype: int64"
            ],
            "text/html": [
              "<div>\n",
              "<style scoped>\n",
              "    .dataframe tbody tr th:only-of-type {\n",
              "        vertical-align: middle;\n",
              "    }\n",
              "\n",
              "    .dataframe tbody tr th {\n",
              "        vertical-align: top;\n",
              "    }\n",
              "\n",
              "    .dataframe thead th {\n",
              "        text-align: right;\n",
              "    }\n",
              "</style>\n",
              "<table border=\"1\" class=\"dataframe\">\n",
              "  <thead>\n",
              "    <tr style=\"text-align: right;\">\n",
              "      <th></th>\n",
              "      <th>0</th>\n",
              "    </tr>\n",
              "  </thead>\n",
              "  <tbody>\n",
              "    <tr>\n",
              "      <th>Index</th>\n",
              "      <td>0</td>\n",
              "    </tr>\n",
              "    <tr>\n",
              "      <th>Accident_Severity</th>\n",
              "      <td>0</td>\n",
              "    </tr>\n",
              "    <tr>\n",
              "      <th>Accident Date</th>\n",
              "      <td>0</td>\n",
              "    </tr>\n",
              "    <tr>\n",
              "      <th>Latitude</th>\n",
              "      <td>25</td>\n",
              "    </tr>\n",
              "    <tr>\n",
              "      <th>Light_Conditions</th>\n",
              "      <td>0</td>\n",
              "    </tr>\n",
              "    <tr>\n",
              "      <th>District Area</th>\n",
              "      <td>0</td>\n",
              "    </tr>\n",
              "    <tr>\n",
              "      <th>Longitude</th>\n",
              "      <td>26</td>\n",
              "    </tr>\n",
              "    <tr>\n",
              "      <th>Number_of_Casualties</th>\n",
              "      <td>0</td>\n",
              "    </tr>\n",
              "    <tr>\n",
              "      <th>Number_of_Vehicles</th>\n",
              "      <td>0</td>\n",
              "    </tr>\n",
              "    <tr>\n",
              "      <th>Road_Surface_Conditions</th>\n",
              "      <td>726</td>\n",
              "    </tr>\n",
              "    <tr>\n",
              "      <th>Road_Type</th>\n",
              "      <td>4520</td>\n",
              "    </tr>\n",
              "    <tr>\n",
              "      <th>Urban_or_Rural_Area</th>\n",
              "      <td>15</td>\n",
              "    </tr>\n",
              "    <tr>\n",
              "      <th>Weather_Conditions</th>\n",
              "      <td>14128</td>\n",
              "    </tr>\n",
              "    <tr>\n",
              "      <th>Vehicle_Type</th>\n",
              "      <td>0</td>\n",
              "    </tr>\n",
              "  </tbody>\n",
              "</table>\n",
              "</div><br><label><b>dtype:</b> int64</label>"
            ]
          },
          "metadata": {},
          "execution_count": 34
        }
      ]
    },
    {
      "cell_type": "markdown",
      "source": [
        "<h5>Cleaning empty numerical datas</h5>"
      ],
      "metadata": {
        "id": "E3Rb4FxnxYOp"
      }
    },
    {
      "cell_type": "code",
      "source": [
        "uk['Latitude'] = uk['Latitude'].fillna(uk['Latitude'].mean())\n",
        "uk['Longitude'] = uk['Longitude'].fillna(uk['Longitude'].mean())"
      ],
      "metadata": {
        "id": "UexrGfWiw-38"
      },
      "execution_count": null,
      "outputs": []
    },
    {
      "cell_type": "code",
      "source": [
        "uk.isna().sum()"
      ],
      "metadata": {
        "colab": {
          "base_uri": "https://localhost:8080/",
          "height": 517
        },
        "id": "r3j_ItONxqli",
        "outputId": "fdc545f5-2929-4381-929e-0fe6843c39a7"
      },
      "execution_count": null,
      "outputs": [
        {
          "output_type": "execute_result",
          "data": {
            "text/plain": [
              "Index                          0\n",
              "Accident_Severity              0\n",
              "Accident Date                  0\n",
              "Latitude                       0\n",
              "Light_Conditions               0\n",
              "District Area                  0\n",
              "Longitude                      0\n",
              "Number_of_Casualties           0\n",
              "Number_of_Vehicles             0\n",
              "Road_Surface_Conditions      726\n",
              "Road_Type                   4520\n",
              "Urban_or_Rural_Area           15\n",
              "Weather_Conditions         14128\n",
              "Vehicle_Type                   0\n",
              "dtype: int64"
            ],
            "text/html": [
              "<div>\n",
              "<style scoped>\n",
              "    .dataframe tbody tr th:only-of-type {\n",
              "        vertical-align: middle;\n",
              "    }\n",
              "\n",
              "    .dataframe tbody tr th {\n",
              "        vertical-align: top;\n",
              "    }\n",
              "\n",
              "    .dataframe thead th {\n",
              "        text-align: right;\n",
              "    }\n",
              "</style>\n",
              "<table border=\"1\" class=\"dataframe\">\n",
              "  <thead>\n",
              "    <tr style=\"text-align: right;\">\n",
              "      <th></th>\n",
              "      <th>0</th>\n",
              "    </tr>\n",
              "  </thead>\n",
              "  <tbody>\n",
              "    <tr>\n",
              "      <th>Index</th>\n",
              "      <td>0</td>\n",
              "    </tr>\n",
              "    <tr>\n",
              "      <th>Accident_Severity</th>\n",
              "      <td>0</td>\n",
              "    </tr>\n",
              "    <tr>\n",
              "      <th>Accident Date</th>\n",
              "      <td>0</td>\n",
              "    </tr>\n",
              "    <tr>\n",
              "      <th>Latitude</th>\n",
              "      <td>0</td>\n",
              "    </tr>\n",
              "    <tr>\n",
              "      <th>Light_Conditions</th>\n",
              "      <td>0</td>\n",
              "    </tr>\n",
              "    <tr>\n",
              "      <th>District Area</th>\n",
              "      <td>0</td>\n",
              "    </tr>\n",
              "    <tr>\n",
              "      <th>Longitude</th>\n",
              "      <td>0</td>\n",
              "    </tr>\n",
              "    <tr>\n",
              "      <th>Number_of_Casualties</th>\n",
              "      <td>0</td>\n",
              "    </tr>\n",
              "    <tr>\n",
              "      <th>Number_of_Vehicles</th>\n",
              "      <td>0</td>\n",
              "    </tr>\n",
              "    <tr>\n",
              "      <th>Road_Surface_Conditions</th>\n",
              "      <td>726</td>\n",
              "    </tr>\n",
              "    <tr>\n",
              "      <th>Road_Type</th>\n",
              "      <td>4520</td>\n",
              "    </tr>\n",
              "    <tr>\n",
              "      <th>Urban_or_Rural_Area</th>\n",
              "      <td>15</td>\n",
              "    </tr>\n",
              "    <tr>\n",
              "      <th>Weather_Conditions</th>\n",
              "      <td>14128</td>\n",
              "    </tr>\n",
              "    <tr>\n",
              "      <th>Vehicle_Type</th>\n",
              "      <td>0</td>\n",
              "    </tr>\n",
              "  </tbody>\n",
              "</table>\n",
              "</div><br><label><b>dtype:</b> int64</label>"
            ]
          },
          "metadata": {},
          "execution_count": 41
        }
      ]
    },
    {
      "cell_type": "markdown",
      "source": [
        "<h5>Cleaning non-numerical empty datas </h5>"
      ],
      "metadata": {
        "id": "rt_fWZZGxvap"
      }
    },
    {
      "cell_type": "code",
      "source": [
        "uk['Road_Surface_Conditions'] = uk['Road_Surface_Conditions'].fillna(uk['Road_Surface_Conditions'].mode()[0])\n",
        "uk['Road_Type'] = uk['Road_Type'].fillna(uk['Road_Type'].mode()[0])\n",
        "uk['Urban_or_Rural_Area'] = uk['Urban_or_Rural_Area'].fillna(uk['Urban_or_Rural_Area'].mode()[0])\n",
        "uk['Weather_Conditions'] = uk['Weather_Conditions'].fillna(uk['Weather_Conditions'].mode()[0])"
      ],
      "metadata": {
        "id": "yVl6qUFqxsN2"
      },
      "execution_count": null,
      "outputs": []
    },
    {
      "cell_type": "code",
      "source": [
        "uk.isna().sum()"
      ],
      "metadata": {
        "colab": {
          "base_uri": "https://localhost:8080/",
          "height": 517
        },
        "id": "mHJRfVtOx8Vj",
        "outputId": "dc96e269-22b7-4b3f-d114-b95bf830189b"
      },
      "execution_count": null,
      "outputs": [
        {
          "output_type": "execute_result",
          "data": {
            "text/plain": [
              "Index                      0\n",
              "Accident_Severity          0\n",
              "Accident Date              0\n",
              "Latitude                   0\n",
              "Light_Conditions           0\n",
              "District Area              0\n",
              "Longitude                  0\n",
              "Number_of_Casualties       0\n",
              "Number_of_Vehicles         0\n",
              "Road_Surface_Conditions    0\n",
              "Road_Type                  0\n",
              "Urban_or_Rural_Area        0\n",
              "Weather_Conditions         0\n",
              "Vehicle_Type               0\n",
              "dtype: int64"
            ],
            "text/html": [
              "<div>\n",
              "<style scoped>\n",
              "    .dataframe tbody tr th:only-of-type {\n",
              "        vertical-align: middle;\n",
              "    }\n",
              "\n",
              "    .dataframe tbody tr th {\n",
              "        vertical-align: top;\n",
              "    }\n",
              "\n",
              "    .dataframe thead th {\n",
              "        text-align: right;\n",
              "    }\n",
              "</style>\n",
              "<table border=\"1\" class=\"dataframe\">\n",
              "  <thead>\n",
              "    <tr style=\"text-align: right;\">\n",
              "      <th></th>\n",
              "      <th>0</th>\n",
              "    </tr>\n",
              "  </thead>\n",
              "  <tbody>\n",
              "    <tr>\n",
              "      <th>Index</th>\n",
              "      <td>0</td>\n",
              "    </tr>\n",
              "    <tr>\n",
              "      <th>Accident_Severity</th>\n",
              "      <td>0</td>\n",
              "    </tr>\n",
              "    <tr>\n",
              "      <th>Accident Date</th>\n",
              "      <td>0</td>\n",
              "    </tr>\n",
              "    <tr>\n",
              "      <th>Latitude</th>\n",
              "      <td>0</td>\n",
              "    </tr>\n",
              "    <tr>\n",
              "      <th>Light_Conditions</th>\n",
              "      <td>0</td>\n",
              "    </tr>\n",
              "    <tr>\n",
              "      <th>District Area</th>\n",
              "      <td>0</td>\n",
              "    </tr>\n",
              "    <tr>\n",
              "      <th>Longitude</th>\n",
              "      <td>0</td>\n",
              "    </tr>\n",
              "    <tr>\n",
              "      <th>Number_of_Casualties</th>\n",
              "      <td>0</td>\n",
              "    </tr>\n",
              "    <tr>\n",
              "      <th>Number_of_Vehicles</th>\n",
              "      <td>0</td>\n",
              "    </tr>\n",
              "    <tr>\n",
              "      <th>Road_Surface_Conditions</th>\n",
              "      <td>0</td>\n",
              "    </tr>\n",
              "    <tr>\n",
              "      <th>Road_Type</th>\n",
              "      <td>0</td>\n",
              "    </tr>\n",
              "    <tr>\n",
              "      <th>Urban_or_Rural_Area</th>\n",
              "      <td>0</td>\n",
              "    </tr>\n",
              "    <tr>\n",
              "      <th>Weather_Conditions</th>\n",
              "      <td>0</td>\n",
              "    </tr>\n",
              "    <tr>\n",
              "      <th>Vehicle_Type</th>\n",
              "      <td>0</td>\n",
              "    </tr>\n",
              "  </tbody>\n",
              "</table>\n",
              "</div><br><label><b>dtype:</b> int64</label>"
            ]
          },
          "metadata": {},
          "execution_count": 49
        }
      ]
    },
    {
      "cell_type": "markdown",
      "source": [
        "<h1>Exploratory Data Analytics</h5>"
      ],
      "metadata": {
        "id": "Z-TPEYPty8SX"
      }
    },
    {
      "cell_type": "markdown",
      "source": [
        "<h1>1. What percentages do each accident severity represent on the accident report? and severity had the highest percentag on the report."
      ],
      "metadata": {
        "id": "oHJWFa210scq"
      }
    },
    {
      "cell_type": "code",
      "source": [
        "uk['Accident_Severity'].unique()"
      ],
      "metadata": {
        "id": "hvXlbe1jzA8y",
        "colab": {
          "base_uri": "https://localhost:8080/"
        },
        "outputId": "0742fd96-3b1c-4d79-86f6-cc2b03d5dbf0"
      },
      "execution_count": 51,
      "outputs": [
        {
          "output_type": "execute_result",
          "data": {
            "text/plain": [
              "['Serious', 'Slight', 'Fatal']\n",
              "Categories (3, object): ['Fatal', 'Serious', 'Slight']"
            ]
          },
          "metadata": {},
          "execution_count": 51
        }
      ]
    },
    {
      "cell_type": "code",
      "source": [
        "severity = uk['Accident_Severity']"
      ],
      "metadata": {
        "id": "V56FAAZ1006R"
      },
      "execution_count": 53,
      "outputs": []
    },
    {
      "cell_type": "code",
      "source": [
        "Slight, Serious, Fatal = severity.value_counts()"
      ],
      "metadata": {
        "id": "u-1PWzbc1lKE"
      },
      "execution_count": 56,
      "outputs": []
    },
    {
      "cell_type": "markdown",
      "source": [
        "<p>Percentage of Slight category</p>"
      ],
      "metadata": {
        "id": "dLSJQdTn2VWO"
      }
    },
    {
      "cell_type": "code",
      "source": [
        "(Slight / len(uk)) * 100"
      ],
      "metadata": {
        "colab": {
          "base_uri": "https://localhost:8080/"
        },
        "id": "4sbPTqKu1wIc",
        "outputId": "5d36b6cd-43df-4a2d-d5ab-49e9cf1d8b1f"
      },
      "execution_count": 58,
      "outputs": [
        {
          "output_type": "execute_result",
          "data": {
            "text/plain": [
              "85.33660067899842"
            ]
          },
          "metadata": {},
          "execution_count": 58
        }
      ]
    },
    {
      "cell_type": "markdown",
      "source": [
        "<p>Slight severity consumes <strong>85%</strong> of overall reports</p>"
      ],
      "metadata": {
        "id": "wqaxOvO_2j0w"
      }
    },
    {
      "cell_type": "markdown",
      "source": [
        "<p>Percentage serious category</p>"
      ],
      "metadata": {
        "id": "bnBBJEiD3WQE"
      }
    },
    {
      "cell_type": "code",
      "source": [
        "(Serious / len(uk)) * 100"
      ],
      "metadata": {
        "colab": {
          "base_uri": "https://localhost:8080/"
        },
        "id": "lE12EHxB2fii",
        "outputId": "86f2a33b-be9b-44d2-a7d2-54eb01f36bf2"
      },
      "execution_count": 59,
      "outputs": [
        {
          "output_type": "execute_result",
          "data": {
            "text/plain": [
              "13.352475256516403"
            ]
          },
          "metadata": {},
          "execution_count": 59
        }
      ]
    },
    {
      "cell_type": "markdown",
      "source": [
        "<p>Serious severity consumes <strong>13%</strong> of overall reports</p>"
      ],
      "metadata": {
        "id": "lGx5hZ-F3lGg"
      }
    },
    {
      "cell_type": "code",
      "source": [
        "(Fatal / len(uk)) * 100"
      ],
      "metadata": {
        "colab": {
          "base_uri": "https://localhost:8080/"
        },
        "id": "5euT6aRy3qF2",
        "outputId": "2951967c-0921-41df-be4f-56ed19f5e920"
      },
      "execution_count": 60,
      "outputs": [
        {
          "output_type": "execute_result",
          "data": {
            "text/plain": [
              "1.3109240644851736"
            ]
          },
          "metadata": {},
          "execution_count": 60
        }
      ]
    },
    {
      "cell_type": "markdown",
      "source": [
        "<p>Fatak severity consumes <strong>1</strong> of overall reports</p>"
      ],
      "metadata": {
        "id": "qp0zFxP-4njk"
      }
    },
    {
      "cell_type": "markdown",
      "source": [
        "<h1>Insight # 1: </h1>"
      ],
      "metadata": {
        "id": "esCsxv-h4smd"
      }
    }
  ]
}